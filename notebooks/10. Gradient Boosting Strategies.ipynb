{
  "nbformat": 4,
  "nbformat_minor": 0,
  "metadata": {
    "colab": {
      "provenance": []
    },
    "kernelspec": {
      "name": "python3",
      "display_name": "Python 3"
    },
    "language_info": {
      "name": "python"
    },
    "widgets": {
      "application/vnd.jupyter.widget-state+json": {
        "e2da1e3802234623a9059e60dd4681c3": {
          "model_module": "catboost-widget",
          "model_name": "CatboostWidgetModel",
          "model_module_version": "^1.0.0",
          "state": {
            "_dom_classes": [],
            "_model_module": "catboost-widget",
            "_model_module_version": "^1.0.0",
            "_model_name": "CatboostWidgetModel",
            "_view_count": null,
            "_view_module": "catboost-widget",
            "_view_module_version": "^1.0.0",
            "_view_name": "CatboostWidgetView",
            "data": {
              "catboost_info": {
                "path": "catboost_info",
                "name": "catboost_info",
                "content": {
                  "passed_iterations": 999,
                  "total_iterations": 1000,
                  "data": {
                    "iterations": [
                      {
                        "learn": [
                          0.2697626671
                        ],
                        "iteration": 0,
                        "passed_time": 0.1216260122,
                        "remaining_time": 121.5043862
                      },
                      {
                        "learn": [
                          0.1119209043
                        ],
                        "iteration": 1,
                        "passed_time": 0.2533218775,
                        "remaining_time": 126.4076169
                      },
                      {
                        "learn": [
                          0.05897508198
                        ],
                        "iteration": 2,
                        "passed_time": 0.3533169715,
                        "remaining_time": 117.4190069
                      },
                      {
                        "learn": [
                          0.03861122316
                        ],
                        "iteration": 3,
                        "passed_time": 0.4912203455,
                        "remaining_time": 122.313866
                      },
                      {
                        "learn": [
                          0.0303348107
                        ],
                        "iteration": 4,
                        "passed_time": 0.6154715883,
                        "remaining_time": 122.4788461
                      },
                      {
                        "learn": [
                          0.02652063762
                        ],
                        "iteration": 5,
                        "passed_time": 0.7111155523,
                        "remaining_time": 117.8081432
                      },
                      {
                        "learn": [
                          0.02439555508
                        ],
                        "iteration": 6,
                        "passed_time": 0.8406932917,
                        "remaining_time": 119.2583484
                      },
                      {
                        "learn": [
                          0.02310477456
                        ],
                        "iteration": 7,
                        "passed_time": 0.9852220032,
                        "remaining_time": 122.1675284
                      },
                      {
                        "learn": [
                          0.02226925143
                        ],
                        "iteration": 8,
                        "passed_time": 1.114662484,
                        "remaining_time": 122.7367247
                      },
                      {
                        "learn": [
                          0.02169792806
                        ],
                        "iteration": 9,
                        "passed_time": 1.250361437,
                        "remaining_time": 123.7857823
                      },
                      {
                        "learn": [
                          0.0212773259
                        ],
                        "iteration": 10,
                        "passed_time": 1.39909856,
                        "remaining_time": 125.7916796
                      },
                      {
                        "learn": [
                          0.02098991816
                        ],
                        "iteration": 11,
                        "passed_time": 1.518283333,
                        "remaining_time": 125.0053278
                      },
                      {
                        "learn": [
                          0.02074947366
                        ],
                        "iteration": 12,
                        "passed_time": 1.622550278,
                        "remaining_time": 123.1890096
                      },
                      {
                        "learn": [
                          0.02053995625
                        ],
                        "iteration": 13,
                        "passed_time": 1.787281958,
                        "remaining_time": 125.875715
                      },
                      {
                        "learn": [
                          0.02039435406
                        ],
                        "iteration": 14,
                        "passed_time": 1.9287953,
                        "remaining_time": 126.657558
                      },
                      {
                        "learn": [
                          0.0202873281
                        ],
                        "iteration": 15,
                        "passed_time": 2.069370582,
                        "remaining_time": 127.2662908
                      },
                      {
                        "learn": [
                          0.02020788083
                        ],
                        "iteration": 16,
                        "passed_time": 2.233197122,
                        "remaining_time": 129.1313394
                      },
                      {
                        "learn": [
                          0.02014180409
                        ],
                        "iteration": 17,
                        "passed_time": 2.370571973,
                        "remaining_time": 129.327871
                      },
                      {
                        "learn": [
                          0.02008401533
                        ],
                        "iteration": 18,
                        "passed_time": 2.510404334,
                        "remaining_time": 129.6161396
                      },
                      {
                        "learn": [
                          0.02000920236
                        ],
                        "iteration": 19,
                        "passed_time": 2.647199586,
                        "remaining_time": 129.7127797
                      },
                      {
                        "learn": [
                          0.01997339674
                        ],
                        "iteration": 20,
                        "passed_time": 2.767842437,
                        "remaining_time": 129.0341784
                      },
                      {
                        "learn": [
                          0.01993560307
                        ],
                        "iteration": 21,
                        "passed_time": 2.839525563,
                        "remaining_time": 126.2298182
                      },
                      {
                        "learn": [
                          0.01989021612
                        ],
                        "iteration": 22,
                        "passed_time": 2.957598244,
                        "remaining_time": 125.6336298
                      },
                      {
                        "learn": [
                          0.01985890109
                        ],
                        "iteration": 23,
                        "passed_time": 3.091979568,
                        "remaining_time": 125.7405024
                      },
                      {
                        "learn": [
                          0.0198244804
                        ],
                        "iteration": 24,
                        "passed_time": 3.226032459,
                        "remaining_time": 125.8152659
                      },
                      {
                        "learn": [
                          0.0198024094
                        ],
                        "iteration": 25,
                        "passed_time": 3.370190004,
                        "remaining_time": 126.2525024
                      },
                      {
                        "learn": [
                          0.01978212093
                        ],
                        "iteration": 26,
                        "passed_time": 3.573982139,
                        "remaining_time": 128.7957267
                      },
                      {
                        "learn": [
                          0.01976073346
                        ],
                        "iteration": 27,
                        "passed_time": 3.725441435,
                        "remaining_time": 129.3260384
                      },
                      {
                        "learn": [
                          0.01973580102
                        ],
                        "iteration": 28,
                        "passed_time": 3.850553834,
                        "remaining_time": 128.9271646
                      },
                      {
                        "learn": [
                          0.01971658178
                        ],
                        "iteration": 29,
                        "passed_time": 3.931936637,
                        "remaining_time": 127.1326179
                      },
                      {
                        "learn": [
                          0.01969700737
                        ],
                        "iteration": 30,
                        "passed_time": 4.037127203,
                        "remaining_time": 126.1927826
                      },
                      {
                        "learn": [
                          0.01968113281
                        ],
                        "iteration": 31,
                        "passed_time": 4.171712798,
                        "remaining_time": 126.1943121
                      },
                      {
                        "learn": [
                          0.0196677742
                        ],
                        "iteration": 32,
                        "passed_time": 4.265534532,
                        "remaining_time": 124.9930876
                      },
                      {
                        "learn": [
                          0.01965103518
                        ],
                        "iteration": 33,
                        "passed_time": 4.379535315,
                        "remaining_time": 124.4303269
                      },
                      {
                        "learn": [
                          0.01963462675
                        ],
                        "iteration": 34,
                        "passed_time": 4.478077876,
                        "remaining_time": 123.4670043
                      },
                      {
                        "learn": [
                          0.01961471207
                        ],
                        "iteration": 35,
                        "passed_time": 4.605735362,
                        "remaining_time": 123.331358
                      },
                      {
                        "learn": [
                          0.01960058282
                        ],
                        "iteration": 36,
                        "passed_time": 4.749856869,
                        "remaining_time": 123.6246531
                      },
                      {
                        "learn": [
                          0.01958973123
                        ],
                        "iteration": 37,
                        "passed_time": 4.873020496,
                        "remaining_time": 123.364361
                      },
                      {
                        "learn": [
                          0.01957941574
                        ],
                        "iteration": 38,
                        "passed_time": 5.004466425,
                        "remaining_time": 123.3151855
                      },
                      {
                        "learn": [
                          0.01956241835
                        ],
                        "iteration": 39,
                        "passed_time": 5.137275964,
                        "remaining_time": 123.2946231
                      },
                      {
                        "learn": [
                          0.0195505988
                        ],
                        "iteration": 40,
                        "passed_time": 5.282907054,
                        "remaining_time": 123.5684845
                      },
                      {
                        "learn": [
                          0.0195386899
                        ],
                        "iteration": 41,
                        "passed_time": 5.410079895,
                        "remaining_time": 123.4013462
                      },
                      {
                        "learn": [
                          0.01952991049
                        ],
                        "iteration": 42,
                        "passed_time": 5.513110605,
                        "remaining_time": 122.6987639
                      },
                      {
                        "learn": [
                          0.01952317497
                        ],
                        "iteration": 43,
                        "passed_time": 5.621538117,
                        "remaining_time": 122.1406918
                      },
                      {
                        "learn": [
                          0.01951613789
                        ],
                        "iteration": 44,
                        "passed_time": 5.770273203,
                        "remaining_time": 122.4580202
                      },
                      {
                        "learn": [
                          0.0195034993
                        ],
                        "iteration": 45,
                        "passed_time": 5.893209908,
                        "remaining_time": 122.220049
                      },
                      {
                        "learn": [
                          0.01949186664
                        ],
                        "iteration": 46,
                        "passed_time": 6.060542854,
                        "remaining_time": 122.8871775
                      },
                      {
                        "learn": [
                          0.01948064946
                        ],
                        "iteration": 47,
                        "passed_time": 6.176054003,
                        "remaining_time": 122.4917377
                      },
                      {
                        "learn": [
                          0.01947070776
                        ],
                        "iteration": 48,
                        "passed_time": 6.31204039,
                        "remaining_time": 122.5051104
                      },
                      {
                        "learn": [
                          0.01946497669
                        ],
                        "iteration": 49,
                        "passed_time": 6.400821448,
                        "remaining_time": 121.6156075
                      },
                      {
                        "learn": [
                          0.01944973874
                        ],
                        "iteration": 50,
                        "passed_time": 6.505245761,
                        "remaining_time": 121.0485927
                      },
                      {
                        "learn": [
                          0.0194395007
                        ],
                        "iteration": 51,
                        "passed_time": 6.751760696,
                        "remaining_time": 123.0897912
                      },
                      {
                        "learn": [
                          0.01942687104
                        ],
                        "iteration": 52,
                        "passed_time": 6.993159991,
                        "remaining_time": 124.9532549
                      },
                      {
                        "learn": [
                          0.01941895237
                        ],
                        "iteration": 53,
                        "passed_time": 7.202661085,
                        "remaining_time": 126.1799516
                      },
                      {
                        "learn": [
                          0.01940707847
                        ],
                        "iteration": 54,
                        "passed_time": 7.343156627,
                        "remaining_time": 126.168782
                      },
                      {
                        "learn": [
                          0.01939404003
                        ],
                        "iteration": 55,
                        "passed_time": 7.44535099,
                        "remaining_time": 125.5073453
                      },
                      {
                        "learn": [
                          0.01937773361
                        ],
                        "iteration": 56,
                        "passed_time": 7.546836068,
                        "remaining_time": 124.8537967
                      },
                      {
                        "learn": [
                          0.01936927587
                        ],
                        "iteration": 57,
                        "passed_time": 7.649495739,
                        "remaining_time": 124.2383618
                      },
                      {
                        "learn": [
                          0.01935939
                        ],
                        "iteration": 58,
                        "passed_time": 7.753481638,
                        "remaining_time": 123.6614614
                      },
                      {
                        "learn": [
                          0.01934879083
                        ],
                        "iteration": 59,
                        "passed_time": 7.89184371,
                        "remaining_time": 123.6388848
                      },
                      {
                        "learn": [
                          0.01933802413
                        ],
                        "iteration": 60,
                        "passed_time": 8.066931444,
                        "remaining_time": 124.1778463
                      },
                      {
                        "learn": [
                          0.01932709585
                        ],
                        "iteration": 61,
                        "passed_time": 8.216545921,
                        "remaining_time": 124.3083883
                      },
                      {
                        "learn": [
                          0.01932116969
                        ],
                        "iteration": 62,
                        "passed_time": 8.372501289,
                        "remaining_time": 124.5243446
                      },
                      {
                        "learn": [
                          0.01930734572
                        ],
                        "iteration": 63,
                        "passed_time": 8.51450179,
                        "remaining_time": 124.5245887
                      },
                      {
                        "learn": [
                          0.01929877182
                        ],
                        "iteration": 64,
                        "passed_time": 8.639285725,
                        "remaining_time": 124.2728024
                      },
                      {
                        "learn": [
                          0.01929119268
                        ],
                        "iteration": 65,
                        "passed_time": 8.781488298,
                        "remaining_time": 124.2713647
                      },
                      {
                        "learn": [
                          0.01928598654
                        ],
                        "iteration": 66,
                        "passed_time": 8.925355139,
                        "remaining_time": 124.2889007
                      },
                      {
                        "learn": [
                          0.01927755188
                        ],
                        "iteration": 67,
                        "passed_time": 9.05028962,
                        "remaining_time": 124.0422048
                      },
                      {
                        "learn": [
                          0.01926856473
                        ],
                        "iteration": 68,
                        "passed_time": 9.204779061,
                        "remaining_time": 124.197816
                      },
                      {
                        "learn": [
                          0.01926230128
                        ],
                        "iteration": 69,
                        "passed_time": 9.478335967,
                        "remaining_time": 125.9264636
                      },
                      {
                        "learn": [
                          0.01925617408
                        ],
                        "iteration": 70,
                        "passed_time": 9.749738615,
                        "remaining_time": 127.5705236
                      },
                      {
                        "learn": [
                          0.0192492688
                        ],
                        "iteration": 71,
                        "passed_time": 9.960992526,
                        "remaining_time": 128.3861259
                      },
                      {
                        "learn": [
                          0.01924062342
                        ],
                        "iteration": 72,
                        "passed_time": 10.22203506,
                        "remaining_time": 129.8058425
                      },
                      {
                        "learn": [
                          0.01923342477
                        ],
                        "iteration": 73,
                        "passed_time": 10.43669881,
                        "remaining_time": 130.5997716
                      },
                      {
                        "learn": [
                          0.01923244638
                        ],
                        "iteration": 74,
                        "passed_time": 10.61192029,
                        "remaining_time": 130.8803502
                      },
                      {
                        "learn": [
                          0.01922361783
                        ],
                        "iteration": 75,
                        "passed_time": 10.7995213,
                        "remaining_time": 131.2994431
                      },
                      {
                        "learn": [
                          0.01922309439
                        ],
                        "iteration": 76,
                        "passed_time": 10.97018748,
                        "remaining_time": 131.4997798
                      },
                      {
                        "learn": [
                          0.01921380717
                        ],
                        "iteration": 77,
                        "passed_time": 11.13824127,
                        "remaining_time": 131.6597237
                      },
                      {
                        "learn": [
                          0.0192038744
                        ],
                        "iteration": 78,
                        "passed_time": 11.30113826,
                        "remaining_time": 131.7512448
                      },
                      {
                        "learn": [
                          0.01919946571
                        ],
                        "iteration": 79,
                        "passed_time": 11.46028085,
                        "remaining_time": 131.7932298
                      },
                      {
                        "learn": [
                          0.01919291634
                        ],
                        "iteration": 80,
                        "passed_time": 11.62080976,
                        "remaining_time": 131.8459774
                      },
                      {
                        "learn": [
                          0.01918642132
                        ],
                        "iteration": 81,
                        "passed_time": 11.84129395,
                        "remaining_time": 132.5647298
                      },
                      {
                        "learn": [
                          0.01917576407
                        ],
                        "iteration": 82,
                        "passed_time": 12.04350053,
                        "remaining_time": 133.0589155
                      },
                      {
                        "learn": [
                          0.01917009033
                        ],
                        "iteration": 83,
                        "passed_time": 12.2328882,
                        "remaining_time": 133.3967332
                      },
                      {
                        "learn": [
                          0.0191648142
                        ],
                        "iteration": 84,
                        "passed_time": 12.36438881,
                        "remaining_time": 133.099009
                      },
                      {
                        "learn": [
                          0.01915187181
                        ],
                        "iteration": 85,
                        "passed_time": 12.50138783,
                        "remaining_time": 132.8635869
                      },
                      {
                        "learn": [
                          0.01914792551
                        ],
                        "iteration": 86,
                        "passed_time": 12.63679593,
                        "remaining_time": 132.613732
                      },
                      {
                        "learn": [
                          0.01914032553
                        ],
                        "iteration": 87,
                        "passed_time": 12.77401357,
                        "remaining_time": 132.3852316
                      },
                      {
                        "learn": [
                          0.01913545817
                        ],
                        "iteration": 88,
                        "passed_time": 12.90485479,
                        "remaining_time": 132.0935136
                      },
                      {
                        "learn": [
                          0.01911892465
                        ],
                        "iteration": 89,
                        "passed_time": 13.04923235,
                        "remaining_time": 131.9422383
                      },
                      {
                        "learn": [
                          0.01911487336
                        ],
                        "iteration": 90,
                        "passed_time": 13.17812276,
                        "remaining_time": 131.6364131
                      },
                      {
                        "learn": [
                          0.0191039503
                        ],
                        "iteration": 91,
                        "passed_time": 13.25555187,
                        "remaining_time": 130.8265337
                      },
                      {
                        "learn": [
                          0.01909625352
                        ],
                        "iteration": 92,
                        "passed_time": 13.3580494,
                        "remaining_time": 130.2768904
                      },
                      {
                        "learn": [
                          0.01909246656
                        ],
                        "iteration": 93,
                        "passed_time": 13.49762735,
                        "remaining_time": 130.094153
                      },
                      {
                        "learn": [
                          0.01908849717
                        ],
                        "iteration": 94,
                        "passed_time": 13.6306387,
                        "remaining_time": 129.8497686
                      },
                      {
                        "learn": [
                          0.01908150105
                        ],
                        "iteration": 95,
                        "passed_time": 13.76970577,
                        "remaining_time": 129.6647294
                      },
                      {
                        "learn": [
                          0.01907686749
                        ],
                        "iteration": 96,
                        "passed_time": 13.89177287,
                        "remaining_time": 129.3223804
                      },
                      {
                        "learn": [
                          0.01907227489
                        ],
                        "iteration": 97,
                        "passed_time": 14.01329115,
                        "remaining_time": 128.9794757
                      },
                      {
                        "learn": [
                          0.01906458034
                        ],
                        "iteration": 98,
                        "passed_time": 14.15055633,
                        "remaining_time": 128.7843561
                      },
                      {
                        "learn": [
                          0.01904896713
                        ],
                        "iteration": 99,
                        "passed_time": 14.28584766,
                        "remaining_time": 128.5726289
                      },
                      {
                        "learn": [
                          0.01904285855
                        ],
                        "iteration": 100,
                        "passed_time": 14.4141285,
                        "remaining_time": 128.3000151
                      },
                      {
                        "learn": [
                          0.01903593986
                        ],
                        "iteration": 101,
                        "passed_time": 14.52650152,
                        "remaining_time": 127.8901801
                      },
                      {
                        "learn": [
                          0.01902690209
                        ],
                        "iteration": 102,
                        "passed_time": 14.60522211,
                        "remaining_time": 127.1930508
                      },
                      {
                        "learn": [
                          0.01901844211
                        ],
                        "iteration": 103,
                        "passed_time": 14.68937962,
                        "remaining_time": 126.5546552
                      },
                      {
                        "learn": [
                          0.0190131079
                        ],
                        "iteration": 104,
                        "passed_time": 14.82116419,
                        "remaining_time": 126.3327804
                      },
                      {
                        "learn": [
                          0.01900778634
                        ],
                        "iteration": 105,
                        "passed_time": 14.96611192,
                        "remaining_time": 126.2236232
                      },
                      {
                        "learn": [
                          0.01900361964
                        ],
                        "iteration": 106,
                        "passed_time": 15.1553227,
                        "remaining_time": 126.4832072
                      },
                      {
                        "learn": [
                          0.01899414331
                        ],
                        "iteration": 107,
                        "passed_time": 15.30451271,
                        "remaining_time": 126.4039383
                      },
                      {
                        "learn": [
                          0.01898933179
                        ],
                        "iteration": 108,
                        "passed_time": 15.43873381,
                        "remaining_time": 126.2010259
                      },
                      {
                        "learn": [
                          0.01898629538
                        ],
                        "iteration": 109,
                        "passed_time": 15.53953186,
                        "remaining_time": 125.7289396
                      },
                      {
                        "learn": [
                          0.01898218526
                        ],
                        "iteration": 110,
                        "passed_time": 15.66615425,
                        "remaining_time": 125.4703705
                      },
                      {
                        "learn": [
                          0.01897682872
                        ],
                        "iteration": 111,
                        "passed_time": 15.83732565,
                        "remaining_time": 125.5673677
                      },
                      {
                        "learn": [
                          0.01896425192
                        ],
                        "iteration": 112,
                        "passed_time": 15.97079171,
                        "remaining_time": 125.3636482
                      },
                      {
                        "learn": [
                          0.01895744716
                        ],
                        "iteration": 113,
                        "passed_time": 16.10951432,
                        "remaining_time": 125.2020148
                      },
                      {
                        "learn": [
                          0.01895434819
                        ],
                        "iteration": 114,
                        "passed_time": 16.24299643,
                        "remaining_time": 125.0004508
                      },
                      {
                        "learn": [
                          0.01894798348
                        ],
                        "iteration": 115,
                        "passed_time": 16.35367068,
                        "remaining_time": 124.6262489
                      },
                      {
                        "learn": [
                          0.018944096
                        ],
                        "iteration": 116,
                        "passed_time": 16.43064774,
                        "remaining_time": 124.0022389
                      },
                      {
                        "learn": [
                          0.01893893379
                        ],
                        "iteration": 117,
                        "passed_time": 16.55134312,
                        "remaining_time": 123.7142766
                      },
                      {
                        "learn": [
                          0.01893067038
                        ],
                        "iteration": 118,
                        "passed_time": 16.6822247,
                        "remaining_time": 123.5045375
                      },
                      {
                        "learn": [
                          0.01892381647
                        ],
                        "iteration": 119,
                        "passed_time": 16.82805037,
                        "remaining_time": 123.4057027
                      },
                      {
                        "learn": [
                          0.01891751579
                        ],
                        "iteration": 120,
                        "passed_time": 16.96171181,
                        "remaining_time": 123.2177247
                      },
                      {
                        "learn": [
                          0.0189109061
                        ],
                        "iteration": 121,
                        "passed_time": 17.10775897,
                        "remaining_time": 123.1197736
                      },
                      {
                        "learn": [
                          0.01890724795
                        ],
                        "iteration": 122,
                        "passed_time": 17.23587989,
                        "remaining_time": 122.8932249
                      },
                      {
                        "learn": [
                          0.01890307232
                        ],
                        "iteration": 123,
                        "passed_time": 17.30907358,
                        "remaining_time": 122.2802295
                      },
                      {
                        "learn": [
                          0.01889865469
                        ],
                        "iteration": 124,
                        "passed_time": 17.43687705,
                        "remaining_time": 122.0581393
                      },
                      {
                        "learn": [
                          0.01889370097
                        ],
                        "iteration": 125,
                        "passed_time": 17.51579406,
                        "remaining_time": 121.4984445
                      },
                      {
                        "learn": [
                          0.01888896242
                        ],
                        "iteration": 126,
                        "passed_time": 17.6251604,
                        "remaining_time": 121.1556302
                      },
                      {
                        "learn": [
                          0.01888428419
                        ],
                        "iteration": 127,
                        "passed_time": 17.70523099,
                        "remaining_time": 120.6168861
                      },
                      {
                        "learn": [
                          0.01887563732
                        ],
                        "iteration": 128,
                        "passed_time": 17.82889208,
                        "remaining_time": 120.3795737
                      },
                      {
                        "learn": [
                          0.01887314073
                        ],
                        "iteration": 129,
                        "passed_time": 17.90674987,
                        "remaining_time": 119.8374799
                      },
                      {
                        "learn": [
                          0.01886929867
                        ],
                        "iteration": 130,
                        "passed_time": 18.01251993,
                        "remaining_time": 119.4876322
                      },
                      {
                        "learn": [
                          0.01886664497
                        ],
                        "iteration": 131,
                        "passed_time": 18.15062291,
                        "remaining_time": 119.3540961
                      },
                      {
                        "learn": [
                          0.01886246188
                        ],
                        "iteration": 132,
                        "passed_time": 18.29581871,
                        "remaining_time": 119.266728
                      },
                      {
                        "learn": [
                          0.0188497332
                        ],
                        "iteration": 133,
                        "passed_time": 18.41644959,
                        "remaining_time": 119.0197414
                      },
                      {
                        "learn": [
                          0.01884214215
                        ],
                        "iteration": 134,
                        "passed_time": 18.53752392,
                        "remaining_time": 118.7774681
                      },
                      {
                        "learn": [
                          0.01883238957
                        ],
                        "iteration": 135,
                        "passed_time": 18.62094911,
                        "remaining_time": 118.2977943
                      },
                      {
                        "learn": [
                          0.01882863388
                        ],
                        "iteration": 136,
                        "passed_time": 18.71672528,
                        "remaining_time": 117.9017074
                      },
                      {
                        "learn": [
                          0.01882072266
                        ],
                        "iteration": 137,
                        "passed_time": 18.81800883,
                        "remaining_time": 117.544374
                      },
                      {
                        "learn": [
                          0.01881736681
                        ],
                        "iteration": 138,
                        "passed_time": 18.88868572,
                        "remaining_time": 117.0011396
                      },
                      {
                        "learn": [
                          0.01881357538
                        ],
                        "iteration": 139,
                        "passed_time": 18.96143796,
                        "remaining_time": 116.4774046
                      },
                      {
                        "learn": [
                          0.01880867378
                        ],
                        "iteration": 140,
                        "passed_time": 19.08174823,
                        "remaining_time": 116.2497995
                      },
                      {
                        "learn": [
                          0.01880533952
                        ],
                        "iteration": 141,
                        "passed_time": 19.23025372,
                        "remaining_time": 116.1940683
                      },
                      {
                        "learn": [
                          0.01880114602
                        ],
                        "iteration": 142,
                        "passed_time": 19.36321839,
                        "remaining_time": 116.0439032
                      },
                      {
                        "learn": [
                          0.01879906192
                        ],
                        "iteration": 143,
                        "passed_time": 19.49444699,
                        "remaining_time": 115.8836571
                      },
                      {
                        "learn": [
                          0.01879583415
                        ],
                        "iteration": 144,
                        "passed_time": 19.62061225,
                        "remaining_time": 115.693955
                      },
                      {
                        "learn": [
                          0.01879449613
                        ],
                        "iteration": 145,
                        "passed_time": 19.75310979,
                        "remaining_time": 115.5421627
                      },
                      {
                        "learn": [
                          0.01879177541
                        ],
                        "iteration": 146,
                        "passed_time": 19.89976596,
                        "remaining_time": 115.4727916
                      },
                      {
                        "learn": [
                          0.01879060716
                        ],
                        "iteration": 147,
                        "passed_time": 20.03055844,
                        "remaining_time": 115.3110526
                      },
                      {
                        "learn": [
                          0.01878497586
                        ],
                        "iteration": 148,
                        "passed_time": 20.1609059,
                        "remaining_time": 115.1471874
                      },
                      {
                        "learn": [
                          0.01878297962
                        ],
                        "iteration": 149,
                        "passed_time": 20.28690501,
                        "remaining_time": 114.9591284
                      },
                      {
                        "learn": [
                          0.01877929765
                        ],
                        "iteration": 150,
                        "passed_time": 20.41177811,
                        "remaining_time": 114.7655604
                      },
                      {
                        "learn": [
                          0.01877319801
                        ],
                        "iteration": 151,
                        "passed_time": 20.53182708,
                        "remaining_time": 114.5459827
                      },
                      {
                        "learn": [
                          0.01876419001
                        ],
                        "iteration": 152,
                        "passed_time": 20.60789481,
                        "remaining_time": 114.0842281
                      },
                      {
                        "learn": [
                          0.01876158992
                        ],
                        "iteration": 153,
                        "passed_time": 20.67871868,
                        "remaining_time": 113.5986754
                      },
                      {
                        "learn": [
                          0.01875811196
                        ],
                        "iteration": 154,
                        "passed_time": 20.76365063,
                        "remaining_time": 113.1953857
                      },
                      {
                        "learn": [
                          0.01875438531
                        ],
                        "iteration": 155,
                        "passed_time": 20.90279162,
                        "remaining_time": 113.0894624
                      },
                      {
                        "learn": [
                          0.01875021265
                        ],
                        "iteration": 156,
                        "passed_time": 21.03866541,
                        "remaining_time": 112.9655729
                      },
                      {
                        "learn": [
                          0.01874572876
                        ],
                        "iteration": 157,
                        "passed_time": 21.11920085,
                        "remaining_time": 112.5466273
                      },
                      {
                        "learn": [
                          0.01873967677
                        ],
                        "iteration": 158,
                        "passed_time": 21.23292264,
                        "remaining_time": 112.3074713
                      },
                      {
                        "learn": [
                          0.0187345503
                        ],
                        "iteration": 159,
                        "passed_time": 21.3590702,
                        "remaining_time": 112.1351185
                      },
                      {
                        "learn": [
                          0.01872823994
                        ],
                        "iteration": 160,
                        "passed_time": 21.44887148,
                        "remaining_time": 111.7739328
                      },
                      {
                        "learn": [
                          0.01872186033
                        ],
                        "iteration": 161,
                        "passed_time": 21.53275535,
                        "remaining_time": 111.3854876
                      },
                      {
                        "learn": [
                          0.01871918131
                        ],
                        "iteration": 162,
                        "passed_time": 21.66513241,
                        "remaining_time": 111.2497903
                      },
                      {
                        "learn": [
                          0.01871706073
                        ],
                        "iteration": 163,
                        "passed_time": 21.79210329,
                        "remaining_time": 111.0865753
                      },
                      {
                        "learn": [
                          0.01871553806
                        ],
                        "iteration": 164,
                        "passed_time": 21.89113596,
                        "remaining_time": 110.7824153
                      },
                      {
                        "learn": [
                          0.01871302955
                        ],
                        "iteration": 165,
                        "passed_time": 21.9823475,
                        "remaining_time": 110.4414326
                      },
                      {
                        "learn": [
                          0.01871090078
                        ],
                        "iteration": 166,
                        "passed_time": 22.05672182,
                        "remaining_time": 110.0194568
                      },
                      {
                        "learn": [
                          0.01870903112
                        ],
                        "iteration": 167,
                        "passed_time": 22.17196052,
                        "remaining_time": 109.8039949
                      },
                      {
                        "learn": [
                          0.01870647571
                        ],
                        "iteration": 168,
                        "passed_time": 22.32140545,
                        "remaining_time": 109.7579167
                      },
                      {
                        "learn": [
                          0.01870365149
                        ],
                        "iteration": 169,
                        "passed_time": 22.50630927,
                        "remaining_time": 109.8837453
                      },
                      {
                        "learn": [
                          0.01869922791
                        ],
                        "iteration": 170,
                        "passed_time": 22.67534234,
                        "remaining_time": 109.9289988
                      },
                      {
                        "learn": [
                          0.01869758908
                        ],
                        "iteration": 171,
                        "passed_time": 22.81095079,
                        "remaining_time": 109.8108562
                      },
                      {
                        "learn": [
                          0.01869492346
                        ],
                        "iteration": 172,
                        "passed_time": 23.01732561,
                        "remaining_time": 110.0307993
                      },
                      {
                        "learn": [
                          0.01869301881
                        ],
                        "iteration": 173,
                        "passed_time": 23.17763138,
                        "remaining_time": 110.0271467
                      },
                      {
                        "learn": [
                          0.01868934205
                        ],
                        "iteration": 174,
                        "passed_time": 23.37733829,
                        "remaining_time": 110.2074519
                      },
                      {
                        "learn": [
                          0.01868546946
                        ],
                        "iteration": 175,
                        "passed_time": 23.56372719,
                        "remaining_time": 110.3210864
                      },
                      {
                        "learn": [
                          0.01868209947
                        ],
                        "iteration": 176,
                        "passed_time": 23.75848586,
                        "remaining_time": 110.4702478
                      },
                      {
                        "learn": [
                          0.01867783746
                        ],
                        "iteration": 177,
                        "passed_time": 23.95599151,
                        "remaining_time": 110.6282305
                      },
                      {
                        "learn": [
                          0.01867476902
                        ],
                        "iteration": 178,
                        "passed_time": 24.11398898,
                        "remaining_time": 110.6010332
                      },
                      {
                        "learn": [
                          0.01866895605
                        ],
                        "iteration": 179,
                        "passed_time": 24.25966923,
                        "remaining_time": 110.5162709
                      },
                      {
                        "learn": [
                          0.01866310509
                        ],
                        "iteration": 180,
                        "passed_time": 24.45331268,
                        "remaining_time": 110.6478623
                      },
                      {
                        "learn": [
                          0.01866018632
                        ],
                        "iteration": 181,
                        "passed_time": 24.61377868,
                        "remaining_time": 110.6267635
                      },
                      {
                        "learn": [
                          0.01865616035
                        ],
                        "iteration": 182,
                        "passed_time": 24.77211328,
                        "remaining_time": 110.594626
                      },
                      {
                        "learn": [
                          0.01865354908
                        ],
                        "iteration": 183,
                        "passed_time": 24.96632831,
                        "remaining_time": 110.7202386
                      },
                      {
                        "learn": [
                          0.01864866535
                        ],
                        "iteration": 184,
                        "passed_time": 25.12472218,
                        "remaining_time": 110.6845869
                      },
                      {
                        "learn": [
                          0.01864400797
                        ],
                        "iteration": 185,
                        "passed_time": 25.33101809,
                        "remaining_time": 110.8572512
                      },
                      {
                        "learn": [
                          0.01863967299
                        ],
                        "iteration": 186,
                        "passed_time": 25.53543371,
                        "remaining_time": 111.0176878
                      },
                      {
                        "learn": [
                          0.01863824785
                        ],
                        "iteration": 187,
                        "passed_time": 25.64866147,
                        "remaining_time": 110.7803889
                      },
                      {
                        "learn": [
                          0.01863532089
                        ],
                        "iteration": 188,
                        "passed_time": 25.77383097,
                        "remaining_time": 110.5956451
                      },
                      {
                        "learn": [
                          0.01863170667
                        ],
                        "iteration": 189,
                        "passed_time": 25.88216482,
                        "remaining_time": 110.3397553
                      },
                      {
                        "learn": [
                          0.01863084072
                        ],
                        "iteration": 190,
                        "passed_time": 25.95811389,
                        "remaining_time": 109.9482415
                      },
                      {
                        "learn": [
                          0.01862924805
                        ],
                        "iteration": 191,
                        "passed_time": 26.04355166,
                        "remaining_time": 109.5999466
                      },
                      {
                        "learn": [
                          0.01862625705
                        ],
                        "iteration": 192,
                        "passed_time": 26.16360301,
                        "remaining_time": 109.3991069
                      },
                      {
                        "learn": [
                          0.01862319308
                        ],
                        "iteration": 193,
                        "passed_time": 26.30332242,
                        "remaining_time": 109.2808137
                      },
                      {
                        "learn": [
                          0.01862094146
                        ],
                        "iteration": 194,
                        "passed_time": 26.4518726,
                        "remaining_time": 109.1987561
                      },
                      {
                        "learn": [
                          0.01861437942
                        ],
                        "iteration": 195,
                        "passed_time": 26.58198131,
                        "remaining_time": 109.0403723
                      },
                      {
                        "learn": [
                          0.01861228342
                        ],
                        "iteration": 196,
                        "passed_time": 26.712477,
                        "remaining_time": 108.8838529
                      },
                      {
                        "learn": [
                          0.01860862155
                        ],
                        "iteration": 197,
                        "passed_time": 26.79085281,
                        "remaining_time": 108.5164846
                      },
                      {
                        "learn": [
                          0.01860021518
                        ],
                        "iteration": 198,
                        "passed_time": 26.92006005,
                        "remaining_time": 108.3566236
                      },
                      {
                        "learn": [
                          0.01859895161
                        ],
                        "iteration": 199,
                        "passed_time": 27.04458344,
                        "remaining_time": 108.1783338
                      },
                      {
                        "learn": [
                          0.01859631429
                        ],
                        "iteration": 200,
                        "passed_time": 27.18342801,
                        "remaining_time": 108.0575073
                      },
                      {
                        "learn": [
                          0.01859507307
                        ],
                        "iteration": 201,
                        "passed_time": 27.3142005,
                        "remaining_time": 107.9046139
                      },
                      {
                        "learn": [
                          0.01859301355
                        ],
                        "iteration": 202,
                        "passed_time": 27.46090933,
                        "remaining_time": 107.8145061
                      },
                      {
                        "learn": [
                          0.01859080883
                        ],
                        "iteration": 203,
                        "passed_time": 27.59238211,
                        "remaining_time": 107.6643929
                      },
                      {
                        "learn": [
                          0.01858738448
                        ],
                        "iteration": 204,
                        "passed_time": 27.72570871,
                        "remaining_time": 107.5216509
                      },
                      {
                        "learn": [
                          0.01858612539
                        ],
                        "iteration": 205,
                        "passed_time": 27.85563042,
                        "remaining_time": 107.3658765
                      },
                      {
                        "learn": [
                          0.01858030645
                        ],
                        "iteration": 206,
                        "passed_time": 27.98593909,
                        "remaining_time": 107.2118343
                      },
                      {
                        "learn": [
                          0.01857863635
                        ],
                        "iteration": 207,
                        "passed_time": 28.12133748,
                        "remaining_time": 107.0774004
                      },
                      {
                        "learn": [
                          0.01857453591
                        ],
                        "iteration": 208,
                        "passed_time": 28.23601314,
                        "remaining_time": 106.8645282
                      },
                      {
                        "learn": [
                          0.01857227312
                        ],
                        "iteration": 209,
                        "passed_time": 28.36243616,
                        "remaining_time": 106.6967837
                      },
                      {
                        "learn": [
                          0.01856758446
                        ],
                        "iteration": 210,
                        "passed_time": 28.49632823,
                        "remaining_time": 106.5573601
                      },
                      {
                        "learn": [
                          0.01856531571
                        ],
                        "iteration": 211,
                        "passed_time": 28.62313157,
                        "remaining_time": 106.39164
                      },
                      {
                        "learn": [
                          0.01856302984
                        ],
                        "iteration": 212,
                        "passed_time": 28.6951898,
                        "remaining_time": 106.0240111
                      },
                      {
                        "learn": [
                          0.01856048857
                        ],
                        "iteration": 213,
                        "passed_time": 28.76803479,
                        "remaining_time": 105.6620343
                      },
                      {
                        "learn": [
                          0.01855712378
                        ],
                        "iteration": 214,
                        "passed_time": 28.89701222,
                        "remaining_time": 105.5076958
                      },
                      {
                        "learn": [
                          0.0185534984
                        ],
                        "iteration": 215,
                        "passed_time": 29.04724759,
                        "remaining_time": 105.4307505
                      },
                      {
                        "learn": [
                          0.01855166895
                        ],
                        "iteration": 216,
                        "passed_time": 29.21183223,
                        "remaining_time": 105.4049062
                      },
                      {
                        "learn": [
                          0.01855019988
                        ],
                        "iteration": 217,
                        "passed_time": 29.34491071,
                        "remaining_time": 105.2647714
                      },
                      {
                        "learn": [
                          0.01854810015
                        ],
                        "iteration": 218,
                        "passed_time": 29.47704955,
                        "remaining_time": 105.1213502
                      },
                      {
                        "learn": [
                          0.01854634889
                        ],
                        "iteration": 219,
                        "passed_time": 29.6114436,
                        "remaining_time": 104.9860273
                      },
                      {
                        "learn": [
                          0.01854315462
                        ],
                        "iteration": 220,
                        "passed_time": 29.74688442,
                        "remaining_time": 104.8544026
                      },
                      {
                        "learn": [
                          0.01854061186
                        ],
                        "iteration": 221,
                        "passed_time": 29.88363837,
                        "remaining_time": 104.7273453
                      },
                      {
                        "learn": [
                          0.01853895292
                        ],
                        "iteration": 222,
                        "passed_time": 29.98532812,
                        "remaining_time": 104.4780267
                      },
                      {
                        "learn": [
                          0.01853607659
                        ],
                        "iteration": 223,
                        "passed_time": 30.09757794,
                        "remaining_time": 104.2666093
                      },
                      {
                        "learn": [
                          0.01853472219
                        ],
                        "iteration": 224,
                        "passed_time": 30.22847318,
                        "remaining_time": 104.1202965
                      },
                      {
                        "learn": [
                          0.01853167534
                        ],
                        "iteration": 225,
                        "passed_time": 30.35729824,
                        "remaining_time": 103.9670302
                      },
                      {
                        "learn": [
                          0.01852953987
                        ],
                        "iteration": 226,
                        "passed_time": 30.49194011,
                        "remaining_time": 103.8337872
                      },
                      {
                        "learn": [
                          0.01852839619
                        ],
                        "iteration": 227,
                        "passed_time": 30.62577296,
                        "remaining_time": 103.6977927
                      },
                      {
                        "learn": [
                          0.01852542231
                        ],
                        "iteration": 228,
                        "passed_time": 30.76144716,
                        "remaining_time": 103.5680164
                      },
                      {
                        "learn": [
                          0.01852413493
                        ],
                        "iteration": 229,
                        "passed_time": 30.8941867,
                        "remaining_time": 103.4283642
                      },
                      {
                        "learn": [
                          0.01852137773
                        ],
                        "iteration": 230,
                        "passed_time": 31.02776331,
                        "remaining_time": 103.2915584
                      },
                      {
                        "learn": [
                          0.01851521554
                        ],
                        "iteration": 231,
                        "passed_time": 31.17398046,
                        "remaining_time": 103.196625
                      },
                      {
                        "learn": [
                          0.01851311581
                        ],
                        "iteration": 232,
                        "passed_time": 31.3087029,
                        "remaining_time": 103.0634125
                      },
                      {
                        "learn": [
                          0.01850928343
                        ],
                        "iteration": 233,
                        "passed_time": 31.39732735,
                        "remaining_time": 102.7792853
                      },
                      {
                        "learn": [
                          0.01850555007
                        ],
                        "iteration": 234,
                        "passed_time": 31.47382799,
                        "remaining_time": 102.457355
                      },
                      {
                        "learn": [
                          0.01850241165
                        ],
                        "iteration": 235,
                        "passed_time": 31.54837559,
                        "remaining_time": 102.131182
                      },
                      {
                        "learn": [
                          0.01850041765
                        ],
                        "iteration": 236,
                        "passed_time": 31.67050038,
                        "remaining_time": 101.9603029
                      },
                      {
                        "learn": [
                          0.01849713551
                        ],
                        "iteration": 237,
                        "passed_time": 31.79993713,
                        "remaining_time": 101.8132441
                      },
                      {
                        "learn": [
                          0.01849297328
                        ],
                        "iteration": 238,
                        "passed_time": 31.90579891,
                        "remaining_time": 101.5912677
                      },
                      {
                        "learn": [
                          0.01849135009
                        ],
                        "iteration": 239,
                        "passed_time": 32.02597353,
                        "remaining_time": 101.4155829
                      },
                      {
                        "learn": [
                          0.01848642838
                        ],
                        "iteration": 240,
                        "passed_time": 32.13160819,
                        "remaining_time": 101.1945669
                      },
                      {
                        "learn": [
                          0.01848364586
                        ],
                        "iteration": 241,
                        "passed_time": 32.21864646,
                        "remaining_time": 100.9162563
                      },
                      {
                        "learn": [
                          0.0184817293
                        ],
                        "iteration": 242,
                        "passed_time": 32.33254369,
                        "remaining_time": 100.7231917
                      },
                      {
                        "learn": [
                          0.01847998697
                        ],
                        "iteration": 243,
                        "passed_time": 32.46270571,
                        "remaining_time": 100.5811701
                      },
                      {
                        "learn": [
                          0.01847671228
                        ],
                        "iteration": 244,
                        "passed_time": 32.60286078,
                        "remaining_time": 100.4700404
                      },
                      {
                        "learn": [
                          0.01847335643
                        ],
                        "iteration": 245,
                        "passed_time": 32.72548619,
                        "remaining_time": 100.3049455
                      },
                      {
                        "learn": [
                          0.01846854567
                        ],
                        "iteration": 246,
                        "passed_time": 32.83272122,
                        "remaining_time": 100.0932756
                      },
                      {
                        "learn": [
                          0.01846557477
                        ],
                        "iteration": 247,
                        "passed_time": 33.01167418,
                        "remaining_time": 100.0999153
                      },
                      {
                        "learn": [
                          0.01846142669
                        ],
                        "iteration": 248,
                        "passed_time": 33.1452893,
                        "remaining_time": 99.96832233
                      },
                      {
                        "learn": [
                          0.01845859875
                        ],
                        "iteration": 249,
                        "passed_time": 33.28100337,
                        "remaining_time": 99.84301012
                      },
                      {
                        "learn": [
                          0.01845647073
                        ],
                        "iteration": 250,
                        "passed_time": 33.39398293,
                        "remaining_time": 99.64977375
                      },
                      {
                        "learn": [
                          0.01845327869
                        ],
                        "iteration": 251,
                        "passed_time": 33.48938469,
                        "remaining_time": 99.404999
                      },
                      {
                        "learn": [
                          0.01845135245
                        ],
                        "iteration": 252,
                        "passed_time": 33.61476018,
                        "remaining_time": 99.24990455
                      },
                      {
                        "learn": [
                          0.01844992284
                        ],
                        "iteration": 253,
                        "passed_time": 33.70940454,
                        "remaining_time": 99.00478655
                      },
                      {
                        "learn": [
                          0.01844843069
                        ],
                        "iteration": 254,
                        "passed_time": 33.78364204,
                        "remaining_time": 98.70122869
                      },
                      {
                        "learn": [
                          0.01844494976
                        ],
                        "iteration": 255,
                        "passed_time": 33.91464235,
                        "remaining_time": 98.56442933
                      },
                      {
                        "learn": [
                          0.01844082699
                        ],
                        "iteration": 256,
                        "passed_time": 34.0450266,
                        "remaining_time": 98.42589404
                      },
                      {
                        "learn": [
                          0.01843808989
                        ],
                        "iteration": 257,
                        "passed_time": 34.18978707,
                        "remaining_time": 98.32876745
                      },
                      {
                        "learn": [
                          0.01843505273
                        ],
                        "iteration": 258,
                        "passed_time": 34.32235149,
                        "remaining_time": 98.19638014
                      },
                      {
                        "learn": [
                          0.01843347346
                        ],
                        "iteration": 259,
                        "passed_time": 34.449493,
                        "remaining_time": 98.048557
                      },
                      {
                        "learn": [
                          0.01843080338
                        ],
                        "iteration": 260,
                        "passed_time": 34.56308308,
                        "remaining_time": 97.86252258
                      },
                      {
                        "learn": [
                          0.01842935144
                        ],
                        "iteration": 261,
                        "passed_time": 34.65020703,
                        "remaining_time": 97.60249156
                      },
                      {
                        "learn": [
                          0.01842532993
                        ],
                        "iteration": 262,
                        "passed_time": 34.7519084,
                        "remaining_time": 97.38462544
                      },
                      {
                        "learn": [
                          0.01842112004
                        ],
                        "iteration": 263,
                        "passed_time": 34.82431859,
                        "remaining_time": 97.0859791
                      },
                      {
                        "learn": [
                          0.01841710152
                        ],
                        "iteration": 264,
                        "passed_time": 34.95496914,
                        "remaining_time": 96.95057478
                      },
                      {
                        "learn": [
                          0.01841618419
                        ],
                        "iteration": 265,
                        "passed_time": 35.04574524,
                        "remaining_time": 96.70517672
                      },
                      {
                        "learn": [
                          0.01841222299
                        ],
                        "iteration": 266,
                        "passed_time": 35.17503912,
                        "remaining_time": 96.56668044
                      },
                      {
                        "learn": [
                          0.0184093206
                        ],
                        "iteration": 267,
                        "passed_time": 35.27097576,
                        "remaining_time": 96.33714274
                      },
                      {
                        "learn": [
                          0.01840874727
                        ],
                        "iteration": 268,
                        "passed_time": 35.40523481,
                        "remaining_time": 96.21273846
                      },
                      {
                        "learn": [
                          0.01840696548
                        ],
                        "iteration": 269,
                        "passed_time": 35.54428251,
                        "remaining_time": 96.10120826
                      },
                      {
                        "learn": [
                          0.01840520751
                        ],
                        "iteration": 270,
                        "passed_time": 35.69608307,
                        "remaining_time": 96.02378066
                      },
                      {
                        "learn": [
                          0.01840445548
                        ],
                        "iteration": 271,
                        "passed_time": 35.88154474,
                        "remaining_time": 96.03589917
                      },
                      {
                        "learn": [
                          0.0184034622
                        ],
                        "iteration": 272,
                        "passed_time": 36.03267537,
                        "remaining_time": 95.9551465
                      },
                      {
                        "learn": [
                          0.0184007333
                        ],
                        "iteration": 273,
                        "passed_time": 36.24310076,
                        "remaining_time": 96.0309896
                      },
                      {
                        "learn": [
                          0.01839939974
                        ],
                        "iteration": 274,
                        "passed_time": 36.44320916,
                        "remaining_time": 96.07755141
                      },
                      {
                        "learn": [
                          0.01839842434
                        ],
                        "iteration": 275,
                        "passed_time": 36.64341597,
                        "remaining_time": 96.12258392
                      },
                      {
                        "learn": [
                          0.0183956582
                        ],
                        "iteration": 276,
                        "passed_time": 36.83601949,
                        "remaining_time": 96.14600032
                      },
                      {
                        "learn": [
                          0.01839451675
                        ],
                        "iteration": 277,
                        "passed_time": 37.03187923,
                        "remaining_time": 96.17631944
                      },
                      {
                        "learn": [
                          0.01839188836
                        ],
                        "iteration": 278,
                        "passed_time": 37.24706687,
                        "remaining_time": 96.25496492
                      },
                      {
                        "learn": [
                          0.01839074543
                        ],
                        "iteration": 279,
                        "passed_time": 37.39311717,
                        "remaining_time": 96.15372986
                      },
                      {
                        "learn": [
                          0.01838948931
                        ],
                        "iteration": 280,
                        "passed_time": 37.53342178,
                        "remaining_time": 96.03747424
                      },
                      {
                        "learn": [
                          0.01838536207
                        ],
                        "iteration": 281,
                        "passed_time": 37.69553604,
                        "remaining_time": 95.97657758
                      },
                      {
                        "learn": [
                          0.01838371877
                        ],
                        "iteration": 282,
                        "passed_time": 37.85049154,
                        "remaining_time": 95.89682838
                      },
                      {
                        "learn": [
                          0.01838032049
                        ],
                        "iteration": 283,
                        "passed_time": 37.99933767,
                        "remaining_time": 95.80114708
                      },
                      {
                        "learn": [
                          0.01837681796
                        ],
                        "iteration": 284,
                        "passed_time": 38.14539623,
                        "remaining_time": 95.69809933
                      },
                      {
                        "learn": [
                          0.01837396173
                        ],
                        "iteration": 285,
                        "passed_time": 38.33810809,
                        "remaining_time": 95.71122089
                      },
                      {
                        "learn": [
                          0.01837097966
                        ],
                        "iteration": 286,
                        "passed_time": 38.53236238,
                        "remaining_time": 95.72673998
                      },
                      {
                        "learn": [
                          0.01836732077
                        ],
                        "iteration": 287,
                        "passed_time": 38.74151963,
                        "remaining_time": 95.77764575
                      },
                      {
                        "learn": [
                          0.01836607657
                        ],
                        "iteration": 288,
                        "passed_time": 38.92974559,
                        "remaining_time": 95.77525645
                      },
                      {
                        "learn": [
                          0.01836260233
                        ],
                        "iteration": 289,
                        "passed_time": 39.05783403,
                        "remaining_time": 95.62435228
                      },
                      {
                        "learn": [
                          0.01836153757
                        ],
                        "iteration": 290,
                        "passed_time": 39.17311713,
                        "remaining_time": 95.44240566
                      },
                      {
                        "learn": [
                          0.01835877144
                        ],
                        "iteration": 291,
                        "passed_time": 39.30174763,
                        "remaining_time": 95.2932785
                      },
                      {
                        "learn": [
                          0.01835620932
                        ],
                        "iteration": 292,
                        "passed_time": 39.40032357,
                        "remaining_time": 95.07177052
                      },
                      {
                        "learn": [
                          0.01835358093
                        ],
                        "iteration": 293,
                        "passed_time": 39.52562663,
                        "remaining_time": 94.91528027
                      },
                      {
                        "learn": [
                          0.01834781784
                        ],
                        "iteration": 294,
                        "passed_time": 39.66047404,
                        "remaining_time": 94.78181083
                      },
                      {
                        "learn": [
                          0.01834572556
                        ],
                        "iteration": 295,
                        "passed_time": 39.78867877,
                        "remaining_time": 94.63253329
                      },
                      {
                        "learn": [
                          0.01834093341
                        ],
                        "iteration": 296,
                        "passed_time": 39.88039357,
                        "remaining_time": 94.39702586
                      },
                      {
                        "learn": [
                          0.01834004884
                        ],
                        "iteration": 297,
                        "passed_time": 40.00349481,
                        "remaining_time": 94.23642066
                      },
                      {
                        "learn": [
                          0.01833846436
                        ],
                        "iteration": 298,
                        "passed_time": 40.14182973,
                        "remaining_time": 94.11178142
                      },
                      {
                        "learn": [
                          0.01833771605
                        ],
                        "iteration": 299,
                        "passed_time": 40.27586507,
                        "remaining_time": 93.97701849
                      },
                      {
                        "learn": [
                          0.01833391792
                        ],
                        "iteration": 300,
                        "passed_time": 40.39187357,
                        "remaining_time": 93.80039742
                      },
                      {
                        "learn": [
                          0.0183287773
                        ],
                        "iteration": 301,
                        "passed_time": 40.48385888,
                        "remaining_time": 93.56865397
                      },
                      {
                        "learn": [
                          0.01832614296
                        ],
                        "iteration": 302,
                        "passed_time": 40.56703773,
                        "remaining_time": 93.31757523
                      },
                      {
                        "learn": [
                          0.01832497098
                        ],
                        "iteration": 303,
                        "passed_time": 40.6675095,
                        "remaining_time": 93.1071928
                      },
                      {
                        "learn": [
                          0.01832434106
                        ],
                        "iteration": 304,
                        "passed_time": 40.74179502,
                        "remaining_time": 92.83786079
                      },
                      {
                        "learn": [
                          0.01832318994
                        ],
                        "iteration": 305,
                        "passed_time": 40.81873561,
                        "remaining_time": 92.5758252
                      },
                      {
                        "learn": [
                          0.01832225548
                        ],
                        "iteration": 306,
                        "passed_time": 40.95644002,
                        "remaining_time": 92.45215938
                      },
                      {
                        "learn": [
                          0.01832069706
                        ],
                        "iteration": 307,
                        "passed_time": 41.08779842,
                        "remaining_time": 92.3141445
                      },
                      {
                        "learn": [
                          0.01831863158
                        ],
                        "iteration": 308,
                        "passed_time": 41.22219908,
                        "remaining_time": 92.18297594
                      },
                      {
                        "learn": [
                          0.01831678203
                        ],
                        "iteration": 309,
                        "passed_time": 41.34422535,
                        "remaining_time": 92.02424351
                      },
                      {
                        "learn": [
                          0.01831432937
                        ],
                        "iteration": 310,
                        "passed_time": 41.4496953,
                        "remaining_time": 91.82906773
                      },
                      {
                        "learn": [
                          0.01831226836
                        ],
                        "iteration": 311,
                        "passed_time": 41.52438973,
                        "remaining_time": 91.56660299
                      },
                      {
                        "learn": [
                          0.01831124753
                        ],
                        "iteration": 312,
                        "passed_time": 41.65602982,
                        "remaining_time": 91.43032744
                      },
                      {
                        "learn": [
                          0.01830862436
                        ],
                        "iteration": 313,
                        "passed_time": 41.78585095,
                        "remaining_time": 91.29010748
                      },
                      {
                        "learn": [
                          0.01830556634
                        ],
                        "iteration": 314,
                        "passed_time": 41.8884146,
                        "remaining_time": 91.09067937
                      },
                      {
                        "learn": [
                          0.01830373466
                        ],
                        "iteration": 315,
                        "passed_time": 41.96440015,
                        "remaining_time": 90.8343345
                      },
                      {
                        "learn": [
                          0.01830242792
                        ],
                        "iteration": 316,
                        "passed_time": 42.05504536,
                        "remaining_time": 90.61071287
                      },
                      {
                        "learn": [
                          0.01829796189
                        ],
                        "iteration": 317,
                        "passed_time": 42.13328873,
                        "remaining_time": 90.36132991
                      },
                      {
                        "learn": [
                          0.01829498504
                        ],
                        "iteration": 318,
                        "passed_time": 42.22812076,
                        "remaining_time": 90.14843334
                      },
                      {
                        "learn": [
                          0.01829426651
                        ],
                        "iteration": 319,
                        "passed_time": 42.30636103,
                        "remaining_time": 89.9010172
                      },
                      {
                        "learn": [
                          0.01828951829
                        ],
                        "iteration": 320,
                        "passed_time": 42.45825372,
                        "remaining_time": 89.81044946
                      },
                      {
                        "learn": [
                          0.01828484081
                        ],
                        "iteration": 321,
                        "passed_time": 42.54752688,
                        "remaining_time": 89.58764977
                      },
                      {
                        "learn": [
                          0.01828409846
                        ],
                        "iteration": 322,
                        "passed_time": 42.6954513,
                        "remaining_time": 89.48860845
                      },
                      {
                        "learn": [
                          0.01828365543
                        ],
                        "iteration": 323,
                        "passed_time": 42.82737447,
                        "remaining_time": 89.35588007
                      },
                      {
                        "learn": [
                          0.0182825244
                        ],
                        "iteration": 324,
                        "passed_time": 42.95735789,
                        "remaining_time": 89.21912794
                      },
                      {
                        "learn": [
                          0.01828047307
                        ],
                        "iteration": 325,
                        "passed_time": 43.09025867,
                        "remaining_time": 89.08844892
                      },
                      {
                        "learn": [
                          0.01827821176
                        ],
                        "iteration": 326,
                        "passed_time": 43.22402724,
                        "remaining_time": 88.9595423
                      },
                      {
                        "learn": [
                          0.018277182
                        ],
                        "iteration": 327,
                        "passed_time": 43.35770645,
                        "remaining_time": 88.83042298
                      },
                      {
                        "learn": [
                          0.01827607853
                        ],
                        "iteration": 328,
                        "passed_time": 43.46736866,
                        "remaining_time": 88.65229293
                      },
                      {
                        "learn": [
                          0.01827524831
                        ],
                        "iteration": 329,
                        "passed_time": 43.59706134,
                        "remaining_time": 88.51524575
                      },
                      {
                        "learn": [
                          0.01827429078
                        ],
                        "iteration": 330,
                        "passed_time": 43.67204551,
                        "remaining_time": 88.26766903
                      },
                      {
                        "learn": [
                          0.0182723973
                        ],
                        "iteration": 331,
                        "passed_time": 43.79518346,
                        "remaining_time": 88.11801974
                      },
                      {
                        "learn": [
                          0.01826963116
                        ],
                        "iteration": 332,
                        "passed_time": 43.92693587,
                        "remaining_time": 87.98578447
                      },
                      {
                        "learn": [
                          0.01826661782
                        ],
                        "iteration": 333,
                        "passed_time": 44.01892773,
                        "remaining_time": 87.77426907
                      },
                      {
                        "learn": [
                          0.01826582335
                        ],
                        "iteration": 334,
                        "passed_time": 44.11517746,
                        "remaining_time": 87.57191943
                      },
                      {
                        "learn": [
                          0.01826359927
                        ],
                        "iteration": 335,
                        "passed_time": 44.24214382,
                        "remaining_time": 87.43090326
                      },
                      {
                        "learn": [
                          0.01826179961
                        ],
                        "iteration": 336,
                        "passed_time": 44.37265115,
                        "remaining_time": 87.29693684
                      },
                      {
                        "learn": [
                          0.01826065295
                        ],
                        "iteration": 337,
                        "passed_time": 44.50082342,
                        "remaining_time": 87.15841747
                      },
                      {
                        "learn": [
                          0.01825581389
                        ],
                        "iteration": 338,
                        "passed_time": 44.59750174,
                        "remaining_time": 86.95855058
                      },
                      {
                        "learn": [
                          0.01825270748
                        ],
                        "iteration": 339,
                        "passed_time": 44.67771595,
                        "remaining_time": 86.72733096
                      },
                      {
                        "learn": [
                          0.01825166878
                        ],
                        "iteration": 340,
                        "passed_time": 44.75461438,
                        "remaining_time": 86.49058908
                      },
                      {
                        "learn": [
                          0.01825053106
                        ],
                        "iteration": 341,
                        "passed_time": 44.82732483,
                        "remaining_time": 86.24672438
                      },
                      {
                        "learn": [
                          0.01824772025
                        ],
                        "iteration": 342,
                        "passed_time": 44.93971597,
                        "remaining_time": 86.07986412
                      },
                      {
                        "learn": [
                          0.01824315817
                        ],
                        "iteration": 343,
                        "passed_time": 45.06769808,
                        "remaining_time": 85.94305214
                      },
                      {
                        "learn": [
                          0.01824140244
                        ],
                        "iteration": 344,
                        "passed_time": 45.1989572,
                        "remaining_time": 85.81251294
                      },
                      {
                        "learn": [
                          0.01823888946
                        ],
                        "iteration": 345,
                        "passed_time": 45.2808323,
                        "remaining_time": 85.58862521
                      },
                      {
                        "learn": [
                          0.01823771078
                        ],
                        "iteration": 346,
                        "passed_time": 45.35289377,
                        "remaining_time": 85.34708828
                      },
                      {
                        "learn": [
                          0.0182359275
                        ],
                        "iteration": 347,
                        "passed_time": 45.49567033,
                        "remaining_time": 85.23901453
                      },
                      {
                        "learn": [
                          0.01823270047
                        ],
                        "iteration": 348,
                        "passed_time": 45.61102909,
                        "remaining_time": 85.07959867
                      },
                      {
                        "learn": [
                          0.01822858887
                        ],
                        "iteration": 349,
                        "passed_time": 45.68183487,
                        "remaining_time": 84.83769333
                      },
                      {
                        "learn": [
                          0.01822579072
                        ],
                        "iteration": 350,
                        "passed_time": 45.81013055,
                        "remaining_time": 84.70306191
                      },
                      {
                        "learn": [
                          0.01822324051
                        ],
                        "iteration": 351,
                        "passed_time": 45.94593816,
                        "remaining_time": 84.58229525
                      },
                      {
                        "learn": [
                          0.01822156296
                        ],
                        "iteration": 352,
                        "passed_time": 46.0560661,
                        "remaining_time": 84.41437612
                      },
                      {
                        "learn": [
                          0.01821724585
                        ],
                        "iteration": 353,
                        "passed_time": 46.18579974,
                        "remaining_time": 84.28256111
                      },
                      {
                        "learn": [
                          0.01821498604
                        ],
                        "iteration": 354,
                        "passed_time": 46.3210238,
                        "remaining_time": 84.16073338
                      },
                      {
                        "learn": [
                          0.01821359739
                        ],
                        "iteration": 355,
                        "passed_time": 46.44856321,
                        "remaining_time": 84.02492896
                      },
                      {
                        "learn": [
                          0.01821108515
                        ],
                        "iteration": 356,
                        "passed_time": 46.61179005,
                        "remaining_time": 83.95344818
                      },
                      {
                        "learn": [
                          0.01820998764
                        ],
                        "iteration": 357,
                        "passed_time": 46.75118287,
                        "remaining_time": 83.83871341
                      },
                      {
                        "learn": [
                          0.01820884544
                        ],
                        "iteration": 358,
                        "passed_time": 46.88497597,
                        "remaining_time": 83.71384288
                      },
                      {
                        "learn": [
                          0.01820793481
                        ],
                        "iteration": 359,
                        "passed_time": 47.02215114,
                        "remaining_time": 83.59493536
                      },
                      {
                        "learn": [
                          0.01820472267
                        ],
                        "iteration": 360,
                        "passed_time": 47.1574319,
                        "remaining_time": 83.47257336
                      },
                      {
                        "learn": [
                          0.01820380758
                        ],
                        "iteration": 361,
                        "passed_time": 47.29221722,
                        "remaining_time": 83.34926681
                      },
                      {
                        "learn": [
                          0.01820184038
                        ],
                        "iteration": 362,
                        "passed_time": 47.44136447,
                        "remaining_time": 83.25109963
                      },
                      {
                        "learn": [
                          0.01819790748
                        ],
                        "iteration": 363,
                        "passed_time": 47.64535225,
                        "remaining_time": 83.24847262
                      },
                      {
                        "learn": [
                          0.01819620313
                        ],
                        "iteration": 364,
                        "passed_time": 47.81043603,
                        "remaining_time": 83.17705994
                      },
                      {
                        "learn": [
                          0.01819320468
                        ],
                        "iteration": 365,
                        "passed_time": 47.94890905,
                        "remaining_time": 83.05903917
                      },
                      {
                        "learn": [
                          0.01819093816
                        ],
                        "iteration": 366,
                        "passed_time": 48.09069302,
                        "remaining_time": 82.94661766
                      },
                      {
                        "learn": [
                          0.01818990766
                        ],
                        "iteration": 367,
                        "passed_time": 48.24816727,
                        "remaining_time": 82.86098292
                      },
                      {
                        "learn": [
                          0.01818770294
                        ],
                        "iteration": 368,
                        "passed_time": 48.378865,
                        "remaining_time": 82.72917024
                      },
                      {
                        "learn": [
                          0.01818619888
                        ],
                        "iteration": 369,
                        "passed_time": 48.45539619,
                        "remaining_time": 82.50513406
                      },
                      {
                        "learn": [
                          0.01818338658
                        ],
                        "iteration": 370,
                        "passed_time": 48.61093884,
                        "remaining_time": 82.41585049
                      },
                      {
                        "learn": [
                          0.0181813211
                        ],
                        "iteration": 371,
                        "passed_time": 48.71741587,
                        "remaining_time": 82.24337948
                      },
                      {
                        "learn": [
                          0.01818044174
                        ],
                        "iteration": 372,
                        "passed_time": 48.80253983,
                        "remaining_time": 82.03536857
                      },
                      {
                        "learn": [
                          0.01817916701
                        ],
                        "iteration": 373,
                        "passed_time": 48.95268631,
                        "remaining_time": 81.93684928
                      },
                      {
                        "learn": [
                          0.01817657883
                        ],
                        "iteration": 374,
                        "passed_time": 49.13590112,
                        "remaining_time": 81.89316854
                      },
                      {
                        "learn": [
                          0.01817596902
                        ],
                        "iteration": 375,
                        "passed_time": 49.34423082,
                        "remaining_time": 81.89042562
                      },
                      {
                        "learn": [
                          0.01817509264
                        ],
                        "iteration": 376,
                        "passed_time": 50.36762328,
                        "remaining_time": 83.23349948
                      },
                      {
                        "learn": [
                          0.01817387077
                        ],
                        "iteration": 377,
                        "passed_time": 50.51391788,
                        "remaining_time": 83.12078551
                      },
                      {
                        "learn": [
                          0.01817263625
                        ],
                        "iteration": 378,
                        "passed_time": 50.6978717,
                        "remaining_time": 83.0695998
                      },
                      {
                        "learn": [
                          0.01817143151
                        ],
                        "iteration": 379,
                        "passed_time": 50.86641171,
                        "remaining_time": 82.99256648
                      },
                      {
                        "learn": [
                          0.01816882621
                        ],
                        "iteration": 380,
                        "passed_time": 51.0069892,
                        "remaining_time": 82.86962287
                      },
                      {
                        "learn": [
                          0.01816639067
                        ],
                        "iteration": 381,
                        "passed_time": 51.17087817,
                        "remaining_time": 82.78430028
                      },
                      {
                        "learn": [
                          0.01816501765
                        ],
                        "iteration": 382,
                        "passed_time": 51.35125692,
                        "remaining_time": 82.7251319
                      },
                      {
                        "learn": [
                          0.01816063502
                        ],
                        "iteration": 383,
                        "passed_time": 51.58333325,
                        "remaining_time": 82.74826375
                      },
                      {
                        "learn": [
                          0.01815958814
                        ],
                        "iteration": 384,
                        "passed_time": 51.74752469,
                        "remaining_time": 82.66163035
                      },
                      {
                        "learn": [
                          0.01815792697
                        ],
                        "iteration": 385,
                        "passed_time": 51.93300642,
                        "remaining_time": 82.60846099
                      },
                      {
                        "learn": [
                          0.01815631568
                        ],
                        "iteration": 386,
                        "passed_time": 52.06192062,
                        "remaining_time": 82.46500604
                      },
                      {
                        "learn": [
                          0.01815461133
                        ],
                        "iteration": 387,
                        "passed_time": 52.18487309,
                        "remaining_time": 82.31222251
                      },
                      {
                        "learn": [
                          0.01815175659
                        ],
                        "iteration": 388,
                        "passed_time": 52.31452684,
                        "remaining_time": 82.170118
                      },
                      {
                        "learn": [
                          0.01814759287
                        ],
                        "iteration": 389,
                        "passed_time": 52.47429389,
                        "remaining_time": 82.07517762
                      },
                      {
                        "learn": [
                          0.01814531146
                        ],
                        "iteration": 390,
                        "passed_time": 52.60436283,
                        "remaining_time": 81.93364952
                      },
                      {
                        "learn": [
                          0.01814457804
                        ],
                        "iteration": 391,
                        "passed_time": 52.7312788,
                        "remaining_time": 81.78728957
                      },
                      {
                        "learn": [
                          0.01814253564
                        ],
                        "iteration": 392,
                        "passed_time": 52.86598762,
                        "remaining_time": 81.65306485
                      },
                      {
                        "learn": [
                          0.01814160789
                        ],
                        "iteration": 393,
                        "passed_time": 52.99915041,
                        "remaining_time": 81.51645977
                      },
                      {
                        "learn": [
                          0.01814003681
                        ],
                        "iteration": 394,
                        "passed_time": 53.12994874,
                        "remaining_time": 81.3762506
                      },
                      {
                        "learn": [
                          0.01813710836
                        ],
                        "iteration": 395,
                        "passed_time": 53.25659595,
                        "remaining_time": 81.22975746
                      },
                      {
                        "learn": [
                          0.01813286497
                        ],
                        "iteration": 396,
                        "passed_time": 53.35090577,
                        "remaining_time": 81.0342473
                      },
                      {
                        "learn": [
                          0.01812891717
                        ],
                        "iteration": 397,
                        "passed_time": 53.47838575,
                        "remaining_time": 80.88941764
                      },
                      {
                        "learn": [
                          0.01812685989
                        ],
                        "iteration": 398,
                        "passed_time": 53.62137184,
                        "remaining_time": 80.76803127
                      },
                      {
                        "learn": [
                          0.01812411907
                        ],
                        "iteration": 399,
                        "passed_time": 53.68368485,
                        "remaining_time": 80.52552728
                      },
                      {
                        "learn": [
                          0.01812291731
                        ],
                        "iteration": 400,
                        "passed_time": 53.739649,
                        "remaining_time": 80.27443828
                      },
                      {
                        "learn": [
                          0.0181215629
                        ],
                        "iteration": 401,
                        "passed_time": 53.79699326,
                        "remaining_time": 80.02637306
                      },
                      {
                        "learn": [
                          0.01811917502
                        ],
                        "iteration": 402,
                        "passed_time": 53.85754821,
                        "remaining_time": 79.78401062
                      },
                      {
                        "learn": [
                          0.01811724208
                        ],
                        "iteration": 403,
                        "passed_time": 53.91210589,
                        "remaining_time": 79.53370076
                      },
                      {
                        "learn": [
                          0.01811631507
                        ],
                        "iteration": 404,
                        "passed_time": 53.96683491,
                        "remaining_time": 79.28460931
                      },
                      {
                        "learn": [
                          0.01811440893
                        ],
                        "iteration": 405,
                        "passed_time": 54.02186865,
                        "remaining_time": 79.03692113
                      },
                      {
                        "learn": [
                          0.01811273957
                        ],
                        "iteration": 406,
                        "passed_time": 54.07867536,
                        "remaining_time": 78.79276286
                      },
                      {
                        "learn": [
                          0.01811143282
                        ],
                        "iteration": 407,
                        "passed_time": 54.13763567,
                        "remaining_time": 78.55264784
                      },
                      {
                        "learn": [
                          0.01810985877
                        ],
                        "iteration": 408,
                        "passed_time": 54.19300212,
                        "remaining_time": 78.30822555
                      },
                      {
                        "learn": [
                          0.01810932043
                        ],
                        "iteration": 409,
                        "passed_time": 54.24832771,
                        "remaining_time": 78.0646667
                      },
                      {
                        "learn": [
                          0.01810816111
                        ],
                        "iteration": 410,
                        "passed_time": 54.30567209,
                        "remaining_time": 77.82491694
                      },
                      {
                        "learn": [
                          0.01810670917
                        ],
                        "iteration": 411,
                        "passed_time": 54.3640104,
                        "remaining_time": 77.58747116
                      },
                      {
                        "learn": [
                          0.01810551485
                        ],
                        "iteration": 412,
                        "passed_time": 54.41966719,
                        "remaining_time": 77.34708145
                      },
                      {
                        "learn": [
                          0.01810394676
                        ],
                        "iteration": 413,
                        "passed_time": 54.49196045,
                        "remaining_time": 77.13113242
                      },
                      {
                        "learn": [
                          0.01810320441
                        ],
                        "iteration": 414,
                        "passed_time": 54.57535478,
                        "remaining_time": 76.93152421
                      },
                      {
                        "learn": [
                          0.01809910397
                        ],
                        "iteration": 415,
                        "passed_time": 54.63146063,
                        "remaining_time": 76.69416589
                      },
                      {
                        "learn": [
                          0.0180980139
                        ],
                        "iteration": 416,
                        "passed_time": 54.68664282,
                        "remaining_time": 76.45638552
                      },
                      {
                        "learn": [
                          0.01809672949
                        ],
                        "iteration": 417,
                        "passed_time": 54.74358779,
                        "remaining_time": 76.22193324
                      },
                      {
                        "learn": [
                          0.01809606755
                        ],
                        "iteration": 418,
                        "passed_time": 54.79891831,
                        "remaining_time": 75.9860896
                      },
                      {
                        "learn": [
                          0.01809545551
                        ],
                        "iteration": 419,
                        "passed_time": 54.85332705,
                        "remaining_time": 75.74983259
                      },
                      {
                        "learn": [
                          0.01809504152
                        ],
                        "iteration": 420,
                        "passed_time": 54.91110764,
                        "remaining_time": 75.51907678
                      },
                      {
                        "learn": [
                          0.01809399761
                        ],
                        "iteration": 421,
                        "passed_time": 54.96685062,
                        "remaining_time": 75.2863499
                      },
                      {
                        "learn": [
                          0.01809355979
                        ],
                        "iteration": 422,
                        "passed_time": 55.02188541,
                        "remaining_time": 75.05349381
                      },
                      {
                        "learn": [
                          0.01809144293
                        ],
                        "iteration": 423,
                        "passed_time": 55.08001279,
                        "remaining_time": 74.82567776
                      },
                      {
                        "learn": [
                          0.01809076536
                        ],
                        "iteration": 424,
                        "passed_time": 55.13833434,
                        "remaining_time": 74.59892293
                      },
                      {
                        "learn": [
                          0.01808994111
                        ],
                        "iteration": 425,
                        "passed_time": 55.19481297,
                        "remaining_time": 74.37047569
                      },
                      {
                        "learn": [
                          0.01808930523
                        ],
                        "iteration": 426,
                        "passed_time": 55.25346286,
                        "remaining_time": 74.14574759
                      },
                      {
                        "learn": [
                          0.01808779298
                        ],
                        "iteration": 427,
                        "passed_time": 55.31049395,
                        "remaining_time": 73.91963209
                      },
                      {
                        "learn": [
                          0.018086586
                        ],
                        "iteration": 428,
                        "passed_time": 55.36701193,
                        "remaining_time": 73.69362194
                      },
                      {
                        "learn": [
                          0.01808210509
                        ],
                        "iteration": 429,
                        "passed_time": 55.42452814,
                        "remaining_time": 73.46972334
                      },
                      {
                        "learn": [
                          0.01808124584
                        ],
                        "iteration": 430,
                        "passed_time": 55.48212769,
                        "remaining_time": 73.24670686
                      },
                      {
                        "learn": [
                          0.01807949011
                        ],
                        "iteration": 431,
                        "passed_time": 55.58044008,
                        "remaining_time": 73.07798603
                      },
                      {
                        "learn": [
                          0.0180780739
                        ],
                        "iteration": 432,
                        "passed_time": 55.63789268,
                        "remaining_time": 72.8560858
                      },
                      {
                        "learn": [
                          0.01807710743
                        ],
                        "iteration": 433,
                        "passed_time": 55.69442649,
                        "remaining_time": 72.63374515
                      },
                      {
                        "learn": [
                          0.0180759496
                        ],
                        "iteration": 434,
                        "passed_time": 55.75143587,
                        "remaining_time": 72.41278453
                      },
                      {
                        "learn": [
                          0.01807477762
                        ],
                        "iteration": 435,
                        "passed_time": 55.80682022,
                        "remaining_time": 72.19047387
                      },
                      {
                        "learn": [
                          0.01807382009
                        ],
                        "iteration": 436,
                        "passed_time": 55.86232511,
                        "remaining_time": 71.96908246
                      },
                      {
                        "learn": [
                          0.01807317155
                        ],
                        "iteration": 437,
                        "passed_time": 55.92291422,
                        "remaining_time": 71.75497213
                      },
                      {
                        "learn": [
                          0.01807258482
                        ],
                        "iteration": 438,
                        "passed_time": 55.97947932,
                        "remaining_time": 71.5364189
                      },
                      {
                        "learn": [
                          0.01807178886
                        ],
                        "iteration": 439,
                        "passed_time": 56.03597747,
                        "remaining_time": 71.31851679
                      },
                      {
                        "learn": [
                          0.01807072485
                        ],
                        "iteration": 440,
                        "passed_time": 56.09474438,
                        "remaining_time": 71.10422247
                      },
                      {
                        "learn": [
                          0.01806827665
                        ],
                        "iteration": 441,
                        "passed_time": 56.15660485,
                        "remaining_time": 70.89453734
                      },
                      {
                        "learn": [
                          0.01806771225
                        ],
                        "iteration": 442,
                        "passed_time": 56.21167995,
                        "remaining_time": 70.67698811
                      },
                      {
                        "learn": [
                          0.01806609129
                        ],
                        "iteration": 443,
                        "passed_time": 56.26885638,
                        "remaining_time": 70.46280213
                      },
                      {
                        "learn": [
                          0.01806421345
                        ],
                        "iteration": 444,
                        "passed_time": 56.3260027,
                        "remaining_time": 70.24928427
                      },
                      {
                        "learn": [
                          0.01806275778
                        ],
                        "iteration": 445,
                        "passed_time": 56.38395219,
                        "remaining_time": 70.03746527
                      },
                      {
                        "learn": [
                          0.01806166771
                        ],
                        "iteration": 446,
                        "passed_time": 56.43924487,
                        "remaining_time": 69.8230479
                      },
                      {
                        "learn": [
                          0.01806007876
                        ],
                        "iteration": 447,
                        "passed_time": 56.49543171,
                        "remaining_time": 69.61044264
                      },
                      {
                        "learn": [
                          0.01805777725
                        ],
                        "iteration": 448,
                        "passed_time": 56.58353992,
                        "remaining_time": 69.43770712
                      },
                      {
                        "learn": [
                          0.01805689343
                        ],
                        "iteration": 449,
                        "passed_time": 56.6523436,
                        "remaining_time": 69.24175329
                      },
                      {
                        "learn": [
                          0.01805559264
                        ],
                        "iteration": 450,
                        "passed_time": 56.70856629,
                        "remaining_time": 69.03104854
                      },
                      {
                        "learn": [
                          0.01805490315
                        ],
                        "iteration": 451,
                        "passed_time": 56.76398089,
                        "remaining_time": 68.82004762
                      },
                      {
                        "learn": [
                          0.01805455394
                        ],
                        "iteration": 452,
                        "passed_time": 56.81736096,
                        "remaining_time": 68.60727692
                      },
                      {
                        "learn": [
                          0.01805282054
                        ],
                        "iteration": 453,
                        "passed_time": 56.87267261,
                        "remaining_time": 68.39753138
                      },
                      {
                        "learn": [
                          0.01805100897
                        ],
                        "iteration": 454,
                        "passed_time": 56.93165548,
                        "remaining_time": 68.19286206
                      },
                      {
                        "learn": [
                          0.01805054509
                        ],
                        "iteration": 455,
                        "passed_time": 56.98754522,
                        "remaining_time": 67.98514167
                      },
                      {
                        "learn": [
                          0.01805009536
                        ],
                        "iteration": 456,
                        "passed_time": 57.04443815,
                        "remaining_time": 67.77927772
                      },
                      {
                        "learn": [
                          0.01804971264
                        ],
                        "iteration": 457,
                        "passed_time": 57.10097853,
                        "remaining_time": 67.57364708
                      },
                      {
                        "learn": [
                          0.01804868363
                        ],
                        "iteration": 458,
                        "passed_time": 57.16170935,
                        "remaining_time": 67.37360513
                      },
                      {
                        "learn": [
                          0.01804827857
                        ],
                        "iteration": 459,
                        "passed_time": 57.21889229,
                        "remaining_time": 67.17000399
                      },
                      {
                        "learn": [
                          0.01804650646
                        ],
                        "iteration": 460,
                        "passed_time": 57.27639514,
                        "remaining_time": 66.9674121
                      },
                      {
                        "learn": [
                          0.01804613789
                        ],
                        "iteration": 461,
                        "passed_time": 57.33539294,
                        "remaining_time": 66.76718918
                      },
                      {
                        "learn": [
                          0.01804331368
                        ],
                        "iteration": 462,
                        "passed_time": 57.39244207,
                        "remaining_time": 66.56531618
                      },
                      {
                        "learn": [
                          0.01804203746
                        ],
                        "iteration": 463,
                        "passed_time": 57.44995095,
                        "remaining_time": 66.36459851
                      },
                      {
                        "learn": [
                          0.01804167708
                        ],
                        "iteration": 464,
                        "passed_time": 57.50483618,
                        "remaining_time": 66.16147818
                      },
                      {
                        "learn": [
                          0.01804030853
                        ],
                        "iteration": 465,
                        "passed_time": 57.59428784,
                        "remaining_time": 65.99860452
                      },
                      {
                        "learn": [
                          0.01803982306
                        ],
                        "iteration": 466,
                        "passed_time": 57.66412691,
                        "remaining_time": 65.8136609
                      },
                      {
                        "learn": [
                          0.01803792735
                        ],
                        "iteration": 467,
                        "passed_time": 57.72209155,
                        "remaining_time": 65.61571091
                      },
                      {
                        "learn": [
                          0.01803726169
                        ],
                        "iteration": 468,
                        "passed_time": 57.77793019,
                        "remaining_time": 65.41595081
                      },
                      {
                        "learn": [
                          0.01803658039
                        ],
                        "iteration": 469,
                        "passed_time": 57.8355557,
                        "remaining_time": 65.21881813
                      },
                      {
                        "learn": [
                          0.01803515377
                        ],
                        "iteration": 470,
                        "passed_time": 57.89332868,
                        "remaining_time": 65.02244347
                      },
                      {
                        "learn": [
                          0.01803362662
                        ],
                        "iteration": 471,
                        "passed_time": 57.95634742,
                        "remaining_time": 64.83252423
                      },
                      {
                        "learn": [
                          0.01802998634
                        ],
                        "iteration": 472,
                        "passed_time": 58.01524551,
                        "remaining_time": 64.63855049
                      },
                      {
                        "learn": [
                          0.01802716139
                        ],
                        "iteration": 473,
                        "passed_time": 58.07407622,
                        "remaining_time": 64.44507192
                      },
                      {
                        "learn": [
                          0.01802549277
                        ],
                        "iteration": 474,
                        "passed_time": 58.13523631,
                        "remaining_time": 64.25473487
                      },
                      {
                        "learn": [
                          0.018024877
                        ],
                        "iteration": 475,
                        "passed_time": 58.19390557,
                        "remaining_time": 64.06219857
                      },
                      {
                        "learn": [
                          0.01802439674
                        ],
                        "iteration": 476,
                        "passed_time": 58.25324961,
                        "remaining_time": 63.87096341
                      },
                      {
                        "learn": [
                          0.01802401402
                        ],
                        "iteration": 477,
                        "passed_time": 58.30946753,
                        "remaining_time": 63.67686621
                      },
                      {
                        "learn": [
                          0.01802334166
                        ],
                        "iteration": 478,
                        "passed_time": 58.36622502,
                        "remaining_time": 63.4839316
                      },
                      {
                        "learn": [
                          0.01802143776
                        ],
                        "iteration": 479,
                        "passed_time": 58.42527471,
                        "remaining_time": 63.2940476
                      },
                      {
                        "learn": [
                          0.01802075721
                        ],
                        "iteration": 480,
                        "passed_time": 58.48178061,
                        "remaining_time": 63.10196286
                      },
                      {
                        "learn": [
                          0.01801859121
                        ],
                        "iteration": 481,
                        "passed_time": 58.5391295,
                        "remaining_time": 62.91134664
                      },
                      {
                        "learn": [
                          0.01801556447
                        ],
                        "iteration": 482,
                        "passed_time": 58.64291052,
                        "remaining_time": 62.77098289
                      },
                      {
                        "learn": [
                          0.01801449673
                        ],
                        "iteration": 483,
                        "passed_time": 58.70017957,
                        "remaining_time": 62.58118318
                      },
                      {
                        "learn": [
                          0.01801278716
                        ],
                        "iteration": 484,
                        "passed_time": 58.7586076,
                        "remaining_time": 62.39316065
                      },
                      {
                        "learn": [
                          0.0180075021
                        ],
                        "iteration": 485,
                        "passed_time": 58.81676051,
                        "remaining_time": 62.20538045
                      },
                      {
                        "learn": [
                          0.01800524079
                        ],
                        "iteration": 486,
                        "passed_time": 58.87384941,
                        "remaining_time": 62.0170118
                      },
                      {
                        "learn": [
                          0.01800349623
                        ],
                        "iteration": 487,
                        "passed_time": 58.92960497,
                        "remaining_time": 61.82778226
                      },
                      {
                        "learn": [
                          0.01800244041
                        ],
                        "iteration": 488,
                        "passed_time": 58.98977903,
                        "remaining_time": 61.64371591
                      },
                      {
                        "learn": [
                          0.01799868248
                        ],
                        "iteration": 489,
                        "passed_time": 59.04835718,
                        "remaining_time": 61.45849421
                      },
                      {
                        "learn": [
                          0.01799794013
                        ],
                        "iteration": 490,
                        "passed_time": 59.10830663,
                        "remaining_time": 61.27520993
                      },
                      {
                        "learn": [
                          0.01799643756
                        ],
                        "iteration": 491,
                        "passed_time": 59.16829916,
                        "remaining_time": 61.09247149
                      },
                      {
                        "learn": [
                          0.0179960392
                        ],
                        "iteration": 492,
                        "passed_time": 59.22602184,
                        "remaining_time": 60.9078967
                      },
                      {
                        "learn": [
                          0.0179953929
                        ],
                        "iteration": 493,
                        "passed_time": 59.2810189,
                        "remaining_time": 60.72104365
                      },
                      {
                        "learn": [
                          0.01799401021
                        ],
                        "iteration": 494,
                        "passed_time": 59.33700646,
                        "remaining_time": 60.53573386
                      },
                      {
                        "learn": [
                          0.01799363866
                        ],
                        "iteration": 495,
                        "passed_time": 59.39491754,
                        "remaining_time": 60.35290008
                      },
                      {
                        "learn": [
                          0.01799303778
                        ],
                        "iteration": 496,
                        "passed_time": 59.45008112,
                        "remaining_time": 60.16778834
                      },
                      {
                        "learn": [
                          0.01799016368
                        ],
                        "iteration": 497,
                        "passed_time": 59.50734913,
                        "remaining_time": 59.9853198
                      },
                      {
                        "learn": [
                          0.01798872961
                        ],
                        "iteration": 498,
                        "passed_time": 59.56515482,
                        "remaining_time": 59.80389291
                      },
                      {
                        "learn": [
                          0.01798834243
                        ],
                        "iteration": 499,
                        "passed_time": 59.67064963,
                        "remaining_time": 59.67064963
                      },
                      {
                        "learn": [
                          0.01798749509
                        ],
                        "iteration": 500,
                        "passed_time": 59.72790596,
                        "remaining_time": 59.48947121
                      },
                      {
                        "learn": [
                          0.0179870744
                        ],
                        "iteration": 501,
                        "passed_time": 59.78376485,
                        "remaining_time": 59.30740019
                      },
                      {
                        "learn": [
                          0.01798658744
                        ],
                        "iteration": 502,
                        "passed_time": 59.8396235,
                        "remaining_time": 59.12583077
                      },
                      {
                        "learn": [
                          0.0179860774
                        ],
                        "iteration": 503,
                        "passed_time": 59.89559362,
                        "remaining_time": 58.94486991
                      },
                      {
                        "learn": [
                          0.01798529111
                        ],
                        "iteration": 504,
                        "passed_time": 59.95175301,
                        "remaining_time": 58.76458959
                      },
                      {
                        "learn": [
                          0.01798175284
                        ],
                        "iteration": 505,
                        "passed_time": 60.01252585,
                        "remaining_time": 58.58930389
                      },
                      {
                        "learn": [
                          0.01797707089
                        ],
                        "iteration": 506,
                        "passed_time": 60.07039331,
                        "remaining_time": 58.41164478
                      },
                      {
                        "learn": [
                          0.01797602251
                        ],
                        "iteration": 507,
                        "passed_time": 60.1306506,
                        "remaining_time": 58.23677184
                      },
                      {
                        "learn": [
                          0.01797547822
                        ],
                        "iteration": 508,
                        "passed_time": 60.18858021,
                        "remaining_time": 58.0601039
                      },
                      {
                        "learn": [
                          0.01797500169
                        ],
                        "iteration": 509,
                        "passed_time": 60.24482307,
                        "remaining_time": 57.88228099
                      },
                      {
                        "learn": [
                          0.01797425264
                        ],
                        "iteration": 510,
                        "passed_time": 60.30317619,
                        "remaining_time": 57.70695334
                      },
                      {
                        "learn": [
                          0.01797393321
                        ],
                        "iteration": 511,
                        "passed_time": 60.36033623,
                        "remaining_time": 57.53094547
                      },
                      {
                        "learn": [
                          0.01797348869
                        ],
                        "iteration": 512,
                        "passed_time": 60.41624033,
                        "remaining_time": 57.35420866
                      },
                      {
                        "learn": [
                          0.01797228767
                        ],
                        "iteration": 513,
                        "passed_time": 60.47511623,
                        "remaining_time": 57.18075193
                      },
                      {
                        "learn": [
                          0.01797098837
                        ],
                        "iteration": 514,
                        "passed_time": 60.53199027,
                        "remaining_time": 57.00585491
                      },
                      {
                        "learn": [
                          0.01796944038
                        ],
                        "iteration": 515,
                        "passed_time": 60.593377,
                        "remaining_time": 56.83564819
                      },
                      {
                        "learn": [
                          0.01796862506
                        ],
                        "iteration": 516,
                        "passed_time": 60.68882707,
                        "remaining_time": 56.69768564
                      },
                      {
                        "learn": [
                          0.01796838754
                        ],
                        "iteration": 517,
                        "passed_time": 60.7503302,
                        "remaining_time": 56.52829953
                      },
                      {
                        "learn": [
                          0.01796813065
                        ],
                        "iteration": 518,
                        "passed_time": 60.8053219,
                        "remaining_time": 56.35329448
                      },
                      {
                        "learn": [
                          0.01796772337
                        ],
                        "iteration": 519,
                        "passed_time": 60.86060718,
                        "remaining_time": 56.17902202
                      },
                      {
                        "learn": [
                          0.01796743149
                        ],
                        "iteration": 520,
                        "passed_time": 60.91560997,
                        "remaining_time": 56.00494659
                      },
                      {
                        "learn": [
                          0.01796589988
                        ],
                        "iteration": 521,
                        "passed_time": 60.97557214,
                        "remaining_time": 55.83586874
                      },
                      {
                        "learn": [
                          0.01796558641
                        ],
                        "iteration": 522,
                        "passed_time": 61.03060565,
                        "remaining_time": 55.662713
                      },
                      {
                        "learn": [
                          0.01796534293
                        ],
                        "iteration": 523,
                        "passed_time": 61.08531566,
                        "remaining_time": 55.48971423
                      },
                      {
                        "learn": [
                          0.01796401533
                        ],
                        "iteration": 524,
                        "passed_time": 61.14505579,
                        "remaining_time": 55.32171714
                      },
                      {
                        "learn": [
                          0.01796260881
                        ],
                        "iteration": 525,
                        "passed_time": 61.20327954,
                        "remaining_time": 55.15276522
                      },
                      {
                        "learn": [
                          0.01796166393
                        ],
                        "iteration": 526,
                        "passed_time": 61.26046839,
                        "remaining_time": 54.98330465
                      },
                      {
                        "learn": [
                          0.01796133482
                        ],
                        "iteration": 527,
                        "passed_time": 61.31630731,
                        "remaining_time": 54.81306259
                      },
                      {
                        "learn": [
                          0.01795942943
                        ],
                        "iteration": 528,
                        "passed_time": 61.37295155,
                        "remaining_time": 54.64397009
                      },
                      {
                        "learn": [
                          0.01795901693
                        ],
                        "iteration": 529,
                        "passed_time": 61.42839951,
                        "remaining_time": 54.47424108
                      },
                      {
                        "learn": [
                          0.01795811002
                        ],
                        "iteration": 530,
                        "passed_time": 61.48414248,
                        "remaining_time": 54.30520306
                      },
                      {
                        "learn": [
                          0.01795531857
                        ],
                        "iteration": 531,
                        "passed_time": 61.54287425,
                        "remaining_time": 54.13922021
                      },
                      {
                        "learn": [
                          0.01795512126
                        ],
                        "iteration": 532,
                        "passed_time": 61.60159292,
                        "remaining_time": 53.97362832
                      },
                      {
                        "learn": [
                          0.01795374824
                        ],
                        "iteration": 533,
                        "passed_time": 61.67110955,
                        "remaining_time": 53.81785964
                      },
                      {
                        "learn": [
                          0.0179522963
                        ],
                        "iteration": 534,
                        "passed_time": 61.76873477,
                        "remaining_time": 53.68684424
                      },
                      {
                        "learn": [
                          0.01795191284
                        ],
                        "iteration": 535,
                        "passed_time": 61.82451907,
                        "remaining_time": 53.51973293
                      },
                      {
                        "learn": [
                          0.01795170957
                        ],
                        "iteration": 536,
                        "passed_time": 61.87912899,
                        "remaining_time": 53.35202369
                      },
                      {
                        "learn": [
                          0.01795066194
                        ],
                        "iteration": 537,
                        "passed_time": 61.96145851,
                        "remaining_time": 53.20853872
                      },
                      {
                        "learn": [
                          0.01794971184
                        ],
                        "iteration": 538,
                        "passed_time": 62.06602047,
                        "remaining_time": 53.0842958
                      },
                      {
                        "learn": [
                          0.01794571119
                        ],
                        "iteration": 539,
                        "passed_time": 62.1943218,
                        "remaining_time": 52.9803482
                      },
                      {
                        "learn": [
                          0.01794153853
                        ],
                        "iteration": 540,
                        "passed_time": 62.32147434,
                        "remaining_time": 52.8753359
                      },
                      {
                        "learn": [
                          0.01793985502
                        ],
                        "iteration": 541,
                        "passed_time": 62.44119313,
                        "remaining_time": 52.76396024
                      },
                      {
                        "learn": [
                          0.0179374381
                        ],
                        "iteration": 542,
                        "passed_time": 62.57091272,
                        "remaining_time": 52.66097074
                      },
                      {
                        "learn": [
                          0.01793145387
                        ],
                        "iteration": 543,
                        "passed_time": 62.71851576,
                        "remaining_time": 52.5728735
                      },
                      {
                        "learn": [
                          0.01792875325
                        ],
                        "iteration": 544,
                        "passed_time": 62.88293897,
                        "remaining_time": 52.49860042
                      },
                      {
                        "learn": [
                          0.01792769222
                        ],
                        "iteration": 545,
                        "passed_time": 62.99586366,
                        "remaining_time": 52.38117601
                      },
                      {
                        "learn": [
                          0.01792726706
                        ],
                        "iteration": 546,
                        "passed_time": 63.1409763,
                        "remaining_time": 52.29042462
                      },
                      {
                        "learn": [
                          0.01792590224
                        ],
                        "iteration": 547,
                        "passed_time": 63.29835635,
                        "remaining_time": 52.20959319
                      },
                      {
                        "learn": [
                          0.01791951444
                        ],
                        "iteration": 548,
                        "passed_time": 63.45247169,
                        "remaining_time": 52.12580097
                      },
                      {
                        "learn": [
                          0.01791827694
                        ],
                        "iteration": 549,
                        "passed_time": 63.56451867,
                        "remaining_time": 52.00733346
                      },
                      {
                        "learn": [
                          0.01791661279
                        ],
                        "iteration": 550,
                        "passed_time": 63.70051552,
                        "remaining_time": 51.90840557
                      },
                      {
                        "learn": [
                          0.01791318844
                        ],
                        "iteration": 551,
                        "passed_time": 63.86247259,
                        "remaining_time": 51.83041254
                      },
                      {
                        "learn": [
                          0.01791072535
                        ],
                        "iteration": 552,
                        "passed_time": 63.99337322,
                        "remaining_time": 51.72701235
                      },
                      {
                        "learn": [
                          0.01790946105
                        ],
                        "iteration": 553,
                        "passed_time": 64.11142808,
                        "remaining_time": 51.61317134
                      },
                      {
                        "learn": [
                          0.01790830322
                        ],
                        "iteration": 554,
                        "passed_time": 64.25113722,
                        "remaining_time": 51.51667759
                      },
                      {
                        "learn": [
                          0.01790754746
                        ],
                        "iteration": 555,
                        "passed_time": 64.39299541,
                        "remaining_time": 51.42174453
                      },
                      {
                        "learn": [
                          0.01790598979
                        ],
                        "iteration": 556,
                        "passed_time": 64.54051096,
                        "remaining_time": 51.33114247
                      },
                      {
                        "learn": [
                          0.01790408365
                        ],
                        "iteration": 557,
                        "passed_time": 64.67848977,
                        "remaining_time": 51.23278222
                      },
                      {
                        "learn": [
                          0.01790276499
                        ],
                        "iteration": 558,
                        "passed_time": 64.7833589,
                        "remaining_time": 51.10815971
                      },
                      {
                        "learn": [
                          0.01790144261
                        ],
                        "iteration": 559,
                        "passed_time": 64.88637686,
                        "remaining_time": 50.98215325
                      },
                      {
                        "learn": [
                          0.01790033838
                        ],
                        "iteration": 560,
                        "passed_time": 64.94374465,
                        "remaining_time": 50.82050606
                      },
                      {
                        "learn": [
                          0.01789686415
                        ],
                        "iteration": 561,
                        "passed_time": 65.00131353,
                        "remaining_time": 50.6593867
                      },
                      {
                        "learn": [
                          0.01789604511
                        ],
                        "iteration": 562,
                        "passed_time": 65.05922066,
                        "remaining_time": 50.49889774
                      },
                      {
                        "learn": [
                          0.01789396622
                        ],
                        "iteration": 563,
                        "passed_time": 65.12018844,
                        "remaining_time": 50.34113858
                      },
                      {
                        "learn": [
                          0.01789278978
                        ],
                        "iteration": 564,
                        "passed_time": 65.17959577,
                        "remaining_time": 50.18252063
                      },
                      {
                        "learn": [
                          0.01789119562
                        ],
                        "iteration": 565,
                        "passed_time": 65.23881975,
                        "remaining_time": 50.02411267
                      },
                      {
                        "learn": [
                          0.01789069675
                        ],
                        "iteration": 566,
                        "passed_time": 65.29293508,
                        "remaining_time": 49.86215325
                      },
                      {
                        "learn": [
                          0.0178880289
                        ],
                        "iteration": 567,
                        "passed_time": 65.34933088,
                        "remaining_time": 49.70230799
                      },
                      {
                        "learn": [
                          0.01788685096
                        ],
                        "iteration": 568,
                        "passed_time": 65.40554359,
                        "remaining_time": 49.54268767
                      },
                      {
                        "learn": [
                          0.0178865777
                        ],
                        "iteration": 569,
                        "passed_time": 65.47558423,
                        "remaining_time": 49.39386179
                      },
                      {
                        "learn": [
                          0.01788559932
                        ],
                        "iteration": 570,
                        "passed_time": 65.53427954,
                        "remaining_time": 49.23678795
                      },
                      {
                        "learn": [
                          0.01788374158
                        ],
                        "iteration": 571,
                        "passed_time": 65.58970744,
                        "remaining_time": 49.07761326
                      },
                      {
                        "learn": [
                          0.01788352565
                        ],
                        "iteration": 572,
                        "passed_time": 65.64715169,
                        "remaining_time": 48.92030326
                      },
                      {
                        "learn": [
                          0.01788115191
                        ],
                        "iteration": 573,
                        "passed_time": 65.70431285,
                        "remaining_time": 48.76313114
                      },
                      {
                        "learn": [
                          0.01788091736
                        ],
                        "iteration": 574,
                        "passed_time": 65.75952651,
                        "remaining_time": 48.60486742
                      },
                      {
                        "learn": [
                          0.01788050114
                        ],
                        "iteration": 575,
                        "passed_time": 65.82006863,
                        "remaining_time": 48.45088385
                      },
                      {
                        "learn": [
                          0.01788033361
                        ],
                        "iteration": 576,
                        "passed_time": 65.91878833,
                        "remaining_time": 48.32521224
                      },
                      {
                        "learn": [
                          0.01788002833
                        ],
                        "iteration": 577,
                        "passed_time": 65.9755387,
                        "remaining_time": 48.16899192
                      },
                      {
                        "learn": [
                          0.01787863446
                        ],
                        "iteration": 578,
                        "passed_time": 66.03139921,
                        "remaining_time": 48.01246816
                      },
                      {
                        "learn": [
                          0.01787622201
                        ],
                        "iteration": 579,
                        "passed_time": 66.0897082,
                        "remaining_time": 47.85806456
                      },
                      {
                        "learn": [
                          0.01787587354
                        ],
                        "iteration": 580,
                        "passed_time": 66.15776601,
                        "remaining_time": 47.7110223
                      },
                      {
                        "learn": [
                          0.01787566059
                        ],
                        "iteration": 581,
                        "passed_time": 66.21553419,
                        "remaining_time": 47.55686132
                      },
                      {
                        "learn": [
                          0.01787514087
                        ],
                        "iteration": 582,
                        "passed_time": 66.2731463,
                        "remaining_time": 47.40291939
                      },
                      {
                        "learn": [
                          0.01787429428
                        ],
                        "iteration": 583,
                        "passed_time": 66.33062805,
                        "remaining_time": 47.2492145
                      },
                      {
                        "learn": [
                          0.01787216551
                        ],
                        "iteration": 584,
                        "passed_time": 66.38960159,
                        "remaining_time": 47.09689686
                      },
                      {
                        "learn": [
                          0.0178714857
                        ],
                        "iteration": 585,
                        "passed_time": 66.44616537,
                        "remaining_time": 46.94319533
                      },
                      {
                        "learn": [
                          0.01787106575
                        ],
                        "iteration": 586,
                        "passed_time": 66.50314614,
                        "remaining_time": 46.79011815
                      },
                      {
                        "learn": [
                          0.01787040531
                        ],
                        "iteration": 587,
                        "passed_time": 66.56218569,
                        "remaining_time": 46.63881038
                      },
                      {
                        "learn": [
                          0.01786690501
                        ],
                        "iteration": 588,
                        "passed_time": 66.62255034,
                        "remaining_time": 46.48874056
                      },
                      {
                        "learn": [
                          0.0178658343
                        ],
                        "iteration": 589,
                        "passed_time": 66.67883307,
                        "remaining_time": 46.33613823
                      },
                      {
                        "learn": [
                          0.01786482985
                        ],
                        "iteration": 590,
                        "passed_time": 66.73284323,
                        "remaining_time": 46.18228914
                      },
                      {
                        "learn": [
                          0.01786465636
                        ],
                        "iteration": 591,
                        "passed_time": 66.78740631,
                        "remaining_time": 46.0291584
                      },
                      {
                        "learn": [
                          0.01786439427
                        ],
                        "iteration": 592,
                        "passed_time": 66.84207818,
                        "remaining_time": 45.87643477
                      },
                      {
                        "learn": [
                          0.01786377775
                        ],
                        "iteration": 593,
                        "passed_time": 66.94115448,
                        "remaining_time": 45.75439178
                      },
                      {
                        "learn": [
                          0.01786309571
                        ],
                        "iteration": 594,
                        "passed_time": 66.99805812,
                        "remaining_time": 45.60372023
                      },
                      {
                        "learn": [
                          0.01786187534
                        ],
                        "iteration": 595,
                        "passed_time": 67.05469462,
                        "remaining_time": 45.45318226
                      },
                      {
                        "learn": [
                          0.01786165866
                        ],
                        "iteration": 596,
                        "passed_time": 67.1100204,
                        "remaining_time": 45.30207407
                      },
                      {
                        "learn": [
                          0.0178614189
                        ],
                        "iteration": 597,
                        "passed_time": 67.16799895,
                        "remaining_time": 45.15306953
                      },
                      {
                        "learn": [
                          0.01786133775
                        ],
                        "iteration": 598,
                        "passed_time": 67.22392924,
                        "remaining_time": 45.0029977
                      },
                      {
                        "learn": [
                          0.01786115458
                        ],
                        "iteration": 599,
                        "passed_time": 67.28204841,
                        "remaining_time": 44.85469894
                      },
                      {
                        "learn": [
                          0.0178598523
                        ],
                        "iteration": 600,
                        "passed_time": 67.33888824,
                        "remaining_time": 44.70585093
                      },
                      {
                        "learn": [
                          0.01785817921
                        ],
                        "iteration": 601,
                        "passed_time": 67.39629016,
                        "remaining_time": 44.5576802
                      },
                      {
                        "learn": [
                          0.01785741155
                        ],
                        "iteration": 602,
                        "passed_time": 67.45336102,
                        "remaining_time": 44.40959258
                      },
                      {
                        "learn": [
                          0.01785606236
                        ],
                        "iteration": 603,
                        "passed_time": 67.5102454,
                        "remaining_time": 44.26168407
                      },
                      {
                        "learn": [
                          0.0178554786
                        ],
                        "iteration": 604,
                        "passed_time": 67.56942743,
                        "remaining_time": 44.11557659
                      },
                      {
                        "learn": [
                          0.01785481518
                        ],
                        "iteration": 605,
                        "passed_time": 67.62811034,
                        "remaining_time": 43.96943147
                      },
                      {
                        "learn": [
                          0.01785450766
                        ],
                        "iteration": 606,
                        "passed_time": 67.68503108,
                        "remaining_time": 43.82243363
                      },
                      {
                        "learn": [
                          0.0178539656
                        ],
                        "iteration": 607,
                        "passed_time": 67.74252851,
                        "remaining_time": 43.67610391
                      },
                      {
                        "learn": [
                          0.01785359629
                        ],
                        "iteration": 608,
                        "passed_time": 67.79732396,
                        "remaining_time": 43.52833115
                      },
                      {
                        "learn": [
                          0.01785344439
                        ],
                        "iteration": 609,
                        "passed_time": 67.85173592,
                        "remaining_time": 43.38061804
                      },
                      {
                        "learn": [
                          0.01785246005
                        ],
                        "iteration": 610,
                        "passed_time": 67.95274557,
                        "remaining_time": 43.2628773
                      },
                      {
                        "learn": [
                          0.01785222253
                        ],
                        "iteration": 611,
                        "passed_time": 68.00810125,
                        "remaining_time": 43.1162472
                      },
                      {
                        "learn": [
                          0.01785206542
                        ],
                        "iteration": 612,
                        "passed_time": 68.06380047,
                        "remaining_time": 42.97013178
                      },
                      {
                        "learn": [
                          0.01784957404
                        ],
                        "iteration": 613,
                        "passed_time": 68.12440622,
                        "remaining_time": 42.82739544
                      },
                      {
                        "learn": [
                          0.01784282437
                        ],
                        "iteration": 614,
                        "passed_time": 68.18975888,
                        "remaining_time": 42.68789783
                      },
                      {
                        "learn": [
                          0.0178396167
                        ],
                        "iteration": 615,
                        "passed_time": 68.24843138,
                        "remaining_time": 42.54447671
                      },
                      {
                        "learn": [
                          0.01783676643
                        ],
                        "iteration": 616,
                        "passed_time": 68.30408875,
                        "remaining_time": 42.39945866
                      },
                      {
                        "learn": [
                          0.01783479998
                        ],
                        "iteration": 617,
                        "passed_time": 68.36129298,
                        "remaining_time": 42.25568595
                      },
                      {
                        "learn": [
                          0.01783382085
                        ],
                        "iteration": 618,
                        "passed_time": 68.41737344,
                        "remaining_time": 42.11150126
                      },
                      {
                        "learn": [
                          0.01783336442
                        ],
                        "iteration": 619,
                        "passed_time": 68.47274424,
                        "remaining_time": 41.96716582
                      },
                      {
                        "learn": [
                          0.01783264887
                        ],
                        "iteration": 620,
                        "passed_time": 68.53115987,
                        "remaining_time": 41.82497518
                      },
                      {
                        "learn": [
                          0.01783115076
                        ],
                        "iteration": 621,
                        "passed_time": 68.58956204,
                        "remaining_time": 41.68304574
                      },
                      {
                        "learn": [
                          0.01782995421
                        ],
                        "iteration": 622,
                        "passed_time": 68.64870159,
                        "remaining_time": 41.54183066
                      },
                      {
                        "learn": [
                          0.01782925281
                        ],
                        "iteration": 623,
                        "passed_time": 68.70362235,
                        "remaining_time": 41.39833654
                      },
                      {
                        "learn": [
                          0.01782828634
                        ],
                        "iteration": 624,
                        "passed_time": 68.75892849,
                        "remaining_time": 41.25535709
                      },
                      {
                        "learn": [
                          0.01782723797
                        ],
                        "iteration": 625,
                        "passed_time": 68.81337677,
                        "remaining_time": 41.11214523
                      },
                      {
                        "learn": [
                          0.01782530949
                        ],
                        "iteration": 626,
                        "passed_time": 68.86991031,
                        "remaining_time": 40.97045701
                      },
                      {
                        "learn": [
                          0.01782290522
                        ],
                        "iteration": 627,
                        "passed_time": 68.975993,
                        "remaining_time": 40.85839076
                      },
                      {
                        "learn": [
                          0.01782242794
                        ],
                        "iteration": 628,
                        "passed_time": 69.03234145,
                        "remaining_time": 40.71700903
                      },
                      {
                        "learn": [
                          0.01782091793
                        ],
                        "iteration": 629,
                        "passed_time": 69.08880185,
                        "remaining_time": 40.57596299
                      },
                      {
                        "learn": [
                          0.01782022174
                        ],
                        "iteration": 630,
                        "passed_time": 69.14584398,
                        "remaining_time": 40.43552525
                      },
                      {
                        "learn": [
                          0.01781818381
                        ],
                        "iteration": 631,
                        "passed_time": 69.20309936,
                        "remaining_time": 40.29547558
                      },
                      {
                        "learn": [
                          0.01781682494
                        ],
                        "iteration": 632,
                        "passed_time": 69.26468334,
                        "remaining_time": 40.15819714
                      },
                      {
                        "learn": [
                          0.01781577656
                        ],
                        "iteration": 633,
                        "passed_time": 69.32251123,
                        "remaining_time": 40.01898913
                      },
                      {
                        "learn": [
                          0.01781379001
                        ],
                        "iteration": 634,
                        "passed_time": 69.37939162,
                        "remaining_time": 39.87949282
                      },
                      {
                        "learn": [
                          0.01781234105
                        ],
                        "iteration": 635,
                        "passed_time": 69.43617086,
                        "remaining_time": 39.74019842
                      },
                      {
                        "learn": [
                          0.01781123087
                        ],
                        "iteration": 636,
                        "passed_time": 69.49237315,
                        "remaining_time": 39.60083431
                      },
                      {
                        "learn": [
                          0.01780845505
                        ],
                        "iteration": 637,
                        "passed_time": 69.55061926,
                        "remaining_time": 39.46289055
                      },
                      {
                        "learn": [
                          0.01780749082
                        ],
                        "iteration": 638,
                        "passed_time": 69.60926826,
                        "remaining_time": 39.32542385
                      },
                      {
                        "learn": [
                          0.01780551692
                        ],
                        "iteration": 639,
                        "passed_time": 69.66977632,
                        "remaining_time": 39.18924918
                      },
                      {
                        "learn": [
                          0.0178047567
                        ],
                        "iteration": 640,
                        "passed_time": 69.72789008,
                        "remaining_time": 39.05196964
                      },
                      {
                        "learn": [
                          0.01780405232
                        ],
                        "iteration": 641,
                        "passed_time": 69.78450704,
                        "remaining_time": 38.91410206
                      },
                      {
                        "learn": [
                          0.01780392723
                        ],
                        "iteration": 642,
                        "passed_time": 69.83972864,
                        "remaining_time": 38.77571248
                      },
                      {
                        "learn": [
                          0.01780309181
                        ],
                        "iteration": 643,
                        "passed_time": 69.89627414,
                        "remaining_time": 38.63831303
                      },
                      {
                        "learn": [
                          0.01780112387
                        ],
                        "iteration": 644,
                        "passed_time": 69.98298953,
                        "remaining_time": 38.51776943
                      },
                      {
                        "learn": [
                          0.01780063318
                        ],
                        "iteration": 645,
                        "passed_time": 70.05534507,
                        "remaining_time": 38.38946154
                      },
                      {
                        "learn": [
                          0.01779877768
                        ],
                        "iteration": 646,
                        "passed_time": 70.11317587,
                        "remaining_time": 38.25340198
                      },
                      {
                        "learn": [
                          0.01779783429
                        ],
                        "iteration": 647,
                        "passed_time": 70.17133679,
                        "remaining_time": 38.11776319
                      },
                      {
                        "learn": [
                          0.01779663476
                        ],
                        "iteration": 648,
                        "passed_time": 70.23048948,
                        "remaining_time": 37.98289955
                      },
                      {
                        "learn": [
                          0.01779588645
                        ],
                        "iteration": 649,
                        "passed_time": 70.29192854,
                        "remaining_time": 37.84949998
                      },
                      {
                        "learn": [
                          0.01779415008
                        ],
                        "iteration": 650,
                        "passed_time": 70.35105208,
                        "remaining_time": 37.71508015
                      },
                      {
                        "learn": [
                          0.01779405775
                        ],
                        "iteration": 651,
                        "passed_time": 70.4085826,
                        "remaining_time": 37.58004102
                      },
                      {
                        "learn": [
                          0.01779302799
                        ],
                        "iteration": 652,
                        "passed_time": 70.46497888,
                        "remaining_time": 37.44463656
                      },
                      {
                        "learn": [
                          0.01779285301
                        ],
                        "iteration": 653,
                        "passed_time": 70.52229717,
                        "remaining_time": 37.3099615
                      },
                      {
                        "learn": [
                          0.01779097591
                        ],
                        "iteration": 654,
                        "passed_time": 70.57937584,
                        "remaining_time": 37.17539644
                      },
                      {
                        "learn": [
                          0.01778753965
                        ],
                        "iteration": 655,
                        "passed_time": 70.63960121,
                        "remaining_time": 37.04271771
                      },
                      {
                        "learn": [
                          0.01778531632
                        ],
                        "iteration": 656,
                        "passed_time": 70.69712342,
                        "remaining_time": 36.9088483
                      },
                      {
                        "learn": [
                          0.01778368195
                        ],
                        "iteration": 657,
                        "passed_time": 70.75578627,
                        "remaining_time": 36.77580381
                      },
                      {
                        "learn": [
                          0.017782335
                        ],
                        "iteration": 658,
                        "passed_time": 70.81321226,
                        "remaining_time": 36.64234504
                      },
                      {
                        "learn": [
                          0.01778045566
                        ],
                        "iteration": 659,
                        "passed_time": 70.86907588,
                        "remaining_time": 36.50831182
                      },
                      {
                        "learn": [
                          0.01777948324
                        ],
                        "iteration": 660,
                        "passed_time": 70.9253011,
                        "remaining_time": 36.37470056
                      },
                      {
                        "learn": [
                          0.01777749743
                        ],
                        "iteration": 661,
                        "passed_time": 71.0271329,
                        "remaining_time": 36.26460864
                      },
                      {
                        "learn": [
                          0.01777705589
                        ],
                        "iteration": 662,
                        "passed_time": 71.08919153,
                        "remaining_time": 36.13432511
                      },
                      {
                        "learn": [
                          0.01777514603
                        ],
                        "iteration": 663,
                        "passed_time": 71.15231827,
                        "remaining_time": 36.00478756
                      },
                      {
                        "learn": [
                          0.01777405968
                        ],
                        "iteration": 664,
                        "passed_time": 71.209832,
                        "remaining_time": 35.87262214
                      },
                      {
                        "learn": [
                          0.01777258763
                        ],
                        "iteration": 665,
                        "passed_time": 71.2671679,
                        "remaining_time": 35.74059171
                      },
                      {
                        "learn": [
                          0.01777194282
                        ],
                        "iteration": 666,
                        "passed_time": 71.3238725,
                        "remaining_time": 35.60847008
                      },
                      {
                        "learn": [
                          0.0177711543
                        ],
                        "iteration": 667,
                        "passed_time": 71.38117819,
                        "remaining_time": 35.47687299
                      },
                      {
                        "learn": [
                          0.01777029282
                        ],
                        "iteration": 668,
                        "passed_time": 71.44009658,
                        "remaining_time": 35.34629592
                      },
                      {
                        "learn": [
                          0.01776909776
                        ],
                        "iteration": 669,
                        "passed_time": 71.4968759,
                        "remaining_time": 35.21487918
                      },
                      {
                        "learn": [
                          0.01776805236
                        ],
                        "iteration": 670,
                        "passed_time": 71.55508155,
                        "remaining_time": 35.08438425
                      },
                      {
                        "learn": [
                          0.01776737553
                        ],
                        "iteration": 671,
                        "passed_time": 71.61376686,
                        "remaining_time": 34.95433859
                      },
                      {
                        "learn": [
                          0.01776571064
                        ],
                        "iteration": 672,
                        "passed_time": 71.67373662,
                        "remaining_time": 34.82512908
                      },
                      {
                        "learn": [
                          0.01776410978
                        ],
                        "iteration": 673,
                        "passed_time": 71.73217565,
                        "remaining_time": 34.69538466
                      },
                      {
                        "learn": [
                          0.01776255434
                        ],
                        "iteration": 674,
                        "passed_time": 71.78804435,
                        "remaining_time": 34.56461395
                      },
                      {
                        "learn": [
                          0.01776185518
                        ],
                        "iteration": 675,
                        "passed_time": 71.84492636,
                        "remaining_time": 34.4345505
                      },
                      {
                        "learn": [
                          0.0177616802
                        ],
                        "iteration": 676,
                        "passed_time": 71.8974232,
                        "remaining_time": 34.30261107
                      },
                      {
                        "learn": [
                          0.01775996393
                        ],
                        "iteration": 677,
                        "passed_time": 71.9541567,
                        "remaining_time": 34.17291808
                      },
                      {
                        "learn": [
                          0.01775952016
                        ],
                        "iteration": 678,
                        "passed_time": 72.04799475,
                        "remaining_time": 34.06098132
                      },
                      {
                        "learn": [
                          0.01775717992
                        ],
                        "iteration": 679,
                        "passed_time": 72.11932616,
                        "remaining_time": 33.93850643
                      },
                      {
                        "learn": [
                          0.01775656639
                        ],
                        "iteration": 680,
                        "passed_time": 72.17787808,
                        "remaining_time": 33.81019546
                      },
                      {
                        "learn": [
                          0.01775476226
                        ],
                        "iteration": 681,
                        "passed_time": 72.23406654,
                        "remaining_time": 33.68098704
                      },
                      {
                        "learn": [
                          0.01775391194
                        ],
                        "iteration": 682,
                        "passed_time": 72.29021017,
                        "remaining_time": 33.55197163
                      },
                      {
                        "learn": [
                          0.01775281963
                        ],
                        "iteration": 683,
                        "passed_time": 72.35291599,
                        "remaining_time": 33.42620096
                      },
                      {
                        "learn": [
                          0.01775220386
                        ],
                        "iteration": 684,
                        "passed_time": 72.41368815,
                        "remaining_time": 33.29972521
                      },
                      {
                        "learn": [
                          0.01775175636
                        ],
                        "iteration": 685,
                        "passed_time": 72.4699513,
                        "remaining_time": 33.17137712
                      },
                      {
                        "learn": [
                          0.0177487542
                        ],
                        "iteration": 686,
                        "passed_time": 72.52923045,
                        "remaining_time": 33.044613
                      },
                      {
                        "learn": [
                          0.01774691805
                        ],
                        "iteration": 687,
                        "passed_time": 72.58615046,
                        "remaining_time": 32.91697521
                      },
                      {
                        "learn": [
                          0.01774488533
                        ],
                        "iteration": 688,
                        "passed_time": 72.64599219,
                        "remaining_time": 32.7908615
                      },
                      {
                        "learn": [
                          0.01774395013
                        ],
                        "iteration": 689,
                        "passed_time": 72.7024654,
                        "remaining_time": 32.66342648
                      },
                      {
                        "learn": [
                          0.01774353837
                        ],
                        "iteration": 690,
                        "passed_time": 72.76060278,
                        "remaining_time": 32.53694104
                      },
                      {
                        "learn": [
                          0.01774256967
                        ],
                        "iteration": 691,
                        "passed_time": 72.81494937,
                        "remaining_time": 32.4089659
                      },
                      {
                        "learn": [
                          0.01774208867
                        ],
                        "iteration": 692,
                        "passed_time": 72.87068481,
                        "remaining_time": 32.28181852
                      },
                      {
                        "learn": [
                          0.01774056897
                        ],
                        "iteration": 693,
                        "passed_time": 72.92636372,
                        "remaining_time": 32.15485201
                      },
                      {
                        "learn": [
                          0.01773987948
                        ],
                        "iteration": 694,
                        "passed_time": 72.98247759,
                        "remaining_time": 32.02828153
                      },
                      {
                        "learn": [
                          0.01773928456
                        ],
                        "iteration": 695,
                        "passed_time": 73.08071168,
                        "remaining_time": 31.92031085
                      },
                      {
                        "learn": [
                          0.01773709548
                        ],
                        "iteration": 696,
                        "passed_time": 73.15499984,
                        "remaining_time": 31.80195833
                      },
                      {
                        "learn": [
                          0.01773578947
                        ],
                        "iteration": 697,
                        "passed_time": 73.21378117,
                        "remaining_time": 31.6770228
                      },
                      {
                        "learn": [
                          0.01773459665
                        ],
                        "iteration": 698,
                        "passed_time": 73.27319132,
                        "remaining_time": 31.55254734
                      },
                      {
                        "learn": [
                          0.01773296973
                        ],
                        "iteration": 699,
                        "passed_time": 73.32866481,
                        "remaining_time": 31.42657063
                      },
                      {
                        "learn": [
                          0.01773024231
                        ],
                        "iteration": 700,
                        "passed_time": 73.38666993,
                        "remaining_time": 31.30187491
                      },
                      {
                        "learn": [
                          0.01772813811
                        ],
                        "iteration": 701,
                        "passed_time": 73.44404011,
                        "remaining_time": 31.17709965
                      },
                      {
                        "learn": [
                          0.01772749405
                        ],
                        "iteration": 702,
                        "passed_time": 73.49968999,
                        "remaining_time": 31.05178937
                      },
                      {
                        "learn": [
                          0.01772675244
                        ],
                        "iteration": 703,
                        "passed_time": 73.55665431,
                        "remaining_time": 30.92722965
                      },
                      {
                        "learn": [
                          0.0177253891
                        ],
                        "iteration": 704,
                        "passed_time": 73.61296149,
                        "remaining_time": 30.80258672
                      },
                      {
                        "learn": [
                          0.01772124251
                        ],
                        "iteration": 705,
                        "passed_time": 73.67257563,
                        "remaining_time": 30.6795145
                      },
                      {
                        "learn": [
                          0.01772027678
                        ],
                        "iteration": 706,
                        "passed_time": 73.72896085,
                        "remaining_time": 30.55528363
                      },
                      {
                        "learn": [
                          0.01771909438
                        ],
                        "iteration": 707,
                        "passed_time": 73.78465036,
                        "remaining_time": 30.43095749
                      },
                      {
                        "learn": [
                          0.01771849275
                        ],
                        "iteration": 708,
                        "passed_time": 73.840309,
                        "remaining_time": 30.3068123
                      },
                      {
                        "learn": [
                          0.01771662831
                        ],
                        "iteration": 709,
                        "passed_time": 73.89647573,
                        "remaining_time": 30.18306755
                      },
                      {
                        "learn": [
                          0.01771588894
                        ],
                        "iteration": 710,
                        "passed_time": 73.95199773,
                        "remaining_time": 30.05925083
                      },
                      {
                        "learn": [
                          0.01771420096
                        ],
                        "iteration": 711,
                        "passed_time": 74.00919264,
                        "remaining_time": 29.93630264
                      },
                      {
                        "learn": [
                          0.01771336033
                        ],
                        "iteration": 712,
                        "passed_time": 74.11094899,
                        "remaining_time": 29.83147596
                      },
                      {
                        "learn": [
                          0.0177128622
                        ],
                        "iteration": 713,
                        "passed_time": 74.18859798,
                        "remaining_time": 29.71700143
                      },
                      {
                        "learn": [
                          0.01771197912
                        ],
                        "iteration": 714,
                        "passed_time": 74.24672288,
                        "remaining_time": 29.59484758
                      },
                      {
                        "learn": [
                          0.01771058377
                        ],
                        "iteration": 715,
                        "passed_time": 74.30255338,
                        "remaining_time": 29.47196252
                      },
                      {
                        "learn": [
                          0.01770765755
                        ],
                        "iteration": 716,
                        "passed_time": 74.3600209,
                        "remaining_time": 29.34991062
                      },
                      {
                        "learn": [
                          0.01770617433
                        ],
                        "iteration": 717,
                        "passed_time": 74.41702268,
                        "remaining_time": 29.2278557
                      },
                      {
                        "learn": [
                          0.01770584374
                        ],
                        "iteration": 718,
                        "passed_time": 74.47696721,
                        "remaining_time": 29.10713183
                      },
                      {
                        "learn": [
                          0.01770187808
                        ],
                        "iteration": 719,
                        "passed_time": 74.53511512,
                        "remaining_time": 28.9858781
                      },
                      {
                        "learn": [
                          0.01770106648
                        ],
                        "iteration": 720,
                        "passed_time": 74.59052713,
                        "remaining_time": 28.86374073
                      },
                      {
                        "learn": [
                          0.0176990561
                        ],
                        "iteration": 721,
                        "passed_time": 74.65041652,
                        "remaining_time": 28.74351218
                      },
                      {
                        "learn": [
                          0.01769615817
                        ],
                        "iteration": 722,
                        "passed_time": 74.70846559,
                        "remaining_time": 28.62274546
                      },
                      {
                        "learn": [
                          0.01769469506
                        ],
                        "iteration": 723,
                        "passed_time": 74.78537779,
                        "remaining_time": 28.50934292
                      },
                      {
                        "learn": [
                          0.01769358712
                        ],
                        "iteration": 724,
                        "passed_time": 74.88206664,
                        "remaining_time": 28.40354252
                      },
                      {
                        "learn": [
                          0.01769135783
                        ],
                        "iteration": 725,
                        "passed_time": 74.99443124,
                        "remaining_time": 28.30368342
                      },
                      {
                        "learn": [
                          0.01768987983
                        ],
                        "iteration": 726,
                        "passed_time": 75.13666953,
                        "remaining_time": 28.21500795
                      },
                      {
                        "learn": [
                          0.01768942861
                        ],
                        "iteration": 727,
                        "passed_time": 75.28727442,
                        "remaining_time": 28.12931132
                      },
                      {
                        "learn": [
                          0.01768891261
                        ],
                        "iteration": 728,
                        "passed_time": 75.42189058,
                        "remaining_time": 28.03749293
                      },
                      {
                        "learn": [
                          0.01768698413
                        ],
                        "iteration": 729,
                        "passed_time": 75.56410373,
                        "remaining_time": 27.94836713
                      },
                      {
                        "learn": [
                          0.017685352
                        ],
                        "iteration": 730,
                        "passed_time": 75.70224386,
                        "remaining_time": 27.85759726
                      },
                      {
                        "learn": [
                          0.01768449275
                        ],
                        "iteration": 731,
                        "passed_time": 75.82880161,
                        "remaining_time": 27.76245742
                      },
                      {
                        "learn": [
                          0.017683737
                        ],
                        "iteration": 732,
                        "passed_time": 75.95570821,
                        "remaining_time": 27.66735893
                      },
                      {
                        "learn": [
                          0.01768306315
                        ],
                        "iteration": 733,
                        "passed_time": 76.08406187,
                        "remaining_time": 27.57269817
                      },
                      {
                        "learn": [
                          0.01768256949
                        ],
                        "iteration": 734,
                        "passed_time": 76.22153023,
                        "remaining_time": 27.48123199
                      },
                      {
                        "learn": [
                          0.01767949137
                        ],
                        "iteration": 735,
                        "passed_time": 76.38279967,
                        "remaining_time": 27.39817814
                      },
                      {
                        "learn": [
                          0.01767829557
                        ],
                        "iteration": 736,
                        "passed_time": 76.50880724,
                        "remaining_time": 27.30232877
                      },
                      {
                        "learn": [
                          0.01767764703
                        ],
                        "iteration": 737,
                        "passed_time": 76.6123394,
                        "remaining_time": 27.19841859
                      },
                      {
                        "learn": [
                          0.01767669024
                        ],
                        "iteration": 738,
                        "passed_time": 76.72029373,
                        "remaining_time": 27.09607126
                      },
                      {
                        "learn": [
                          0.01767633209
                        ],
                        "iteration": 739,
                        "passed_time": 76.8384988,
                        "remaining_time": 26.99731039
                      },
                      {
                        "learn": [
                          0.01767458381
                        ],
                        "iteration": 740,
                        "passed_time": 76.96017889,
                        "remaining_time": 26.89971165
                      },
                      {
                        "learn": [
                          0.01767226666
                        ],
                        "iteration": 741,
                        "passed_time": 77.10054965,
                        "remaining_time": 26.80854691
                      },
                      {
                        "learn": [
                          0.01767051167
                        ],
                        "iteration": 742,
                        "passed_time": 77.24727857,
                        "remaining_time": 26.71944898
                      },
                      {
                        "learn": [
                          0.01767005301
                        ],
                        "iteration": 743,
                        "passed_time": 77.41902025,
                        "remaining_time": 26.63880267
                      },
                      {
                        "learn": [
                          0.01766929353
                        ],
                        "iteration": 744,
                        "passed_time": 77.55610922,
                        "remaining_time": 26.54605081
                      },
                      {
                        "learn": [
                          0.01766744398
                        ],
                        "iteration": 745,
                        "passed_time": 77.66102484,
                        "remaining_time": 26.44222562
                      },
                      {
                        "learn": [
                          0.01766700914
                        ],
                        "iteration": 746,
                        "passed_time": 77.72074269,
                        "remaining_time": 26.32308956
                      },
                      {
                        "learn": [
                          0.01766271512
                        ],
                        "iteration": 747,
                        "passed_time": 77.78222631,
                        "remaining_time": 26.20470726
                      },
                      {
                        "learn": [
                          0.01766217976
                        ],
                        "iteration": 748,
                        "passed_time": 77.83839967,
                        "remaining_time": 26.08469735
                      },
                      {
                        "learn": [
                          0.01766157441
                        ],
                        "iteration": 749,
                        "passed_time": 77.89791299,
                        "remaining_time": 25.965971
                      },
                      {
                        "learn": [
                          0.01765850002
                        ],
                        "iteration": 750,
                        "passed_time": 77.95557476,
                        "remaining_time": 25.84678844
                      },
                      {
                        "learn": [
                          0.01765622233
                        ],
                        "iteration": 751,
                        "passed_time": 78.0121069,
                        "remaining_time": 25.72739696
                      },
                      {
                        "learn": [
                          0.0176538754
                        ],
                        "iteration": 752,
                        "passed_time": 78.07919199,
                        "remaining_time": 25.61163403
                      },
                      {
                        "learn": [
                          0.0176523758
                        ],
                        "iteration": 753,
                        "passed_time": 78.13655131,
                        "remaining_time": 25.49282708
                      },
                      {
                        "learn": [
                          0.01765060816
                        ],
                        "iteration": 754,
                        "passed_time": 78.20037463,
                        "remaining_time": 25.37628051
                      },
                      {
                        "learn": [
                          0.01764849056
                        ],
                        "iteration": 755,
                        "passed_time": 78.2729198,
                        "remaining_time": 25.2626884
                      },
                      {
                        "learn": [
                          0.01764621957
                        ],
                        "iteration": 756,
                        "passed_time": 78.32959844,
                        "remaining_time": 25.14411152
                      },
                      {
                        "learn": [
                          0.01764411686
                        ],
                        "iteration": 757,
                        "passed_time": 78.40391708,
                        "remaining_time": 25.03132973
                      },
                      {
                        "learn": [
                          0.0176432174
                        ],
                        "iteration": 758,
                        "passed_time": 78.48051601,
                        "remaining_time": 24.91937333
                      },
                      {
                        "learn": [
                          0.01764226508
                        ],
                        "iteration": 759,
                        "passed_time": 78.54054434,
                        "remaining_time": 24.80227716
                      },
                      {
                        "learn": [
                          0.01764140583
                        ],
                        "iteration": 760,
                        "passed_time": 78.59796915,
                        "remaining_time": 24.68451331
                      },
                      {
                        "learn": [
                          0.01764013035
                        ],
                        "iteration": 761,
                        "passed_time": 78.65897061,
                        "remaining_time": 24.56802494
                      },
                      {
                        "learn": [
                          0.01763996282
                        ],
                        "iteration": 762,
                        "passed_time": 78.71441638,
                        "remaining_time": 24.44995633
                      },
                      {
                        "learn": [
                          0.01763816539
                        ],
                        "iteration": 763,
                        "passed_time": 78.7745651,
                        "remaining_time": 24.3335044
                      },
                      {
                        "learn": [
                          0.01763772236
                        ],
                        "iteration": 764,
                        "passed_time": 78.83113386,
                        "remaining_time": 24.21609994
                      },
                      {
                        "learn": [
                          0.01763596291
                        ],
                        "iteration": 765,
                        "passed_time": 78.8888731,
                        "remaining_time": 24.09921189
                      },
                      {
                        "learn": [
                          0.01763482444
                        ],
                        "iteration": 766,
                        "passed_time": 78.94517441,
                        "remaining_time": 23.98204125
                      },
                      {
                        "learn": [
                          0.01763354003
                        ],
                        "iteration": 767,
                        "passed_time": 79.00136751,
                        "remaining_time": 23.86499643
                      },
                      {
                        "learn": [
                          0.01763258472
                        ],
                        "iteration": 768,
                        "passed_time": 79.05818712,
                        "remaining_time": 23.74829808
                      },
                      {
                        "learn": [
                          0.01763128021
                        ],
                        "iteration": 769,
                        "passed_time": 79.11637742,
                        "remaining_time": 23.63216468
                      },
                      {
                        "learn": [
                          0.01762986847
                        ],
                        "iteration": 770,
                        "passed_time": 79.17674279,
                        "remaining_time": 23.51682762
                      },
                      {
                        "learn": [
                          0.01762949842
                        ],
                        "iteration": 771,
                        "passed_time": 79.23488023,
                        "remaining_time": 23.40097499
                      },
                      {
                        "learn": [
                          0.01762542181
                        ],
                        "iteration": 772,
                        "passed_time": 79.30910494,
                        "remaining_time": 23.28999589
                      },
                      {
                        "learn": [
                          0.01762505845
                        ],
                        "iteration": 773,
                        "passed_time": 79.36395266,
                        "remaining_time": 23.17345388
                      },
                      {
                        "learn": [
                          0.01762195353
                        ],
                        "iteration": 774,
                        "passed_time": 79.44135965,
                        "remaining_time": 23.06362054
                      },
                      {
                        "learn": [
                          0.01762145764
                        ],
                        "iteration": 775,
                        "passed_time": 79.51572339,
                        "remaining_time": 22.95299232
                      },
                      {
                        "learn": [
                          0.01762092898
                        ],
                        "iteration": 776,
                        "passed_time": 79.57183917,
                        "remaining_time": 22.83722025
                      },
                      {
                        "learn": [
                          0.01761960958
                        ],
                        "iteration": 777,
                        "passed_time": 79.63038007,
                        "remaining_time": 22.72229354
                      },
                      {
                        "learn": [
                          0.01761818518
                        ],
                        "iteration": 778,
                        "passed_time": 79.68999755,
                        "remaining_time": 22.60781702
                      },
                      {
                        "learn": [
                          0.01761772652
                        ],
                        "iteration": 779,
                        "passed_time": 79.7458298,
                        "remaining_time": 22.49241353
                      },
                      {
                        "learn": [
                          0.01761659103
                        ],
                        "iteration": 780,
                        "passed_time": 79.80209943,
                        "remaining_time": 22.37728524
                      },
                      {
                        "learn": [
                          0.0176160378
                        ],
                        "iteration": 781,
                        "passed_time": 79.86640525,
                        "remaining_time": 22.26454776
                      },
                      {
                        "learn": [
                          0.01761382564
                        ],
                        "iteration": 782,
                        "passed_time": 79.92529526,
                        "remaining_time": 22.15043304
                      },
                      {
                        "learn": [
                          0.01761200959
                        ],
                        "iteration": 783,
                        "passed_time": 79.98174623,
                        "remaining_time": 22.03578723
                      },
                      {
                        "learn": [
                          0.01761113545
                        ],
                        "iteration": 784,
                        "passed_time": 80.03836548,
                        "remaining_time": 21.92133577
                      },
                      {
                        "learn": [
                          0.01761038193
                        ],
                        "iteration": 785,
                        "passed_time": 80.09638443,
                        "remaining_time": 21.80741256
                      },
                      {
                        "learn": [
                          0.01760708044
                        ],
                        "iteration": 786,
                        "passed_time": 80.15874238,
                        "remaining_time": 21.69480575
                      },
                      {
                        "learn": [
                          0.01760638797
                        ],
                        "iteration": 787,
                        "passed_time": 80.21924073,
                        "remaining_time": 21.58182619
                      },
                      {
                        "learn": [
                          0.01760585038
                        ],
                        "iteration": 788,
                        "passed_time": 80.27665243,
                        "remaining_time": 21.4681542
                      },
                      {
                        "learn": [
                          0.01760539842
                        ],
                        "iteration": 789,
                        "passed_time": 80.34520385,
                        "remaining_time": 21.35758583
                      },
                      {
                        "learn": [
                          0.01760376554
                        ],
                        "iteration": 790,
                        "passed_time": 80.40118981,
                        "remaining_time": 21.24380363
                      },
                      {
                        "learn": [
                          0.01760341261
                        ],
                        "iteration": 791,
                        "passed_time": 80.48021109,
                        "remaining_time": 21.13621705
                      },
                      {
                        "learn": [
                          0.01760220043
                        ],
                        "iteration": 792,
                        "passed_time": 80.56079835,
                        "remaining_time": 21.0291113
                      },
                      {
                        "learn": [
                          0.0176010761
                        ],
                        "iteration": 793,
                        "passed_time": 80.61778911,
                        "remaining_time": 20.91595032
                      },
                      {
                        "learn": [
                          0.01759848941
                        ],
                        "iteration": 794,
                        "passed_time": 80.67834556,
                        "remaining_time": 20.80385011
                      },
                      {
                        "learn": [
                          0.01759791757
                        ],
                        "iteration": 795,
                        "passed_time": 80.73506316,
                        "remaining_time": 20.69089558
                      },
                      {
                        "learn": [
                          0.0175960844
                        ],
                        "iteration": 796,
                        "passed_time": 80.79383833,
                        "remaining_time": 20.57860625
                      },
                      {
                        "learn": [
                          0.01759482307
                        ],
                        "iteration": 797,
                        "passed_time": 80.85280357,
                        "remaining_time": 20.46649915
                      },
                      {
                        "learn": [
                          0.0175937948
                        ],
                        "iteration": 798,
                        "passed_time": 80.91580103,
                        "remaining_time": 20.35553943
                      },
                      {
                        "learn": [
                          0.01759336145
                        ],
                        "iteration": 799,
                        "passed_time": 80.97140167,
                        "remaining_time": 20.24285042
                      },
                      {
                        "learn": [
                          0.01759207257
                        ],
                        "iteration": 800,
                        "passed_time": 81.03003937,
                        "remaining_time": 20.13105847
                      },
                      {
                        "learn": [
                          0.01759084401
                        ],
                        "iteration": 801,
                        "passed_time": 81.08889171,
                        "remaining_time": 20.01945207
                      },
                      {
                        "learn": [
                          0.01759031982
                        ],
                        "iteration": 802,
                        "passed_time": 81.14609437,
                        "remaining_time": 19.90757234
                      },
                      {
                        "learn": [
                          0.01758954098
                        ],
                        "iteration": 803,
                        "passed_time": 81.20210526,
                        "remaining_time": 19.7955381
                      },
                      {
                        "learn": [
                          0.01758883958
                        ],
                        "iteration": 804,
                        "passed_time": 81.26043137,
                        "remaining_time": 19.68420387
                      },
                      {
                        "learn": [
                          0.01758776068
                        ],
                        "iteration": 805,
                        "passed_time": 81.33287074,
                        "remaining_time": 19.57639817
                      },
                      {
                        "learn": [
                          0.01758731095
                        ],
                        "iteration": 806,
                        "passed_time": 81.38923078,
                        "remaining_time": 19.46483462
                      },
                      {
                        "learn": [
                          0.01758584337
                        ],
                        "iteration": 807,
                        "passed_time": 81.44589409,
                        "remaining_time": 19.35347978
                      },
                      {
                        "learn": [
                          0.01758560213
                        ],
                        "iteration": 808,
                        "passed_time": 81.52601161,
                        "remaining_time": 19.24779755
                      },
                      {
                        "learn": [
                          0.01758069382
                        ],
                        "iteration": 809,
                        "passed_time": 81.60037144,
                        "remaining_time": 19.14082787
                      },
                      {
                        "learn": [
                          0.01758053522
                        ],
                        "iteration": 810,
                        "passed_time": 81.65974712,
                        "remaining_time": 19.03044662
                      },
                      {
                        "learn": [
                          0.0175801607
                        ],
                        "iteration": 811,
                        "passed_time": 81.71696939,
                        "remaining_time": 18.91969242
                      },
                      {
                        "learn": [
                          0.0175799954
                        ],
                        "iteration": 812,
                        "passed_time": 81.77292996,
                        "remaining_time": 18.80877971
                      },
                      {
                        "learn": [
                          0.01757832008
                        ],
                        "iteration": 813,
                        "passed_time": 81.83013255,
                        "remaining_time": 18.69828582
                      },
                      {
                        "learn": [
                          0.0175773752
                        ],
                        "iteration": 814,
                        "passed_time": 81.88541325,
                        "remaining_time": 18.58748644
                      },
                      {
                        "learn": [
                          0.01757683091
                        ],
                        "iteration": 815,
                        "passed_time": 81.94278444,
                        "remaining_time": 18.47729453
                      },
                      {
                        "learn": [
                          0.01757662987
                        ],
                        "iteration": 816,
                        "passed_time": 82.0011266,
                        "remaining_time": 18.36744941
                      },
                      {
                        "learn": [
                          0.01757635512
                        ],
                        "iteration": 817,
                        "passed_time": 82.05849162,
                        "remaining_time": 18.25751281
                      },
                      {
                        "learn": [
                          0.01757518016
                        ],
                        "iteration": 818,
                        "passed_time": 82.11493744,
                        "remaining_time": 18.14750144
                      },
                      {
                        "learn": [
                          0.01757442888
                        ],
                        "iteration": 819,
                        "passed_time": 82.17317522,
                        "remaining_time": 18.03801407
                      },
                      {
                        "learn": [
                          0.01757383098
                        ],
                        "iteration": 820,
                        "passed_time": 82.23156796,
                        "remaining_time": 17.92868534
                      },
                      {
                        "learn": [
                          0.01757284142
                        ],
                        "iteration": 821,
                        "passed_time": 82.29100982,
                        "remaining_time": 17.81970772
                      },
                      {
                        "learn": [
                          0.01757169476
                        ],
                        "iteration": 822,
                        "passed_time": 82.36597957,
                        "remaining_time": 17.71419002
                      },
                      {
                        "learn": [
                          0.01757071042
                        ],
                        "iteration": 823,
                        "passed_time": 82.42445558,
                        "remaining_time": 17.60522352
                      },
                      {
                        "learn": [
                          0.01756986904
                        ],
                        "iteration": 824,
                        "passed_time": 82.48223581,
                        "remaining_time": 17.49623184
                      },
                      {
                        "learn": [
                          0.01756919593
                        ],
                        "iteration": 825,
                        "passed_time": 82.56552011,
                        "remaining_time": 17.39273668
                      },
                      {
                        "learn": [
                          0.01756808054
                        ],
                        "iteration": 826,
                        "passed_time": 82.64226061,
                        "remaining_time": 17.28792151
                      },
                      {
                        "learn": [
                          0.01756712747
                        ],
                        "iteration": 827,
                        "passed_time": 82.70162558,
                        "remaining_time": 17.17956473
                      },
                      {
                        "learn": [
                          0.01756610516
                        ],
                        "iteration": 828,
                        "passed_time": 82.75759062,
                        "remaining_time": 17.07062484
                      },
                      {
                        "learn": [
                          0.01756582147
                        ],
                        "iteration": 829,
                        "passed_time": 82.81431085,
                        "remaining_time": 16.96196728
                      },
                      {
                        "learn": [
                          0.01756569415
                        ],
                        "iteration": 830,
                        "passed_time": 82.86900988,
                        "remaining_time": 16.85302367
                      },
                      {
                        "learn": [
                          0.01756555789
                        ],
                        "iteration": 831,
                        "passed_time": 82.92406586,
                        "remaining_time": 16.74428253
                      },
                      {
                        "learn": [
                          0.01756425933
                        ],
                        "iteration": 832,
                        "passed_time": 82.9814337,
                        "remaining_time": 16.63613377
                      },
                      {
                        "learn": [
                          0.01756312756
                        ],
                        "iteration": 833,
                        "passed_time": 83.04077003,
                        "remaining_time": 16.52849859
                      },
                      {
                        "learn": [
                          0.01756294216
                        ],
                        "iteration": 834,
                        "passed_time": 83.09685087,
                        "remaining_time": 16.4203358
                      },
                      {
                        "learn": [
                          0.01756221768
                        ],
                        "iteration": 835,
                        "passed_time": 83.15749568,
                        "remaining_time": 16.31319293
                      },
                      {
                        "learn": [
                          0.01756203376
                        ],
                        "iteration": 836,
                        "passed_time": 83.21620667,
                        "remaining_time": 16.20578457
                      },
                      {
                        "learn": [
                          0.01756196005
                        ],
                        "iteration": 837,
                        "passed_time": 83.27211358,
                        "remaining_time": 16.09795036
                      },
                      {
                        "learn": [
                          0.01756179996
                        ],
                        "iteration": 838,
                        "passed_time": 83.32793277,
                        "remaining_time": 15.99022309
                      },
                      {
                        "learn": [
                          0.01756107697
                        ],
                        "iteration": 839,
                        "passed_time": 83.3988119,
                        "remaining_time": 15.88548798
                      },
                      {
                        "learn": [
                          0.01755938155
                        ],
                        "iteration": 840,
                        "passed_time": 83.45519446,
                        "remaining_time": 15.77809265
                      },
                      {
                        "learn": [
                          0.01755757891
                        ],
                        "iteration": 841,
                        "passed_time": 83.51490012,
                        "remaining_time": 15.67144206
                      },
                      {
                        "learn": [
                          0.01755732426
                        ],
                        "iteration": 842,
                        "passed_time": 83.59391119,
                        "remaining_time": 15.56849829
                      },
                      {
                        "learn": [
                          0.01755688868
                        ],
                        "iteration": 843,
                        "passed_time": 83.67326079,
                        "remaining_time": 15.4656738
                      },
                      {
                        "learn": [
                          0.01755650522
                        ],
                        "iteration": 844,
                        "passed_time": 83.72967416,
                        "remaining_time": 15.35869763
                      },
                      {
                        "learn": [
                          0.01755620366
                        ],
                        "iteration": 845,
                        "passed_time": 83.78606362,
                        "remaining_time": 15.25183664
                      },
                      {
                        "learn": [
                          0.01755564299
                        ],
                        "iteration": 846,
                        "passed_time": 83.84256085,
                        "remaining_time": 15.1451143
                      },
                      {
                        "learn": [
                          0.01755508678
                        ],
                        "iteration": 847,
                        "passed_time": 83.90335058,
                        "remaining_time": 15.03927982
                      },
                      {
                        "learn": [
                          0.01755479267
                        ],
                        "iteration": 848,
                        "passed_time": 83.9588647,
                        "remaining_time": 14.93261316
                      },
                      {
                        "learn": [
                          0.01755385524
                        ],
                        "iteration": 849,
                        "passed_time": 84.01600162,
                        "remaining_time": 14.82635323
                      },
                      {
                        "learn": [
                          0.01755380163
                        ],
                        "iteration": 850,
                        "passed_time": 84.0751407,
                        "remaining_time": 14.7205593
                      },
                      {
                        "learn": [
                          0.01755294014
                        ],
                        "iteration": 851,
                        "passed_time": 84.13174819,
                        "remaining_time": 14.61443513
                      },
                      {
                        "learn": [
                          0.01755271677
                        ],
                        "iteration": 852,
                        "passed_time": 84.19021436,
                        "remaining_time": 14.50874738
                      },
                      {
                        "learn": [
                          0.01755241372
                        ],
                        "iteration": 853,
                        "passed_time": 84.24631714,
                        "remaining_time": 14.40276616
                      },
                      {
                        "learn": [
                          0.01755234745
                        ],
                        "iteration": 854,
                        "passed_time": 84.3021954,
                        "remaining_time": 14.29686355
                      },
                      {
                        "learn": [
                          0.01755154405
                        ],
                        "iteration": 855,
                        "passed_time": 84.35887067,
                        "remaining_time": 14.19121189
                      },
                      {
                        "learn": [
                          0.01755082403
                        ],
                        "iteration": 856,
                        "passed_time": 84.43120591,
                        "remaining_time": 14.08828757
                      },
                      {
                        "learn": [
                          0.01754885237
                        ],
                        "iteration": 857,
                        "passed_time": 84.48746644,
                        "remaining_time": 13.98277417
                      },
                      {
                        "learn": [
                          0.01754847859
                        ],
                        "iteration": 858,
                        "passed_time": 84.5449081,
                        "remaining_time": 13.87756932
                      },
                      {
                        "learn": [
                          0.01754716067
                        ],
                        "iteration": 859,
                        "passed_time": 84.61507129,
                        "remaining_time": 13.77454649
                      },
                      {
                        "learn": [
                          0.01754700505
                        ],
                        "iteration": 860,
                        "passed_time": 84.70593413,
                        "remaining_time": 13.67494175
                      },
                      {
                        "learn": [
                          0.01754554418
                        ],
                        "iteration": 861,
                        "passed_time": 84.76357437,
                        "remaining_time": 13.57003859
                      },
                      {
                        "learn": [
                          0.01754515252
                        ],
                        "iteration": 862,
                        "passed_time": 84.82038153,
                        "remaining_time": 13.46511271
                      },
                      {
                        "learn": [
                          0.01754487479
                        ],
                        "iteration": 863,
                        "passed_time": 84.87672007,
                        "remaining_time": 13.36022446
                      },
                      {
                        "learn": [
                          0.01754374824
                        ],
                        "iteration": 864,
                        "passed_time": 84.93454638,
                        "remaining_time": 13.25568065
                      },
                      {
                        "learn": [
                          0.01754353528
                        ],
                        "iteration": 865,
                        "passed_time": 84.98966036,
                        "remaining_time": 13.15082504
                      },
                      {
                        "learn": [
                          0.01754277581
                        ],
                        "iteration": 866,
                        "passed_time": 85.051749,
                        "remaining_time": 13.04715411
                      },
                      {
                        "learn": [
                          0.01754264253
                        ],
                        "iteration": 867,
                        "passed_time": 85.1066228,
                        "remaining_time": 12.94248181
                      },
                      {
                        "learn": [
                          0.01754205728
                        ],
                        "iteration": 868,
                        "passed_time": 85.1653442,
                        "remaining_time": 12.83850413
                      },
                      {
                        "learn": [
                          0.01754190241
                        ],
                        "iteration": 869,
                        "passed_time": 85.22322108,
                        "remaining_time": 12.7345043
                      },
                      {
                        "learn": [
                          0.01754155543
                        ],
                        "iteration": 870,
                        "passed_time": 85.28130058,
                        "remaining_time": 12.63064039
                      },
                      {
                        "learn": [
                          0.01754087041
                        ],
                        "iteration": 871,
                        "passed_time": 85.33834304,
                        "remaining_time": 12.52672925
                      },
                      {
                        "learn": [
                          0.01754051301
                        ],
                        "iteration": 872,
                        "passed_time": 85.4000336,
                        "remaining_time": 12.42360168
                      },
                      {
                        "learn": [
                          0.01753993968
                        ],
                        "iteration": 873,
                        "passed_time": 85.46563643,
                        "remaining_time": 12.32113294
                      },
                      {
                        "learn": [
                          0.01753978183
                        ],
                        "iteration": 874,
                        "passed_time": 85.52218618,
                        "remaining_time": 12.21745517
                      },
                      {
                        "learn": [
                          0.01753849072
                        ],
                        "iteration": 875,
                        "passed_time": 85.57847071,
                        "remaining_time": 12.11384745
                      },
                      {
                        "learn": [
                          0.01753782729
                        ],
                        "iteration": 876,
                        "passed_time": 85.65656478,
                        "remaining_time": 12.01340646
                      },
                      {
                        "learn": [
                          0.01753740958
                        ],
                        "iteration": 877,
                        "passed_time": 85.73798264,
                        "remaining_time": 11.91347823
                      },
                      {
                        "learn": [
                          0.01753674764
                        ],
                        "iteration": 878,
                        "passed_time": 85.79420569,
                        "remaining_time": 11.81012388
                      },
                      {
                        "learn": [
                          0.01753604699
                        ],
                        "iteration": 879,
                        "passed_time": 85.85004647,
                        "remaining_time": 11.70682452
                      },
                      {
                        "learn": [
                          0.0175355027
                        ],
                        "iteration": 880,
                        "passed_time": 85.90673673,
                        "remaining_time": 11.60374764
                      },
                      {
                        "learn": [
                          0.0175350902
                        ],
                        "iteration": 881,
                        "passed_time": 85.96726911,
                        "remaining_time": 11.50128997
                      },
                      {
                        "learn": [
                          0.0175349383
                        ],
                        "iteration": 882,
                        "passed_time": 86.02329192,
                        "remaining_time": 11.39832973
                      },
                      {
                        "learn": [
                          0.01753459654
                        ],
                        "iteration": 883,
                        "passed_time": 86.0796816,
                        "remaining_time": 11.29552383
                      },
                      {
                        "learn": [
                          0.0175344223
                        ],
                        "iteration": 884,
                        "passed_time": 86.13757203,
                        "remaining_time": 11.19301783
                      },
                      {
                        "learn": [
                          0.01753431657
                        ],
                        "iteration": 885,
                        "passed_time": 86.19845529,
                        "remaining_time": 11.09099763
                      },
                      {
                        "learn": [
                          0.01753422946
                        ],
                        "iteration": 886,
                        "passed_time": 86.25548011,
                        "remaining_time": 10.98857864
                      },
                      {
                        "learn": [
                          0.01753357571
                        ],
                        "iteration": 887,
                        "passed_time": 86.31262276,
                        "remaining_time": 10.88627674
                      },
                      {
                        "learn": [
                          0.01753354593
                        ],
                        "iteration": 888,
                        "passed_time": 86.3688464,
                        "remaining_time": 10.7839617
                      },
                      {
                        "learn": [
                          0.01753341265
                        ],
                        "iteration": 889,
                        "passed_time": 86.43686154,
                        "remaining_time": 10.68320761
                      },
                      {
                        "learn": [
                          0.01753236204
                        ],
                        "iteration": 890,
                        "passed_time": 86.50029021,
                        "remaining_time": 10.58196592
                      },
                      {
                        "learn": [
                          0.01753210813
                        ],
                        "iteration": 891,
                        "passed_time": 86.55819544,
                        "remaining_time": 10.48014025
                      },
                      {
                        "learn": [
                          0.01753116251
                        ],
                        "iteration": 892,
                        "passed_time": 86.61649861,
                        "remaining_time": 10.37846064
                      },
                      {
                        "learn": [
                          0.01753087138
                        ],
                        "iteration": 893,
                        "passed_time": 86.6956714,
                        "remaining_time": 10.27935254
                      },
                      {
                        "learn": [
                          0.01753043579
                        ],
                        "iteration": 894,
                        "passed_time": 86.77657573,
                        "remaining_time": 10.18049213
                      },
                      {
                        "learn": [
                          0.01753009105
                        ],
                        "iteration": 895,
                        "passed_time": 86.8330398,
                        "remaining_time": 10.07883498
                      },
                      {
                        "learn": [
                          0.01752950357
                        ],
                        "iteration": 896,
                        "passed_time": 86.8892642,
                        "remaining_time": 9.977251074
                      },
                      {
                        "learn": [
                          0.01752936285
                        ],
                        "iteration": 897,
                        "passed_time": 86.9460352,
                        "remaining_time": 9.875830279
                      },
                      {
                        "learn": [
                          0.01752886621
                        ],
                        "iteration": 898,
                        "passed_time": 87.00230991,
                        "remaining_time": 9.77445306
                      },
                      {
                        "learn": [
                          0.01752817672
                        ],
                        "iteration": 899,
                        "passed_time": 87.07941279,
                        "remaining_time": 9.67549031
                      },
                      {
                        "learn": [
                          0.01752696975
                        ],
                        "iteration": 900,
                        "passed_time": 87.13687871,
                        "remaining_time": 9.574418415
                      },
                      {
                        "learn": [
                          0.01752675977
                        ],
                        "iteration": 901,
                        "passed_time": 87.19720786,
                        "remaining_time": 9.473754291
                      },
                      {
                        "learn": [
                          0.01752575533
                        ],
                        "iteration": 902,
                        "passed_time": 87.25382594,
                        "remaining_time": 9.37278086
                      },
                      {
                        "learn": [
                          0.01752520136
                        ],
                        "iteration": 903,
                        "passed_time": 87.31039506,
                        "remaining_time": 9.271900361
                      },
                      {
                        "learn": [
                          0.01752477918
                        ],
                        "iteration": 904,
                        "passed_time": 87.36701095,
                        "remaining_time": 9.171122697
                      },
                      {
                        "learn": [
                          0.01752390801
                        ],
                        "iteration": 905,
                        "passed_time": 87.42343049,
                        "remaining_time": 9.070422148
                      },
                      {
                        "learn": [
                          0.01752347243
                        ],
                        "iteration": 906,
                        "passed_time": 87.49614772,
                        "remaining_time": 8.971490339
                      },
                      {
                        "learn": [
                          0.01752147917
                        ],
                        "iteration": 907,
                        "passed_time": 87.5547509,
                        "remaining_time": 8.871186214
                      },
                      {
                        "learn": [
                          0.01752128186
                        ],
                        "iteration": 908,
                        "passed_time": 87.61151308,
                        "remaining_time": 8.770789538
                      },
                      {
                        "learn": [
                          0.01752100487
                        ],
                        "iteration": 909,
                        "passed_time": 87.73427901,
                        "remaining_time": 8.677016605
                      },
                      {
                        "learn": [
                          0.01752090063
                        ],
                        "iteration": 910,
                        "passed_time": 87.88865968,
                        "remaining_time": 8.586268618
                      },
                      {
                        "learn": [
                          0.01752081203
                        ],
                        "iteration": 911,
                        "passed_time": 88.01575772,
                        "remaining_time": 8.492748552
                      },
                      {
                        "learn": [
                          0.01752051047
                        ],
                        "iteration": 912,
                        "passed_time": 88.13725284,
                        "remaining_time": 8.398621026
                      },
                      {
                        "learn": [
                          0.01752039729
                        ],
                        "iteration": 913,
                        "passed_time": 88.25477434,
                        "remaining_time": 8.30405973
                      },
                      {
                        "learn": [
                          0.01752029082
                        ],
                        "iteration": 914,
                        "passed_time": 88.3908032,
                        "remaining_time": 8.211167511
                      },
                      {
                        "learn": [
                          0.01751992076
                        ],
                        "iteration": 915,
                        "passed_time": 88.53209987,
                        "remaining_time": 8.11866418
                      },
                      {
                        "learn": [
                          0.01751928786
                        ],
                        "iteration": 916,
                        "passed_time": 88.66023441,
                        "remaining_time": 8.024863093
                      },
                      {
                        "learn": [
                          0.01751760659
                        ],
                        "iteration": 917,
                        "passed_time": 88.79084748,
                        "remaining_time": 7.931208598
                      },
                      {
                        "learn": [
                          0.01751742044
                        ],
                        "iteration": 918,
                        "passed_time": 88.96299814,
                        "remaining_time": 7.841134765
                      },
                      {
                        "learn": [
                          0.01751647184
                        ],
                        "iteration": 919,
                        "passed_time": 89.09057833,
                        "remaining_time": 7.747006811
                      },
                      {
                        "learn": [
                          0.01751599903
                        ],
                        "iteration": 920,
                        "passed_time": 89.2144825,
                        "remaining_time": 7.652490899
                      },
                      {
                        "learn": [
                          0.01751448975
                        ],
                        "iteration": 921,
                        "passed_time": 89.31590845,
                        "remaining_time": 7.556009609
                      },
                      {
                        "learn": [
                          0.01751415841
                        ],
                        "iteration": 922,
                        "passed_time": 89.4483084,
                        "remaining_time": 7.462101568
                      },
                      {
                        "learn": [
                          0.0175140296
                        ],
                        "iteration": 923,
                        "passed_time": 89.56569556,
                        "remaining_time": 7.366875393
                      },
                      {
                        "learn": [
                          0.0175125851
                        ],
                        "iteration": 924,
                        "passed_time": 89.68508501,
                        "remaining_time": 7.27176365
                      },
                      {
                        "learn": [
                          0.0175122411
                        ],
                        "iteration": 925,
                        "passed_time": 89.81117431,
                        "remaining_time": 7.17713488
                      },
                      {
                        "learn": [
                          0.01751208325
                        ],
                        "iteration": 926,
                        "passed_time": 89.95222186,
                        "remaining_time": 7.083616176
                      },
                      {
                        "learn": [
                          0.01751164544
                        ],
                        "iteration": 927,
                        "passed_time": 90.14550488,
                        "remaining_time": 6.994047792
                      },
                      {
                        "learn": [
                          0.01751158438
                        ],
                        "iteration": 928,
                        "passed_time": 90.27904104,
                        "remaining_time": 6.899689896
                      },
                      {
                        "learn": [
                          0.01751127761
                        ],
                        "iteration": 929,
                        "passed_time": 90.41806071,
                        "remaining_time": 6.805660484
                      },
                      {
                        "learn": [
                          0.01751107657
                        ],
                        "iteration": 930,
                        "passed_time": 90.51279195,
                        "remaining_time": 6.708252035
                      },
                      {
                        "learn": [
                          0.01751069237
                        ],
                        "iteration": 931,
                        "passed_time": 90.57104085,
                        "remaining_time": 6.60818753
                      },
                      {
                        "learn": [
                          0.01751058068
                        ],
                        "iteration": 932,
                        "passed_time": 90.64133908,
                        "remaining_time": 6.50907794
                      },
                      {
                        "learn": [
                          0.01751005202
                        ],
                        "iteration": 933,
                        "passed_time": 90.69758147,
                        "remaining_time": 6.409036806
                      },
                      {
                        "learn": [
                          0.01750959783
                        ],
                        "iteration": 934,
                        "passed_time": 90.75715872,
                        "remaining_time": 6.309321194
                      },
                      {
                        "learn": [
                          0.01750749586
                        ],
                        "iteration": 935,
                        "passed_time": 90.81392644,
                        "remaining_time": 6.209499244
                      },
                      {
                        "learn": [
                          0.01750735216
                        ],
                        "iteration": 936,
                        "passed_time": 90.86944632,
                        "remaining_time": 6.109685292
                      },
                      {
                        "learn": [
                          0.01750587341
                        ],
                        "iteration": 937,
                        "passed_time": 90.92599731,
                        "remaining_time": 6.010033937
                      },
                      {
                        "learn": [
                          0.01750492481
                        ],
                        "iteration": 938,
                        "passed_time": 90.98427309,
                        "remaining_time": 5.910586431
                      },
                      {
                        "learn": [
                          0.01750409534
                        ],
                        "iteration": 939,
                        "passed_time": 91.19658863,
                        "remaining_time": 5.821058849
                      },
                      {
                        "learn": [
                          0.01750399184
                        ],
                        "iteration": 940,
                        "passed_time": 91.25342376,
                        "remaining_time": 5.721521787
                      },
                      {
                        "learn": [
                          0.01750277147
                        ],
                        "iteration": 941,
                        "passed_time": 91.31335028,
                        "remaining_time": 5.622265729
                      },
                      {
                        "learn": [
                          0.01750260915
                        ],
                        "iteration": 942,
                        "passed_time": 91.37102171,
                        "remaining_time": 5.522956773
                      },
                      {
                        "learn": [
                          0.01750187945
                        ],
                        "iteration": 943,
                        "passed_time": 91.427878,
                        "remaining_time": 5.423687678
                      },
                      {
                        "learn": [
                          0.01750096436
                        ],
                        "iteration": 944,
                        "passed_time": 91.4874734,
                        "remaining_time": 5.324667764
                      },
                      {
                        "learn": [
                          0.01750085788
                        ],
                        "iteration": 945,
                        "passed_time": 91.54456311,
                        "remaining_time": 5.225588169
                      },
                      {
                        "learn": [
                          0.0175007246
                        ],
                        "iteration": 946,
                        "passed_time": 91.61580671,
                        "remaining_time": 5.127389394
                      },
                      {
                        "learn": [
                          0.01749993757
                        ],
                        "iteration": 947,
                        "passed_time": 91.67919246,
                        "remaining_time": 5.028816464
                      },
                      {
                        "learn": [
                          0.01749941711
                        ],
                        "iteration": 948,
                        "passed_time": 91.73780107,
                        "remaining_time": 4.930060964
                      },
                      {
                        "learn": [
                          0.01749935903
                        ],
                        "iteration": 949,
                        "passed_time": 91.79273317,
                        "remaining_time": 4.831196482
                      },
                      {
                        "learn": [
                          0.01749829353
                        ],
                        "iteration": 950,
                        "passed_time": 91.84891774,
                        "remaining_time": 4.732488926
                      },
                      {
                        "learn": [
                          0.01749808877
                        ],
                        "iteration": 951,
                        "passed_time": 91.90507998,
                        "remaining_time": 4.633869579
                      },
                      {
                        "learn": [
                          0.01749673437
                        ],
                        "iteration": 952,
                        "passed_time": 91.96126676,
                        "remaining_time": 4.535340543
                      },
                      {
                        "learn": [
                          0.01749667108
                        ],
                        "iteration": 953,
                        "passed_time": 92.01610051,
                        "remaining_time": 4.436835035
                      },
                      {
                        "learn": [
                          0.01749529285
                        ],
                        "iteration": 954,
                        "passed_time": 92.07618545,
                        "remaining_time": 4.338668424
                      },
                      {
                        "learn": [
                          0.01749522807
                        ],
                        "iteration": 955,
                        "passed_time": 92.13353839,
                        "remaining_time": 4.240455742
                      },
                      {
                        "learn": [
                          0.01749420427
                        ],
                        "iteration": 956,
                        "passed_time": 92.24795715,
                        "remaining_time": 4.144892537
                      },
                      {
                        "learn": [
                          0.01749314025
                        ],
                        "iteration": 957,
                        "passed_time": 92.30594654,
                        "remaining_time": 4.046816028
                      },
                      {
                        "learn": [
                          0.01749175979
                        ],
                        "iteration": 958,
                        "passed_time": 92.3629407,
                        "remaining_time": 3.948780572
                      },
                      {
                        "learn": [
                          0.0174898879
                        ],
                        "iteration": 959,
                        "passed_time": 92.41969884,
                        "remaining_time": 3.850820785
                      },
                      {
                        "learn": [
                          0.01748966974
                        ],
                        "iteration": 960,
                        "passed_time": 92.47685941,
                        "remaining_time": 3.752963077
                      },
                      {
                        "learn": [
                          0.01748865264
                        ],
                        "iteration": 961,
                        "passed_time": 92.5337508,
                        "remaining_time": 3.655179345
                      },
                      {
                        "learn": [
                          0.01748805846
                        ],
                        "iteration": 962,
                        "passed_time": 92.59402113,
                        "remaining_time": 3.557610365
                      },
                      {
                        "learn": [
                          0.01748780381
                        ],
                        "iteration": 963,
                        "passed_time": 92.66672684,
                        "remaining_time": 3.46058316
                      },
                      {
                        "learn": [
                          0.01748726175
                        ],
                        "iteration": 964,
                        "passed_time": 92.72661906,
                        "remaining_time": 3.363141624
                      },
                      {
                        "learn": [
                          0.01748621561
                        ],
                        "iteration": 965,
                        "passed_time": 92.78304787,
                        "remaining_time": 3.265655929
                      },
                      {
                        "learn": [
                          0.0174856393
                        ],
                        "iteration": 966,
                        "passed_time": 92.83931355,
                        "remaining_time": 3.168249584
                      },
                      {
                        "learn": [
                          0.01748554697
                        ],
                        "iteration": 967,
                        "passed_time": 92.89391163,
                        "remaining_time": 3.070873112
                      },
                      {
                        "learn": [
                          0.017484821
                        ],
                        "iteration": 968,
                        "passed_time": 92.94898175,
                        "remaining_time": 2.973600035
                      },
                      {
                        "learn": [
                          0.01748465496
                        ],
                        "iteration": 969,
                        "passed_time": 93.00580086,
                        "remaining_time": 2.876468068
                      },
                      {
                        "learn": [
                          0.01748428639
                        ],
                        "iteration": 970,
                        "passed_time": 93.06369378,
                        "remaining_time": 2.779451204
                      },
                      {
                        "learn": [
                          0.01748429011
                        ],
                        "iteration": 971,
                        "passed_time": 93.11016401,
                        "remaining_time": 2.682185794
                      },
                      {
                        "learn": [
                          0.01748424395
                        ],
                        "iteration": 972,
                        "passed_time": 93.16540408,
                        "remaining_time": 2.58526815
                      },
                      {
                        "learn": [
                          0.01748414045
                        ],
                        "iteration": 973,
                        "passed_time": 93.27604073,
                        "remaining_time": 2.489914845
                      },
                      {
                        "learn": [
                          0.01748403919
                        ],
                        "iteration": 974,
                        "passed_time": 93.33019174,
                        "remaining_time": 2.393081839
                      },
                      {
                        "learn": [
                          0.01748395058
                        ],
                        "iteration": 975,
                        "passed_time": 93.38516737,
                        "remaining_time": 2.296356575
                      },
                      {
                        "learn": [
                          0.01748360435
                        ],
                        "iteration": 976,
                        "passed_time": 93.44203148,
                        "remaining_time": 2.199761232
                      },
                      {
                        "learn": [
                          0.01748351574
                        ],
                        "iteration": 977,
                        "passed_time": 93.49864336,
                        "remaining_time": 2.103241466
                      },
                      {
                        "learn": [
                          0.01748267808
                        ],
                        "iteration": 978,
                        "passed_time": 93.55508107,
                        "remaining_time": 2.006799492
                      },
                      {
                        "learn": [
                          0.01748213826
                        ],
                        "iteration": 979,
                        "passed_time": 93.61446204,
                        "remaining_time": 1.910499225
                      },
                      {
                        "learn": [
                          0.01748137506
                        ],
                        "iteration": 980,
                        "passed_time": 93.68620281,
                        "remaining_time": 1.814513612
                      },
                      {
                        "learn": [
                          0.01748077418
                        ],
                        "iteration": 981,
                        "passed_time": 93.74495261,
                        "remaining_time": 1.718339254
                      },
                      {
                        "learn": [
                          0.01748000204
                        ],
                        "iteration": 982,
                        "passed_time": 93.80115298,
                        "remaining_time": 1.622196949
                      },
                      {
                        "learn": [
                          0.01747983972
                        ],
                        "iteration": 983,
                        "passed_time": 93.85529088,
                        "remaining_time": 1.526102291
                      },
                      {
                        "learn": [
                          0.01747673257
                        ],
                        "iteration": 984,
                        "passed_time": 93.91211419,
                        "remaining_time": 1.430133719
                      },
                      {
                        "learn": [
                          0.01747578024
                        ],
                        "iteration": 985,
                        "passed_time": 93.9693322,
                        "remaining_time": 1.334250153
                      },
                      {
                        "learn": [
                          0.01747539083
                        ],
                        "iteration": 986,
                        "passed_time": 94.03540851,
                        "remaining_time": 1.238561612
                      },
                      {
                        "learn": [
                          0.01747427469
                        ],
                        "iteration": 987,
                        "passed_time": 94.0932335,
                        "remaining_time": 1.142832796
                      },
                      {
                        "learn": [
                          0.01747350628
                        ],
                        "iteration": 988,
                        "passed_time": 94.14967473,
                        "remaining_time": 1.04716524
                      },
                      {
                        "learn": [
                          0.01747209455
                        ],
                        "iteration": 989,
                        "passed_time": 94.23211048,
                        "remaining_time": 0.9518394998
                      },
                      {
                        "learn": [
                          0.01747138123
                        ],
                        "iteration": 990,
                        "passed_time": 94.31607232,
                        "remaining_time": 0.8565536336
                      },
                      {
                        "learn": [
                          0.01747019809
                        ],
                        "iteration": 991,
                        "passed_time": 94.37342246,
                        "remaining_time": 0.7610759875
                      },
                      {
                        "learn": [
                          0.01747000003
                        ],
                        "iteration": 992,
                        "passed_time": 94.43066962,
                        "remaining_time": 0.6656744082
                      },
                      {
                        "learn": [
                          0.01746870668
                        ],
                        "iteration": 993,
                        "passed_time": 94.49076785,
                        "remaining_time": 0.570366808
                      },
                      {
                        "learn": [
                          0.01746646995
                        ],
                        "iteration": 994,
                        "passed_time": 94.5477959,
                        "remaining_time": 0.4751145523
                      },
                      {
                        "learn": [
                          0.01746558091
                        ],
                        "iteration": 995,
                        "passed_time": 94.60399421,
                        "remaining_time": 0.3799357197
                      },
                      {
                        "learn": [
                          0.01746529499
                        ],
                        "iteration": 996,
                        "passed_time": 94.66025961,
                        "remaining_time": 0.2848352847
                      },
                      {
                        "learn": [
                          0.01746439628
                        ],
                        "iteration": 997,
                        "passed_time": 94.73405499,
                        "remaining_time": 0.1898478056
                      },
                      {
                        "learn": [
                          0.01746412227
                        ],
                        "iteration": 998,
                        "passed_time": 94.79192998,
                        "remaining_time": 0.0948868168
                      },
                      {
                        "learn": [
                          0.0174633211
                        ],
                        "iteration": 999,
                        "passed_time": 94.84858715,
                        "remaining_time": 0
                      }
                    ],
                    "meta": {
                      "test_sets": [],
                      "test_metrics": [],
                      "learn_metrics": [
                        {
                          "best_value": "Min",
                          "name": "Logloss"
                        }
                      ],
                      "launch_mode": "Train",
                      "parameters": "",
                      "iteration_count": 1000,
                      "learn_sets": [
                        "learn"
                      ],
                      "name": "experiment"
                    }
                  }
                }
              }
            },
            "layout": "IPY_MODEL_7fae466d51794a65b1ae28b101fef967"
          }
        }
      }
    }
  },
  "cells": [
    {
      "cell_type": "markdown",
      "source": [
        "# A brief tour through Gradient-Boosting Strategies\n",
        "\n",
        "Do you remember the basic idea behind gradient-boosting (Topic 4)?"
      ],
      "metadata": {
        "id": "HLdGmtRdaVF8"
      }
    },
    {
      "cell_type": "code",
      "source": [
        "#@title Setting up\n",
        "!git clone https://github.com/mciprian/ml_class_content.git\n",
        "!mv ml_class_content/notebooks/img img\n",
        "!mv ml_class_content/notebooks/data data\n",
        "!rm data/creditcard.zip\n",
        "!rm -fr ml_class_content/"
      ],
      "metadata": {
        "colab": {
          "base_uri": "https://localhost:8080/"
        },
        "id": "Tiyh96tMbyrU",
        "outputId": "94e2d7e1-5983-4452-8cf3-2d3752a13787"
      },
      "execution_count": null,
      "outputs": [
        {
          "output_type": "stream",
          "name": "stdout",
          "text": [
            "Cloning into 'ml_class_content'...\n",
            "remote: Enumerating objects: 58, done.\u001b[K\n",
            "remote: Counting objects: 100% (49/49), done.\u001b[K\n",
            "remote: Compressing objects: 100% (30/30), done.\u001b[K\n",
            "remote: Total 58 (delta 12), reused 46 (delta 9), pack-reused 9\u001b[K\n",
            "Receiving objects: 100% (58/58), 84.76 MiB | 29.27 MiB/s, done.\n",
            "Resolving deltas: 100% (12/12), done.\n"
          ]
        }
      ]
    },
    {
      "cell_type": "code",
      "source": [
        "#@title Setting the dataset\n",
        "\n",
        "from sklearn.model_selection import train_test_split\n",
        "from IPython.display import YouTubeVideo\n",
        "import pandas as pd\n",
        "\n",
        "df_purchase = pd.read_csv(\"data/training_sample.csv\", delimiter=\",\", quotechar='\"')\n",
        "df_purchase_base, df_purchase_test = train_test_split(df_purchase, test_size=0.1,random_state=123)\n",
        "df_purchase_train, df_purchase_validation = train_test_split(df_purchase_base, test_size=0.2)\n",
        "\n"
      ],
      "metadata": {
        "id": "Z0q7inellMba"
      },
      "execution_count": null,
      "outputs": []
    },
    {
      "cell_type": "code",
      "source": [
        "train_features = df_purchase_train.drop(['UserID','ordered'],axis=1)\n",
        "val_features = df_purchase_validation.drop(['UserID','ordered'],axis=1)\n",
        "test_features = df_purchase_test.drop(['UserID','ordered'],axis=1)"
      ],
      "metadata": {
        "id": "tQbfE_kCy5bf"
      },
      "execution_count": null,
      "outputs": []
    },
    {
      "cell_type": "markdown",
      "source": [
        "## The Gradient-Boosting Algorithm template\n",
        "\n",
        "\n",
        "1.   Start with a default model $B(X)$ (ie. mean).\n",
        "2.   Use the model to get the predicted values in train data.\n",
        "3.   Calculate the residuals (predicted vs expected loss).\n",
        "4.   Train a model to estimate the residuals $F_1(X)$\n",
        "5.   Calculate new predictions using $B(X) + \\lambda F_1(X)$\n",
        "6.   Go to step 3 and generate a new model.\n",
        "7.   Until the residuals are 0 or (and most likely) you reach the maximum amount of models.\n",
        "\n",
        "Normally, the $F$ models are built using tree-based models, that's because are simple, efficient and effective.\n",
        "\n",
        "In classification problems we need consider:\n",
        "\n",
        "*   The residuals are in term of $$log(odds) = {log({p \\over 1-p})}$$\n",
        "*   Before add the models results, you need to apply a transformation: $$ \\sum{Residual_i} \\over \\sum{Previous Probability_i \\times (1 - Previous Probability_i) } $$\n",
        "*   To get a prediction it is necessary to transform the result to probabilities $$ e^{log(odds)} \\over 1 + e^{log(odds)} $$\n",
        "\n",
        "[StackQuest](https://www.youtube.com/watch?v=3CC4N4z3GJc) has a nice series of videos about this"
      ],
      "metadata": {
        "id": "DvY025slb1h5"
      }
    },
    {
      "cell_type": "code",
      "source": [
        "#@title Gradient boost in Sklearn\n",
        "\n",
        "from sklearn.ensemble import HistGradientBoostingClassifier\n",
        "from sklearn.metrics import f1_score"
      ],
      "metadata": {
        "id": "0fpeYtPfoT15"
      },
      "execution_count": null,
      "outputs": []
    },
    {
      "cell_type": "code",
      "source": [
        "clf = HistGradientBoostingClassifier().fit(train_features, df_purchase_train['ordered'])"
      ],
      "metadata": {
        "id": "Arih8C25bzig"
      },
      "execution_count": null,
      "outputs": []
    },
    {
      "cell_type": "code",
      "source": [
        "f1_score(df_purchase_validation['ordered'], clf.predict(val_features))"
      ],
      "metadata": {
        "colab": {
          "base_uri": "https://localhost:8080/"
        },
        "id": "l92zaVHpzq6u",
        "outputId": "4b68eb52-0281-4fe6-92ae-dc0071189ce9"
      },
      "execution_count": null,
      "outputs": [
        {
          "output_type": "execute_result",
          "data": {
            "text/plain": [
              "0.925468424705066"
            ]
          },
          "metadata": {},
          "execution_count": 27
        }
      ]
    },
    {
      "cell_type": "markdown",
      "source": [
        "### Assigment\n",
        "\n",
        "Check the [HistGradientBoostingClassifier](https://scikit-learn.org/stable/modules/generated/sklearn.ensemble.HistGradientBoostingClassifier.html#sklearn.ensemble.HistGradientBoostingClassifier) docs and answer the following questions:\n",
        "\n",
        "\n",
        "*   Which is the default value of $\\lambda$?\n",
        "*   How you fix the number of models (trees) to build?\n",
        "*   How you define the trees size (depth)?\n",
        "*   What happen with the model perfomance if you use other values of $\\lambda$ and number of models?\n",
        "\n",
        "\n"
      ],
      "metadata": {
        "id": "spr8wHWj2DSo"
      }
    },
    {
      "cell_type": "code",
      "source": [],
      "metadata": {
        "id": "f7X0XjNU3zuh"
      },
      "execution_count": null,
      "outputs": []
    },
    {
      "cell_type": "code",
      "source": [],
      "metadata": {
        "id": "L8_izDTY4GJ0"
      },
      "execution_count": null,
      "outputs": []
    },
    {
      "cell_type": "markdown",
      "source": [
        "# XGBoost\n",
        "\n",
        "Use the same Boosting aproach idea, but it uses another approach to build the trees from residuals.\n",
        "*   The splits are created based on residuals similarity.\n",
        "*   A Regularization factor can be applied.\n",
        "*   The trees are pruned based on $\\gamma$ parameter.\n",
        "*   Take advance of parallelism and GPUs\n"
      ],
      "metadata": {
        "id": "B0B9VSws4GoJ"
      }
    },
    {
      "cell_type": "code",
      "source": [
        "YouTubeVideo('8b1JEDvenQU',width=640, height=480)"
      ],
      "metadata": {
        "colab": {
          "base_uri": "https://localhost:8080/",
          "height": 501
        },
        "id": "Q_mw3vbTA_C4",
        "outputId": "bda03033-4733-4d42-adc1-31ce2ff07a34"
      },
      "execution_count": null,
      "outputs": [
        {
          "output_type": "execute_result",
          "data": {
            "text/plain": [
              "<IPython.lib.display.YouTubeVideo at 0x785f57b67430>"
            ],
            "text/html": [
              "\n",
              "        <iframe\n",
              "            width=\"640\"\n",
              "            height=\"480\"\n",
              "            src=\"https://www.youtube.com/embed/8b1JEDvenQU\"\n",
              "            frameborder=\"0\"\n",
              "            allowfullscreen\n",
              "            \n",
              "        ></iframe>\n",
              "        "
            ],
            "image/jpeg": "[encoded data removed]"
          },
          "metadata": {},
          "execution_count": 31
        }
      ]
    },
    {
      "cell_type": "code",
      "source": [
        "#@title The XBGBoost Library\n",
        "from xgboost import XGBClassifier"
      ],
      "metadata": {
        "id": "MzGI4k02LtG6"
      },
      "execution_count": null,
      "outputs": []
    },
    {
      "cell_type": "code",
      "source": [
        "xgb_model = XGBClassifier(objective='binary:logistic').fit(train_features, df_purchase_train['ordered'])"
      ],
      "metadata": {
        "id": "52gLM3WqMD7B"
      },
      "execution_count": null,
      "outputs": []
    },
    {
      "cell_type": "code",
      "source": [
        "f1_score(df_purchase_validation['ordered'], xgb_model.predict(val_features))"
      ],
      "metadata": {
        "colab": {
          "base_uri": "https://localhost:8080/"
        },
        "id": "c9dcKdkSLzzy",
        "outputId": "60d3ff4f-cb84-4898-ae82-fa1e9296cf59"
      },
      "execution_count": null,
      "outputs": [
        {
          "output_type": "execute_result",
          "data": {
            "text/plain": [
              "0.9229095853161116"
            ]
          },
          "metadata": {},
          "execution_count": 49
        }
      ]
    },
    {
      "cell_type": "markdown",
      "source": [
        "Check the [XGBClassifier](https://xgboost.readthedocs.io/en/stable/python/python_api.html#xgboost.XGBClassifier) docs and answer the following questions:\n",
        "\n",
        "*    Which option is better in this scenario. Few deep trees or lots or shallow trees?\n",
        "*   Could you find a set of hyperparameters that improves the default settings?"
      ],
      "metadata": {
        "id": "xKHuZ0PfQQca"
      }
    },
    {
      "cell_type": "code",
      "source": [],
      "metadata": {
        "id": "vzVREYEuRkW5"
      },
      "execution_count": null,
      "outputs": []
    },
    {
      "cell_type": "code",
      "source": [],
      "metadata": {
        "id": "kzq3mFd5Rk4X"
      },
      "execution_count": null,
      "outputs": []
    },
    {
      "cell_type": "markdown",
      "source": [
        "## Catboost\n",
        "\n",
        "This strategy relies in a different way to treat categorical variables (Catboost comes from categorical boosting), called ordered target enconding. Also, the model is trained following a ordered approach"
      ],
      "metadata": {
        "id": "5woANR6URpVl"
      }
    },
    {
      "cell_type": "code",
      "source": [
        "YouTubeVideo('KXOTSkPL2X4',width=640, height=480)"
      ],
      "metadata": {
        "colab": {
          "base_uri": "https://localhost:8080/",
          "height": 501
        },
        "id": "duioDmx9VNBL",
        "outputId": "3b0202f4-4da5-463d-ed5f-9265b4f7e336"
      },
      "execution_count": null,
      "outputs": [
        {
          "output_type": "execute_result",
          "data": {
            "text/plain": [
              "<IPython.lib.display.YouTubeVideo at 0x785f3dbc2710>"
            ],
            "text/html": [
              "\n",
              "        <iframe\n",
              "            width=\"640\"\n",
              "            height=\"480\"\n",
              "            src=\"https://www.youtube.com/embed/KXOTSkPL2X4\"\n",
              "            frameborder=\"0\"\n",
              "            allowfullscreen\n",
              "            \n",
              "        ></iframe>\n",
              "        "
            ],
            "image/jpeg": "[encoded data removed]"
          },
          "metadata": {},
          "execution_count": 50
        }
      ]
    },
    {
      "cell_type": "code",
      "source": [
        "YouTubeVideo('3Bg2XRFOTzg',width=640, height=480)"
      ],
      "metadata": {
        "colab": {
          "base_uri": "https://localhost:8080/",
          "height": 501
        },
        "id": "iXfQveY0VlB2",
        "outputId": "0185e474-0568-4c73-dae0-61ea360fe510"
      },
      "execution_count": null,
      "outputs": [
        {
          "output_type": "execute_result",
          "data": {
            "text/plain": [
              "<IPython.lib.display.YouTubeVideo at 0x785f3dbc37f0>"
            ],
            "text/html": [
              "\n",
              "        <iframe\n",
              "            width=\"640\"\n",
              "            height=\"480\"\n",
              "            src=\"https://www.youtube.com/embed/3Bg2XRFOTzg\"\n",
              "            frameborder=\"0\"\n",
              "            allowfullscreen\n",
              "            \n",
              "        ></iframe>\n",
              "        "
            ],
            "image/jpeg": "[encoded data removed]"
          },
          "metadata": {},
          "execution_count": 51
        }
      ]
    },
    {
      "cell_type": "markdown",
      "source": [],
      "metadata": {
        "id": "yeKbAgIePg_o"
      }
    },
    {
      "cell_type": "code",
      "source": [
        "!pip install catboost"
      ],
      "metadata": {
        "colab": {
          "base_uri": "https://localhost:8080/"
        },
        "id": "o_Ie5E2QVqW3",
        "outputId": "f520eb58-dec8-4120-8b4b-a2c8610b9cf7"
      },
      "execution_count": null,
      "outputs": [
        {
          "output_type": "stream",
          "name": "stdout",
          "text": [
            "Collecting catboost\n",
            "  Downloading catboost-1.2.3-cp310-cp310-manylinux2014_x86_64.whl (98.5 MB)\n",
            "\u001b[2K     \u001b[90m━━━━━━━━━━━━━━━━━━━━━━━━━━━━━━━━━━━━━━━━\u001b[0m \u001b[32m98.5/98.5 MB\u001b[0m \u001b[31m2.5 MB/s\u001b[0m eta \u001b[36m0:00:00\u001b[0m\n",
            "\u001b[?25hRequirement already satisfied: graphviz in /usr/local/lib/python3.10/dist-packages (from catboost) (0.20.3)\n",
            "Requirement already satisfied: matplotlib in /usr/local/lib/python3.10/dist-packages (from catboost) (3.7.1)\n",
            "Requirement already satisfied: numpy>=1.16.0 in /usr/local/lib/python3.10/dist-packages (from catboost) (1.25.2)\n",
            "Requirement already satisfied: pandas>=0.24 in /usr/local/lib/python3.10/dist-packages (from catboost) (1.5.3)\n",
            "Requirement already satisfied: scipy in /usr/local/lib/python3.10/dist-packages (from catboost) (1.11.4)\n",
            "Requirement already satisfied: plotly in /usr/local/lib/python3.10/dist-packages (from catboost) (5.15.0)\n",
            "Requirement already satisfied: six in /usr/local/lib/python3.10/dist-packages (from catboost) (1.16.0)\n",
            "Requirement already satisfied: python-dateutil>=2.8.1 in /usr/local/lib/python3.10/dist-packages (from pandas>=0.24->catboost) (2.8.2)\n",
            "Requirement already satisfied: pytz>=2020.1 in /usr/local/lib/python3.10/dist-packages (from pandas>=0.24->catboost) (2023.4)\n",
            "Requirement already satisfied: contourpy>=1.0.1 in /usr/local/lib/python3.10/dist-packages (from matplotlib->catboost) (1.2.0)\n",
            "Requirement already satisfied: cycler>=0.10 in /usr/local/lib/python3.10/dist-packages (from matplotlib->catboost) (0.12.1)\n",
            "Requirement already satisfied: fonttools>=4.22.0 in /usr/local/lib/python3.10/dist-packages (from matplotlib->catboost) (4.50.0)\n",
            "Requirement already satisfied: kiwisolver>=1.0.1 in /usr/local/lib/python3.10/dist-packages (from matplotlib->catboost) (1.4.5)\n",
            "Requirement already satisfied: packaging>=20.0 in /usr/local/lib/python3.10/dist-packages (from matplotlib->catboost) (24.0)\n",
            "Requirement already satisfied: pillow>=6.2.0 in /usr/local/lib/python3.10/dist-packages (from matplotlib->catboost) (9.4.0)\n",
            "Requirement already satisfied: pyparsing>=2.3.1 in /usr/local/lib/python3.10/dist-packages (from matplotlib->catboost) (3.1.2)\n",
            "Requirement already satisfied: tenacity>=6.2.0 in /usr/local/lib/python3.10/dist-packages (from plotly->catboost) (8.2.3)\n",
            "Installing collected packages: catboost\n",
            "Successfully installed catboost-1.2.3\n"
          ]
        }
      ]
    },
    {
      "cell_type": "code",
      "source": [
        "from catboost import CatBoostClassifier"
      ],
      "metadata": {
        "id": "rYf7MVbbV0JA"
      },
      "execution_count": null,
      "outputs": []
    },
    {
      "cell_type": "code",
      "source": [
        "cat_model = CatBoostClassifier(logging_level='Silent').fit(train_features, df_purchase_train['ordered'],plot=True)"
      ],
      "metadata": {
        "colab": {
          "base_uri": "https://localhost:8080/",
          "height": 17,
          "referenced_widgets": [
            "e2da1e3802234623a9059e60dd4681c3"
          ]
        },
        "id": "xtXxyniXWk-Z",
        "outputId": "9e467095-5594-4856-dae3-ebd67739317b"
      },
      "execution_count": null,
      "outputs": [
        {
          "output_type": "display_data",
          "data": {
            "text/plain": [
              "MetricVisualizer(layout=Layout(align_self='stretch', height='500px'))"
            ],
            "application/vnd.jupyter.widget-view+json": {
              "version_major": 2,
              "version_minor": 0,
              "model_id": "e2da1e3802234623a9059e60dd4681c3"
            }
          },
          "metadata": {}
        }
      ]
    },
    {
      "cell_type": "code",
      "source": [
        "f1_score(df_purchase_validation['ordered'], cat_model.predict(val_features))"
      ],
      "metadata": {
        "colab": {
          "base_uri": "https://localhost:8080/"
        },
        "id": "L3fyseoYXluI",
        "outputId": "7c28e49d-59a8-4acb-d441-de74c69d6853"
      },
      "execution_count": null,
      "outputs": [
        {
          "output_type": "execute_result",
          "data": {
            "text/plain": [
              "0.9210024516480524"
            ]
          },
          "metadata": {},
          "execution_count": 56
        }
      ]
    },
    {
      "cell_type": "markdown",
      "source": [
        "### Assigment\n",
        "\n",
        "Check the [CatBoostClassifier](https://catboost.ai/en/docs/concepts/python-reference_catboostclassifier) docs and this [example](https://github.com/catboost/tutorials/blob/master/python_tutorial.ipynb) and answer these questions:\n",
        "\n",
        "*   How we can take advance of categorical variables during train.\n",
        "*   Could you test other hyperameters (learning rate, iterations, etc) a see the impact in model's performance?\n",
        "*  What information you can extract from the following code blocks\n",
        "\n",
        "\n"
      ],
      "metadata": {
        "id": "Z-vxcv7IYVLD"
      }
    },
    {
      "cell_type": "code",
      "source": [
        "import matplotlib.pyplot as plt\n",
        "import numpy as np"
      ],
      "metadata": {
        "id": "MdJ1ZULqazGn"
      },
      "execution_count": null,
      "outputs": []
    },
    {
      "cell_type": "code",
      "source": [
        "\n",
        "feature_importance = cat_model.feature_importances_\n",
        "sorted_idx = np.argsort(feature_importance)\n",
        "fig = plt.figure(figsize=(12, 6))\n",
        "plt.barh(range(len(sorted_idx)), feature_importance[sorted_idx], align='center')\n",
        "plt.yticks(range(len(sorted_idx)), np.array(val_features.columns)[sorted_idx])\n",
        "plt.title('????')\n"
      ],
      "metadata": {
        "colab": {
          "base_uri": "https://localhost:8080/",
          "height": 563
        },
        "id": "ixmh2JDSbJdD",
        "outputId": "83a13b67-1492-4c05-db3b-66905037e718"
      },
      "execution_count": null,
      "outputs": [
        {
          "output_type": "execute_result",
          "data": {
            "text/plain": [
              "Text(0.5, 1.0, '????')"
            ]
          },
          "metadata": {},
          "execution_count": 63
        },
        {
          "output_type": "display_data",
          "data": {
            "text/plain": [
              "<Figure size 1200x600 with 1 Axes>"
            ],
            "image/png": "[encoded data removed]"
          },
          "metadata": {}
        }
      ]
    }
  ]
}