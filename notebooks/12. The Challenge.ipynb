{
  "nbformat": 4,
  "nbformat_minor": 0,
  "metadata": {
    "colab": {
      "provenance": []
    },
    "kernelspec": {
      "name": "python3",
      "display_name": "Python 3"
    },
    "language_info": {
      "name": "python"
    }
  },
  "cells": [
    {
      "cell_type": "markdown",
      "source": [
        "# A final challenge"
      ],
      "metadata": {
        "id": "5fQQp6jqDI2q"
      }
    },
    {
      "cell_type": "markdown",
      "source": [
        "## Setting up"
      ],
      "metadata": {
        "id": "ipvv7xMaDO9Y"
      }
    },
    {
      "cell_type": "code",
      "source": [
        "!git clone https://github.com/mciprian/ml_class_content.git\n",
        "!mv ml_class_content/notebooks/img img\n",
        "!mv ml_class_content/notebooks/data data\n",
        "!rm data/creditcard.zip\n",
        "!rm -fr ml_class_content/"
      ],
      "metadata": {
        "id": "WrSdcQ5e-zYp"
      },
      "execution_count": null,
      "outputs": []
    },
    {
      "cell_type": "code",
      "execution_count": null,
      "metadata": {
        "id": "LlkRkOh6dx2u"
      },
      "outputs": [],
      "source": [
        "!pip install ydata-profiling\n",
        "!pip install torch==2.0.1+cpu torchvision==0.15.2+cpu --index-url https://download.pytorch.org/whl/cpu\n",
        "!pip install autogluon"
      ]
    },
    {
      "cell_type": "code",
      "source": [
        "import sklearn\n",
        "import pandas as pd\n",
        "from sklearn.model_selection import train_test_split\n",
        "from sklearn.preprocessing import TargetEncoder\n",
        "from autogluon.tabular import TabularDataset, TabularPredictor\n",
        "from sklearn.metrics import log_loss\n",
        "from ydata_profiling import ProfileReport"
      ],
      "metadata": {
        "id": "hhn9oOfoffHY"
      },
      "execution_count": null,
      "outputs": []
    },
    {
      "cell_type": "markdown",
      "source": [
        "## The problem\n",
        "\n",
        "From the [Bank Loan Defaulter Prediction dataset](https://www.kaggle.com/datasets/ankitkalauni/bank-loan-defaulter-prediction-hackathon)\n",
        "\n",
        "\"Banks run into losses when a customer doesn't pay their loans on time. Because of this, every year, banks have losses in crores, and this also impacts the country's economic growth to a large extent. In this hackathon, we look at various attributes such as funded amount, location, loan, balance, etc., to predict if a person will be a loan defaulter or not.\n",
        "\n",
        "To solve this problem, MachineHack has created a training dataset of 67,463 rows and 35 columns and a testing dataset of 28,913 rows and 34 columns. The hackathon demands a few pre-requisite skills like big dataset, underfitting vs overfitting, and the ability to optimise “log_loss” to generalise well on unseen data.\""
      ],
      "metadata": {
        "id": "LSZ03qWgDYLo"
      }
    },
    {
      "cell_type": "code",
      "source": [
        "df_loans = pd.read_csv(\"data/bank_default.csv\")\n",
        "df_train, df_test = train_test_split(df_loans, test_size=0.1)\n"
      ],
      "metadata": {
        "id": "ts_bPC1HiAPD"
      },
      "execution_count": null,
      "outputs": []
    },
    {
      "cell_type": "markdown",
      "source": [
        "## It is your turn"
      ],
      "metadata": {
        "id": "iF8hE6sRErVk"
      }
    }
  ]
}