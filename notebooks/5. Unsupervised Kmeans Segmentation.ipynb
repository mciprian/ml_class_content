{
  "cells": [
    {
      "cell_type": "markdown",
      "source": [
        "# Setting up"
      ],
      "metadata": {
        "id": "14SWMEX34S6x"
      }
    },
    {
      "cell_type": "code",
      "source": [
        "!git clone https://github.com/mciprian/ml_class_content.git\n",
        "!mv ml_class_content/notebooks/img img\n",
        "!mv ml_class_content/notebooks/data data\n",
        "!unzip data/creditcard.zip -d data/\n",
        "!rm data/creditcard.zip\n",
        "!rm -fr ml_class_content/\n"
      ],
      "metadata": {
        "id": "mkEr8XLE4QBL"
      },
      "execution_count": null,
      "outputs": []
    },
    {
      "cell_type": "markdown",
      "metadata": {
        "id": "ad8rbEUtzOm7"
      },
      "source": [
        "# Methods. Unsupervised. Kmeans\n",
        "\n",
        "## Working with no-labeled data"
      ]
    },
    {
      "cell_type": "markdown",
      "metadata": {
        "id": "MijnDyxDzOm-"
      },
      "source": [
        "No labeled data is a central problem in many applications of machine learning. The main goal of unsupervised machine learning methods are to find or infer \"labels\" from data without one.\n",
        "\n",
        "Kmeans is a simple but powerfull method (very parallelizable) to discover groups among datasets and therefore propose a label."
      ]
    },
    {
      "cell_type": "code",
      "execution_count": null,
      "metadata": {
        "id": "Is0vzzsKzOm_"
      },
      "outputs": [],
      "source": [
        "import pandas as pd\n",
        "import numpy as np\n",
        "\n",
        "import matplotlib.pyplot as plt\n",
        "from matplotlib.pyplot import figure"
      ]
    },
    {
      "cell_type": "code",
      "execution_count": null,
      "metadata": {
        "id": "95PWddVczOnA"
      },
      "outputs": [],
      "source": [
        "from sklearn.datasets import make_blobs\n",
        "\n",
        "X, y = make_blobs(\n",
        "    n_samples=50, centers=3, random_state=42, cluster_std=[2.5, 1.5, 2.8]\n",
        ")\n",
        "\n",
        "# Plot data\n",
        "plt.scatter(X[:, 0], X[:, 1])\n",
        "plt.show()"
      ]
    },
    {
      "cell_type": "markdown",
      "metadata": {
        "id": "PB7_1V7CzOnA"
      },
      "source": [
        " <span style=\"color:blue\">Discuss about the \"shaping\"/\"groups\" in the figure. Is there a label ?</span>\n",
        "\n",
        "  <span style=\"color:blue\">Propose a method to \"label\" the groups </span>"
      ]
    },
    {
      "cell_type": "code",
      "execution_count": null,
      "metadata": {
        "id": "49-rym-SzOnB"
      },
      "outputs": [],
      "source": []
    },
    {
      "cell_type": "code",
      "execution_count": null,
      "metadata": {
        "id": "COwmIdyPzOnB"
      },
      "outputs": [],
      "source": []
    },
    {
      "cell_type": "code",
      "execution_count": null,
      "metadata": {
        "id": "lbxx-XPfzOnB"
      },
      "outputs": [],
      "source": []
    },
    {
      "cell_type": "code",
      "execution_count": null,
      "metadata": {
        "id": "G-TDupXLzOnB"
      },
      "outputs": [],
      "source": []
    },
    {
      "cell_type": "code",
      "execution_count": null,
      "metadata": {
        "id": "CSqkhohGzOnB"
      },
      "outputs": [],
      "source": []
    },
    {
      "cell_type": "code",
      "execution_count": null,
      "metadata": {
        "id": "iee9wPEtzOnB"
      },
      "outputs": [],
      "source": []
    },
    {
      "cell_type": "code",
      "execution_count": null,
      "metadata": {
        "id": "JjPR2LRqzOnB"
      },
      "outputs": [],
      "source": []
    },
    {
      "cell_type": "code",
      "execution_count": null,
      "metadata": {
        "id": "rHX0aIhZzOnC"
      },
      "outputs": [],
      "source": []
    },
    {
      "cell_type": "code",
      "execution_count": null,
      "metadata": {
        "id": "m1yu_qEczOnC"
      },
      "outputs": [],
      "source": []
    },
    {
      "cell_type": "markdown",
      "metadata": {
        "id": "r5bYwo32zOnC"
      },
      "source": [
        "#### One center, one group\n",
        "\n",
        "We use the next error function $\\frac{1}{n} (c_k - x_i)^2$ where $c_k$ represents the $k$ center and $x_i$ the $i$ point."
      ]
    },
    {
      "cell_type": "code",
      "execution_count": null,
      "metadata": {
        "id": "Mp6eUN3nzOnC"
      },
      "outputs": [],
      "source": [
        "center_A = np.asarray([-12, -3])\n",
        "\n",
        "plt.scatter(X[:, 0], X[:, 1])\n",
        "plt.scatter(center_A[0], center_A[1], label=\"center A\", c=\"orange\", marker=\"x\", s=150)\n",
        "plt.legend()\n",
        "plt.show()\n",
        "\n",
        "print(\"Center A error %f\" % np.mean(np.power(center_A - X, 2)))"
      ]
    },
    {
      "cell_type": "markdown",
      "metadata": {
        "id": "Ovu16dTszOnC"
      },
      "source": [
        "<span style=\"color:blue\">Propose the best center (the lowest error) </span>"
      ]
    },
    {
      "cell_type": "code",
      "execution_count": null,
      "metadata": {
        "id": "EDJJv8IxzOnC"
      },
      "outputs": [],
      "source": []
    },
    {
      "cell_type": "code",
      "execution_count": null,
      "metadata": {
        "id": "FNS52p5ozOnC"
      },
      "outputs": [],
      "source": []
    },
    {
      "cell_type": "code",
      "execution_count": null,
      "metadata": {
        "id": "-BczhwZwzOnC"
      },
      "outputs": [],
      "source": []
    },
    {
      "cell_type": "code",
      "execution_count": null,
      "metadata": {
        "id": "YkyeGja2zOnC"
      },
      "outputs": [],
      "source": []
    },
    {
      "cell_type": "code",
      "execution_count": null,
      "metadata": {
        "id": "9k3emllRzOnC"
      },
      "outputs": [],
      "source": []
    },
    {
      "cell_type": "code",
      "execution_count": null,
      "metadata": {
        "id": "SCKxOPM-zOnC"
      },
      "outputs": [],
      "source": []
    },
    {
      "cell_type": "code",
      "execution_count": null,
      "metadata": {
        "id": "oFYvQoCrzOnC"
      },
      "outputs": [],
      "source": []
    },
    {
      "cell_type": "markdown",
      "metadata": {
        "id": "sScvmgrczOnC"
      },
      "source": [
        "#### Two center, two groups"
      ]
    },
    {
      "cell_type": "code",
      "execution_count": null,
      "metadata": {
        "id": "WAW7C9hSzOnC"
      },
      "outputs": [],
      "source": [
        "center_A = np.asarray([-5, -3])\n",
        "center_B = np.asarray([5, 3])\n",
        "\n",
        "\n",
        "plt.scatter(X[:, 0], X[:, 1])\n",
        "plt.scatter(center_A[0], center_A[1], label=\"center A\", c=\"orange\", marker=\"x\", s=150)\n",
        "plt.scatter(center_B[0], center_B[1], label=\"center B\", c= \"red\", marker=\"x\", s=150)\n",
        "plt.legend()\n",
        "plt.show()\n",
        "\n",
        "print(\"Center A error %f\" % np.mean(np.power(center_A - X, 2)))\n",
        "print(\"Center B error %f\" % np.mean(np.power(center_B - X, 2)))"
      ]
    },
    {
      "cell_type": "markdown",
      "metadata": {
        "id": "0r9pTzQVzOnD"
      },
      "source": [
        "<span style=\"color:blue\">Taking account to the \"visible groups\", these metric make sense ?</span>\n",
        "\n",
        "<span style=\"color:blue\">Propose a method to assing each point to one cluster </span>"
      ]
    },
    {
      "cell_type": "code",
      "execution_count": null,
      "metadata": {
        "id": "eXkpjmo6zOnD"
      },
      "outputs": [],
      "source": []
    },
    {
      "cell_type": "code",
      "execution_count": null,
      "metadata": {
        "id": "5CkZ8npHzOnD"
      },
      "outputs": [],
      "source": []
    },
    {
      "cell_type": "code",
      "execution_count": null,
      "metadata": {
        "id": "CNjigHGkzOnD"
      },
      "outputs": [],
      "source": []
    },
    {
      "cell_type": "code",
      "execution_count": null,
      "metadata": {
        "id": "dwJBgeILzOnD"
      },
      "outputs": [],
      "source": []
    },
    {
      "cell_type": "markdown",
      "metadata": {
        "id": "boUiv1mqzOnD"
      },
      "source": [
        "#### Group assigment of every point"
      ]
    },
    {
      "cell_type": "code",
      "execution_count": null,
      "metadata": {
        "id": "Oag3Kk-ezOnD"
      },
      "outputs": [],
      "source": [
        "def plot_points_centers(X, center_A, center_B, assignemt, title=None):\n",
        "    \"\"\"\n",
        "    \"\"\"\n",
        "    plt.scatter(\n",
        "        X[:, 0], X[:, 1], c=[\"orange\" if e == True else \"red\" for e in assignemt]\n",
        "    )\n",
        "    plt.scatter(\n",
        "        center_A[0], center_A[1], label=\"center A\", c=\"orange\", marker=\"x\", s=150\n",
        "    )\n",
        "    plt.scatter(center_B[0], center_B[1], label=\"center B\", c=\"red\", marker=\"x\", s=150)\n",
        "    plt.legend()\n",
        "    if title:\n",
        "        plt.title(title)\n",
        "    plt.show()\n",
        "\n",
        "\n",
        "# Set initial centers\n",
        "center_A = np.asarray([-5, -3])\n",
        "center_B = np.asarray([5, 3])\n",
        "\n",
        "# Calculate errors for every point to the centers\n",
        "errors_center_a = np.mean(np.power(X - center_A, 2), axis=1)\n",
        "errors_center_b = np.mean(np.power(X - center_B, 2), axis=1)\n",
        "# Get minimum center distance\n",
        "assignemt = errors_center_a < errors_center_b\n",
        "\n",
        "# Plot points, centers and assigment labels\n",
        "plot_points_centers(X, center_A, center_B, assignemt)\n",
        "\n",
        "print(\"Center A error %f\" % np.mean(np.power(center_A - X[assignemt == True], 2)))\n",
        "print(\"Center B error %f\" % np.mean(np.power(center_B - X[assignemt == False], 2)))"
      ]
    },
    {
      "cell_type": "markdown",
      "metadata": {
        "id": "P44DhkvCzOnD"
      },
      "source": [
        "<span style=\"color:blue\">Propose new values for the two centers, trying to minimize errors</span>"
      ]
    },
    {
      "cell_type": "code",
      "execution_count": null,
      "metadata": {
        "id": "TnrRWwsCzOnD"
      },
      "outputs": [],
      "source": []
    },
    {
      "cell_type": "code",
      "execution_count": null,
      "metadata": {
        "id": "SEsM8X_NzOnD"
      },
      "outputs": [],
      "source": []
    },
    {
      "cell_type": "code",
      "execution_count": null,
      "metadata": {
        "id": "HVjo4Zb4zOnD"
      },
      "outputs": [],
      "source": []
    },
    {
      "cell_type": "code",
      "execution_count": null,
      "metadata": {
        "id": "cHeUOa-6zOnD"
      },
      "outputs": [],
      "source": []
    },
    {
      "cell_type": "code",
      "execution_count": null,
      "metadata": {
        "id": "RajbPiXFzOnD"
      },
      "outputs": [],
      "source": []
    },
    {
      "cell_type": "code",
      "execution_count": null,
      "metadata": {
        "id": "BxxpNgzAzOnN"
      },
      "outputs": [],
      "source": []
    },
    {
      "cell_type": "markdown",
      "metadata": {
        "id": "RnLIzSbNzOnN"
      },
      "source": [
        "## K-means"
      ]
    },
    {
      "cell_type": "markdown",
      "metadata": {
        "id": "2vyCyouqzOnN"
      },
      "source": [
        "K-means is a clustering method (vector quantization i.e.: modeling of probability density functions by the distribution of prototype vectors), that aims to partition $n$ observations into $k$ clusters.\n",
        "\n",
        "The next function, guide the search of the best position for every center:\n",
        "\n",
        "$$\\text{arg}\\min_{\\hspace{-1in}S}\\ \\sum_{k=1}^C \\sum_{i=1}^n ||c_k - x_i||^2$$"
      ]
    },
    {
      "cell_type": "code",
      "execution_count": null,
      "metadata": {
        "id": "JFsIXOcrzOnN"
      },
      "outputs": [],
      "source": [
        "center_A = np.asarray([-5, -3])\n",
        "center_B = np.asarray([5, 3])\n",
        "\n",
        "# Get\n",
        "errors_center_a = np.mean(np.power(X - center_A, 2), axis=1)\n",
        "errors_center_b = np.mean(np.power(X - center_B, 2), axis=1)\n",
        "assignemt = errors_center_a < errors_center_b\n",
        "\n",
        "plot_points_centers(X, center_A, center_B, assignemt)\n",
        "\n",
        "print(\"Center A error %f\" % np.mean(np.power(center_A - X[assignemt==True], 2)))\n",
        "print(\"Center B error %f\" % np.mean(np.power(center_B - X[assignemt==False], 2)))"
      ]
    },
    {
      "cell_type": "markdown",
      "metadata": {
        "id": "LkwyKHHtzOnN"
      },
      "source": [
        "#### Update centers, by using average values on every membership category."
      ]
    },
    {
      "cell_type": "code",
      "execution_count": null,
      "metadata": {
        "id": "Hoi5TcVYzOnN"
      },
      "outputs": [],
      "source": [
        "def my_two_kmeans(X, center_A, center_B, n_its=2, debug=True):\n",
        "    \"\"\"\n",
        "    \"\"\"\n",
        "\n",
        "    def calculate_centroid_errors(X, center_A, center_B):\n",
        "        \"\"\"\n",
        "        Calculate errors for every point and center\n",
        "        \"\"\"\n",
        "        errors_center_a = np.mean(np.power(X - center_A, 2), axis=1)\n",
        "        errors_center_b = np.mean(np.power(X - center_B, 2), axis=1)\n",
        "        return errors_center_a, errors_center_b\n",
        "\n",
        "    def calculate_intertia(X, assignemt, center_A, center_B):\n",
        "        \"\"\"\n",
        "        Calculate total inertia of every cluster\n",
        "        \"\"\"\n",
        "        return sum(\n",
        "            sum((np.power(center_A - X[assignemt == True], 2)))\n",
        "            + sum((np.power(center_B - X[assignemt == False], 2)))\n",
        "        )\n",
        "\n",
        "    def calculate_centroid_memebership(errors_center_a, errors_center_b):\n",
        "        \"\"\"\n",
        "        Assign every dataset point to a centroid membership (closest one)\n",
        "        \"\"\"\n",
        "        return errors_center_a < errors_center_b\n",
        "\n",
        "    def print_distortion_per_centroid(X, assignemt, center_A, center_B):\n",
        "        \"\"\"\n",
        "        Calculate distortion per centroid and print value\n",
        "        \"\"\"\n",
        "        print(\n",
        "            \"Center A error %f\" % np.mean(np.power(center_A - X[assignemt == True], 2))\n",
        "        )\n",
        "        print(\n",
        "            \"Center B error %f\" % np.mean(np.power(center_B - X[assignemt == False], 2))\n",
        "        )\n",
        "\n",
        "    # calculations\n",
        "    errors_center_a, errors_center_b = calculate_centroid_errors(X, center_A, center_B)\n",
        "    assignemt = calculate_centroid_memebership(errors_center_a, errors_center_b)\n",
        "    if debug:\n",
        "        plot_points_centers(X, center_A, center_B, assignemt, \"Episode 0\")\n",
        "        print_distortion_per_centroid(X, assignemt, center_A, center_B)\n",
        "    print(\"Inertia: %f\" % calculate_intertia(X, assignemt, center_A, center_B))\n",
        "\n",
        "    # Adjust centers\n",
        "    for i in range(n_its):\n",
        "        # Calculations\n",
        "        errors_center_a, errors_center_b = calculate_centroid_errors(\n",
        "            X, center_A, center_B\n",
        "        )\n",
        "        assignemt = calculate_centroid_memebership(errors_center_a, errors_center_b)\n",
        "\n",
        "        # Update centers\n",
        "        # ===============================================\n",
        "        center_A = np.mean(X[assignemt == True], axis=0)\n",
        "        center_B = np.mean(X[assignemt == False], axis=0)\n",
        "        # ===============================================\n",
        "\n",
        "        # Plot\n",
        "        if debug:\n",
        "            plot_points_centers(\n",
        "                X, center_A, center_B, assignemt, \"Episode %s\" % str(i + 1)\n",
        "            )\n",
        "            print_distortion_per_centroid(X, assignemt, center_A, center_B)\n",
        "        print(\"Inertia: %f\" % calculate_intertia(X, assignemt, center_A, center_B))\n",
        "\n",
        "    return calculate_intertia(X, assignemt, center_A, center_B)\n",
        "\n",
        "\n",
        "# Set initial centers\n",
        "center_A = np.asarray([-5, -3])\n",
        "center_B = np.asarray([5, 3])\n",
        "\n",
        "distortion = my_two_kmeans(X, center_A, center_B, n_its=3)"
      ]
    },
    {
      "cell_type": "markdown",
      "metadata": {
        "id": "JYt5VrhSzOnO"
      },
      "source": [
        "#### Check the results by using the sklearn library"
      ]
    },
    {
      "cell_type": "code",
      "execution_count": null,
      "metadata": {
        "id": "cE53VNQhzOnO"
      },
      "outputs": [],
      "source": [
        "from sklearn.cluster import KMeans\n",
        "from sklearn.metrics import silhouette_score\n",
        "\n",
        "kmeans = KMeans(n_clusters=2, init=\"random\", random_state=0, n_init=1, verbose=2).fit(X)\n",
        "kmeans.labels_\n",
        "kmeans.cluster_centers_\n",
        "kmeans.inertia_"
      ]
    },
    {
      "cell_type": "code",
      "execution_count": null,
      "metadata": {
        "id": "0QsYE3xKzOnO"
      },
      "outputs": [],
      "source": [
        "# Plot\n",
        "plt.scatter(\n",
        "    X[:, 0], X[:, 1], c=[\"orange\" if e == True else \"red\" for e in kmeans.labels_]\n",
        ")\n",
        "plt.scatter(\n",
        "    kmeans.cluster_centers_[1][0],\n",
        "    kmeans.cluster_centers_[1][1],\n",
        "    label=\"center A\",\n",
        "    c=\"orange\",\n",
        "    marker=\"x\",\n",
        "    s=150,\n",
        ")\n",
        "plt.scatter(\n",
        "    kmeans.cluster_centers_[0][0],\n",
        "    kmeans.cluster_centers_[0][0],\n",
        "    label=\"center B\",\n",
        "    c=\"red\",\n",
        "    marker=\"x\",\n",
        "    s=150,\n",
        ")\n",
        "plt.legend()\n",
        "plt.show()"
      ]
    },
    {
      "cell_type": "markdown",
      "metadata": {
        "id": "4V3y9oCMzOnO"
      },
      "source": [
        " <span style=\"color:blue\">Discuss about the number of centroids, the distortion and the structure of the dataset</span>\n",
        "\n",
        "\n",
        " <span style=\"color:blue\">Are the number of centroids valid for the structure given by the data ?</span>\n",
        ""
      ]
    },
    {
      "cell_type": "code",
      "execution_count": null,
      "metadata": {
        "id": "CggnKlGKzOnO"
      },
      "outputs": [],
      "source": []
    },
    {
      "cell_type": "code",
      "execution_count": null,
      "metadata": {
        "id": "XPu_4VVrzOnO"
      },
      "outputs": [],
      "source": []
    },
    {
      "cell_type": "code",
      "execution_count": null,
      "metadata": {
        "id": "bGmpRmzzzOnO"
      },
      "outputs": [],
      "source": []
    },
    {
      "cell_type": "code",
      "execution_count": null,
      "metadata": {
        "id": "gGJMdXKvzOnO"
      },
      "outputs": [],
      "source": []
    },
    {
      "cell_type": "code",
      "execution_count": null,
      "metadata": {
        "id": "ZKegcDDCzOnO"
      },
      "outputs": [],
      "source": []
    },
    {
      "cell_type": "markdown",
      "source": [
        "# Understanding Clustering metrics"
      ],
      "metadata": {
        "id": "LsvT7UMCCnh3"
      }
    },
    {
      "cell_type": "code",
      "source": [
        "from IPython.display import YouTubeVideo\n",
        "# https://www.youtube.com/watch?v=AtxQ0rvdQIA\n",
        "YouTubeVideo('AtxQ0rvdQIA',width=800, height=600)"
      ],
      "metadata": {
        "id": "9hXmHcM3Dgwy"
      },
      "execution_count": null,
      "outputs": []
    },
    {
      "cell_type": "markdown",
      "metadata": {
        "id": "lm3CWMghzOnO"
      },
      "source": [
        "#### How many centroids ?\n",
        "\n",
        "ELBOW method can be used to guess the best number of groups, simply the sum of squared differences between an example and it's corresponding representative centroid. Here the key concept is to incrementally increasing the number of centroids used."
      ]
    },
    {
      "cell_type": "code",
      "execution_count": null,
      "metadata": {
        "id": "C4D3HP_5zOnO"
      },
      "outputs": [],
      "source": [
        "n_centroids = 10\n",
        "distortions = []\n",
        "silhouettes = []\n",
        "for n in range(2, n_centroids+1):\n",
        "  k_model = KMeans(n_clusters=n, init=\"random\", random_state=0, n_init=1, verbose=0).fit(X)\n",
        "  distortions.append(\n",
        "      k_model.inertia_\n",
        "    )\n",
        "  silhouettes.append(\n",
        "    silhouette_score(X, k_model.predict(X))\n",
        "  )\n",
        "\n",
        "plt.plot(range(2, n_centroids+1), distortions)\n",
        "plt.xlabel(\"number of centroids\")\n",
        "plt.ylabel(\"distortion\")\n",
        "plt.title(\"Distortions by k\")\n",
        "plt.show()\n",
        "\n",
        "plt.plot(range(2, n_centroids+1), silhouettes)\n",
        "plt.xlabel(\"number of centroids\")\n",
        "plt.ylabel(\"silhouettes\")\n",
        "plt.title(\"Silhouettes by k\")\n",
        "plt.show()"
      ]
    },
    {
      "cell_type": "markdown",
      "metadata": {
        "id": "kjP96yWezOnO"
      },
      "source": [
        "  <span style=\"color:blue\">Propose the best number of clusters </span>\n",
        "  \n",
        "  <span style=\"color:blue\">Plot your solution and compare with other collegues </span>"
      ]
    },
    {
      "cell_type": "code",
      "execution_count": null,
      "metadata": {
        "id": "G8aX_jRxzOnO"
      },
      "outputs": [],
      "source": []
    },
    {
      "cell_type": "code",
      "execution_count": null,
      "metadata": {
        "id": "qMClxHL7zOnO"
      },
      "outputs": [],
      "source": []
    },
    {
      "cell_type": "code",
      "execution_count": null,
      "metadata": {
        "id": "ETxyQjnQzOnO"
      },
      "outputs": [],
      "source": []
    },
    {
      "cell_type": "code",
      "execution_count": null,
      "metadata": {
        "id": "-4qGgfY8zOnP"
      },
      "outputs": [],
      "source": []
    },
    {
      "cell_type": "code",
      "execution_count": null,
      "metadata": {
        "id": "DEgZIol9zOnP"
      },
      "outputs": [],
      "source": []
    },
    {
      "cell_type": "markdown",
      "metadata": {
        "id": "iceHwdBFzOnP"
      },
      "source": [
        "## Kmeans exercice with financial data"
      ]
    },
    {
      "cell_type": "code",
      "execution_count": null,
      "metadata": {
        "id": "xRibsUouzOnP"
      },
      "outputs": [],
      "source": [
        "df_credit = pd.read_csv(\"data/creditcard.csv\", delimiter=\",\", quotechar='\"')\n",
        "df_credit.head()"
      ]
    },
    {
      "cell_type": "markdown",
      "metadata": {
        "id": "zQH08nLEzOnP"
      },
      "source": [
        " <span style=\"color:blue\">Calculate best number of clusters in data</span>"
      ]
    },
    {
      "cell_type": "code",
      "execution_count": null,
      "metadata": {
        "id": "8BzvlXc1zOnP"
      },
      "outputs": [],
      "source": [
        "n_centroids = 40\n",
        "distortions = []\n",
        "silhouettes = []\n",
        "k_models = []\n",
        "use_silhouette = False\n",
        "train_data = df_credit[[\"V%s\" % str(i+1) for i in range(27)]]\n",
        "for n in range(2, n_centroids+1):\n",
        "  k_model = KMeans(n_clusters=n, init=\"random\", random_state=0, n_init=1, verbose=0).fit(train_data)\n",
        "  distortions.append(\n",
        "      k_model.inertia_\n",
        "      )\n",
        "  if use_silhouette:\n",
        "    silhouettes.append(\n",
        "      silhouette_score(train_data, k_model.predict(train_data))\n",
        "    )\n",
        "  k_models.append(k_model)\n",
        "\n",
        "plt.plot(range(2, n_centroids+1), distortions)\n",
        "plt.xlabel(\"number of centroids\")\n",
        "plt.ylabel(\"distortion\")\n",
        "plt.title(\"Distortions by k\")\n",
        "plt.show()\n",
        "\n",
        "if use_silhouette:\n",
        "  plt.plot(range(2, n_centroids+1), silhouettes)\n",
        "  plt.xlabel(\"number of centroids\")\n",
        "  plt.ylabel(\"silhouettes\")\n",
        "  plt.title(\"Silhouettes by k\")\n",
        "  plt.show()"
      ]
    },
    {
      "cell_type": "code",
      "execution_count": null,
      "metadata": {
        "id": "3qjlvqMHzOnP"
      },
      "outputs": [],
      "source": [
        "model = KMeans(n_clusters=15, init=\"random\", random_state=0, n_init=1, verbose=0).fit(\n",
        "    df_credit[[\"V%s\" % str(i + 1) for i in range(27)]]\n",
        ")"
      ]
    },
    {
      "cell_type": "code",
      "execution_count": null,
      "metadata": {
        "id": "6PV4FxV5zOnP"
      },
      "outputs": [],
      "source": [
        "groups_counts = {}\n",
        "groups_size = {}\n",
        "for t in [pair for pair in zip(model.labels_, df_credit[\"Class\"])]:\n",
        "    if t[0] not in groups_counts:\n",
        "        groups_counts[t[0]] = t[1]\n",
        "        groups_size[t[0]] = 0\n",
        "    groups_counts[t[0]] += t[1]\n",
        "    groups_size[t[0]] += 1"
      ]
    },
    {
      "cell_type": "code",
      "execution_count": null,
      "metadata": {
        "id": "WR5HcUtEzOnP"
      },
      "outputs": [],
      "source": [
        "plt.bar(groups_counts.keys(), groups_counts.values(), 1, color=\"black\")\n",
        "plt.title(\"Counts of Class\")\n",
        "plt.show()\n",
        "plt.bar(groups_size.keys(), groups_size.values(), 1, color=\"green\")\n",
        "plt.title(\"Size of each cluster\")\n",
        "plt.show()"
      ]
    },
    {
      "cell_type": "code",
      "source": [
        "plt.bar(groups_size.keys(), [v_class/s_cluster for v_class,s_cluster in zip(groups_counts.values(),groups_size.values())], 1, color=\"green\")\n",
        "plt.title(\"Fraud ratio per cluster\")\n",
        "plt.show()"
      ],
      "metadata": {
        "id": "QzeZiqjNULRB"
      },
      "execution_count": null,
      "outputs": []
    },
    {
      "cell_type": "markdown",
      "metadata": {
        "id": "aCbjdUvMzOnP"
      },
      "source": [
        " <span style=\"color:blue\">Discuss the results</span>\n",
        "    \n",
        "<span style=\"color:blue\">Is the clustering valid to detect fraud?</span>"
      ]
    },
    {
      "cell_type": "markdown",
      "source": [
        "# Beyond K-means\n",
        "\n",
        "There are plenty of clustering algorithms, let's see some:\n",
        "\n"
      ],
      "metadata": {
        "id": "zwZo7n0cVvqI"
      }
    },
    {
      "cell_type": "markdown",
      "source": [
        "## DBScan"
      ],
      "metadata": {
        "id": "PViIOR6RWGM9"
      }
    },
    {
      "cell_type": "code",
      "source": [
        "from IPython.display import YouTubeVideo\n",
        "# https://www.youtube.com/watch?v=AtxQ0rvdQIA\n",
        "YouTubeVideo('RDZUdRSDOok',width=800, height=600)"
      ],
      "metadata": {
        "id": "nGawZHZVWTy-"
      },
      "execution_count": null,
      "outputs": []
    },
    {
      "cell_type": "code",
      "source": [
        "from sklearn.cluster import DBSCAN\n",
        "\n",
        "dbscan_model = DBSCAN(eps=3, min_samples=4).fit(X)"
      ],
      "metadata": {
        "id": "Ru3uSWHRWtvX"
      },
      "execution_count": null,
      "outputs": []
    },
    {
      "cell_type": "code",
      "source": [
        "plt.scatter(\n",
        "    X[:, 0], X[:, 1], c=dbscan_model.labels_\n",
        ")"
      ],
      "metadata": {
        "id": "7sdjlLC_YCD9"
      },
      "execution_count": null,
      "outputs": []
    },
    {
      "cell_type": "markdown",
      "source": [
        "See also: [HDBScan](https://scikit-learn.org/stable/modules/generated/sklearn.cluster.HDBSCAN.html#sklearn.cluster.HDBSCAN)"
      ],
      "metadata": {
        "id": "mH_fxwlmY9cF"
      }
    },
    {
      "cell_type": "markdown",
      "source": [
        "# Agglomerative Clustering"
      ],
      "metadata": {
        "id": "XtJRifHaZH8v"
      }
    },
    {
      "cell_type": "code",
      "source": [
        "# from https://scikit-learn.org/stable/auto_examples/cluster/plot_agglomerative_dendrogram.html\n",
        "\n",
        "import numpy as np\n",
        "from scipy.cluster.hierarchy import dendrogram\n",
        "\n",
        "from sklearn.cluster import AgglomerativeClustering\n",
        "\n",
        "def plot_dendrogram(model, **kwargs):\n",
        "    # Create linkage matrix and then plot the dendrogram\n",
        "\n",
        "    # create the counts of samples under each node\n",
        "    counts = np.zeros(model.children_.shape[0])\n",
        "    n_samples = len(model.labels_)\n",
        "    for i, merge in enumerate(model.children_):\n",
        "        current_count = 0\n",
        "        for child_idx in merge:\n",
        "            if child_idx < n_samples:\n",
        "                current_count += 1  # leaf node\n",
        "            else:\n",
        "                current_count += counts[child_idx - n_samples]\n",
        "        counts[i] = current_count\n",
        "\n",
        "    linkage_matrix = np.column_stack(\n",
        "        [model.children_, model.distances_, counts]\n",
        "    ).astype(float)\n",
        "\n",
        "    # Plot the corresponding dendrogram\n",
        "    dendrogram(linkage_matrix, **kwargs)\n",
        "\n",
        "agg_model = AgglomerativeClustering(distance_threshold=0, n_clusters=None).fit(X)\n",
        "\n",
        "plt.title(\"Hierarchical Clustering Dendrogram\")\n",
        "# plot the top three levels of the dendrogram\n",
        "plot_dendrogram(agg_model, truncate_mode=\"level\", p=3)\n",
        "plt.xlabel(\"Number of points in node (or index of point if no parenthesis).\")\n",
        "plt.show()\n"
      ],
      "metadata": {
        "id": "KLTrXORWaN8G"
      },
      "execution_count": null,
      "outputs": []
    }
  ],
  "metadata": {
    "interpreter": {
      "hash": "6613019ee409d6fc02ff5890758679894ef1c4b9acbaa3ab5b253e26f1ff7624"
    },
    "kernelspec": {
      "display_name": "Python 3",
      "language": "python",
      "name": "python3"
    },
    "language_info": {
      "codemirror_mode": {
        "name": "ipython",
        "version": 3
      },
      "file_extension": ".py",
      "mimetype": "text/x-python",
      "name": "python",
      "nbconvert_exporter": "python",
      "pygments_lexer": "ipython3",
      "version": "3.7.6"
    },
    "varInspector": {
      "cols": {
        "lenName": 16,
        "lenType": 16,
        "lenVar": 40
      },
      "kernels_config": {
        "python": {
          "delete_cmd_postfix": "",
          "delete_cmd_prefix": "del ",
          "library": "var_list.py",
          "varRefreshCmd": "print(var_dic_list())"
        },
        "r": {
          "delete_cmd_postfix": ") ",
          "delete_cmd_prefix": "rm(",
          "library": "var_list.r",
          "varRefreshCmd": "cat(var_dic_list()) "
        }
      },
      "types_to_exclude": [
        "module",
        "function",
        "builtin_function_or_method",
        "instance",
        "_Feature"
      ],
      "window_display": false
    },
    "colab": {
      "provenance": []
    }
  },
  "nbformat": 4,
  "nbformat_minor": 0
}