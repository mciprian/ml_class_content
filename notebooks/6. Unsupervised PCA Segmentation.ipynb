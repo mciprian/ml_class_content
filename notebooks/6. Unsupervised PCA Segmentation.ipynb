{
  "cells": [
    {
      "cell_type": "code",
      "source": [
        "!git clone https://github.com/mciprian/ml_class_content.git\n",
        "!mv ml_class_content/notebooks/img img\n",
        "!mv ml_class_content/notebooks/data data\n",
        "!rm data/creditcard.zip\n",
        "!rm -fr ml_class_content/\n"
      ],
      "metadata": {
        "id": "iSXsGIDbO_yd"
      },
      "execution_count": null,
      "outputs": []
    },
    {
      "cell_type": "markdown",
      "metadata": {
        "id": "lTsd_mIQHSUz"
      },
      "source": [
        "# Methods. Unsupervised. PCA\n",
        "\n",
        "The aim of PCA (Principal component analysis) is to linearly reduce the N dimensions given for a dataset. Basically, this algorith follows the next steps:\n",
        "\n",
        "$$1. \\text{Scale data}\\\\ 2.\\text{Calculate covariance matrix} \\\\ 3. \\text{Calculate eigvalues}$$\n",
        "\n",
        "This algorithm is very useful to extract and represent data sctructure."
      ]
    },
    {
      "cell_type": "code",
      "execution_count": null,
      "metadata": {
        "id": "79JYgU6fHSU1"
      },
      "outputs": [],
      "source": [
        "import pandas as pd\n",
        "import numpy as np\n",
        "from IPython.display import YouTubeVideo\n",
        "\n",
        "import matplotlib.pyplot as plt\n",
        "from matplotlib.pyplot import figure\n",
        "\n",
        "from sklearn.preprocessing import StandardScaler\n",
        "from sklearn.datasets import make_regression, make_moons"
      ]
    },
    {
      "cell_type": "markdown",
      "metadata": {
        "id": "_HPV8cj3HSU1"
      },
      "source": [
        "Lets create a simple lineal dataset with 3 features"
      ]
    },
    {
      "cell_type": "code",
      "execution_count": null,
      "metadata": {
        "id": "e1HVU0VEHSU1"
      },
      "outputs": [],
      "source": [
        "samples = 400\n",
        "X, _ = make_regression(n_samples=samples, random_state=12345, n_features=2, noise=0.9)\n",
        "\n",
        "# Second feature is the sin of the first feature.\n",
        "X[:, 1] = np.sin(X[:, 0]) + np.random.normal(0, 0.2, samples)\n",
        "\n",
        "plt.scatter(X[:, 0], X[:, 1])\n",
        "# plt.scatter(X[:, 0], X[:, 2])\n",
        "plt.title(\"X0 and X1\")\n",
        "plt.show()"
      ]
    },
    {
      "cell_type": "markdown",
      "metadata": {
        "id": "JYwMU7mzHSU2"
      },
      "source": [
        "### 1. Scale\n",
        "\n",
        "We scale only centered the columns of matrix (i.e. minus the mean)"
      ]
    },
    {
      "cell_type": "code",
      "execution_count": null,
      "metadata": {
        "id": "aDvUTbCfHSU2"
      },
      "outputs": [],
      "source": [
        "# Columns of the matrix are centered\n",
        "X_scaled = StandardScaler(with_std=False).fit_transform(X)\n",
        "# Plot it\n",
        "plt.scatter(X_scaled[:, 0], X_scaled[:, 1], color=\"blue\")\n",
        "plt.show()"
      ]
    },
    {
      "cell_type": "markdown",
      "metadata": {
        "id": "Uxak-OfhHSU2"
      },
      "source": [
        "### 2. Covariance matrix\n",
        "\n",
        "Covariance indicates how much two random variables vary together:\n",
        "\n",
        "$$\\sigma(x, y) = \\frac{1}{n-1} \\sum^{n}_{i=1}{(x_i-\\bar{x})(y_i-\\bar{y})}$$\n",
        "\n",
        "\n",
        "(instead of variance, that indicates how much varies one variable itself ($\\sigma^2_x = \\frac{1}{n-1} \\sum^{n}_{i=1}(x_i – \\bar{x})^2$).\n",
        "\n",
        "\n",
        "For two features, the covariance matrix is defined as follows:\n",
        "\n",
        "$$C = \\left( \\begin{array}{ccc}  \\sigma(x, x) & \\sigma(x, y) \\\\  \\sigma(y, x) & \\sigma(y, y) \\end{array} \\right)$$"
      ]
    },
    {
      "cell_type": "code",
      "source": [
        "YouTubeVideo('WBlnwvjfMtQ',width=640, height=480)"
      ],
      "metadata": {
        "id": "1CJp8kPjgPqZ"
      },
      "execution_count": null,
      "outputs": []
    },
    {
      "cell_type": "code",
      "execution_count": null,
      "metadata": {
        "id": "ZXWwx37bHSU3"
      },
      "outputs": [],
      "source": [
        "cov_matrix = np.cov(X_scaled, rowvar=False)\n",
        "cov_matrix"
      ]
    },
    {
      "cell_type": "markdown",
      "metadata": {
        "id": "_J2DlDqEHSU3"
      },
      "source": [
        "### 3. Eignvalues\n",
        "\n",
        "Can be seen as a vector whose direction remains unchanged when a linear transformation is applied to it. The eigenvectors are unit vectors representing the direction of the largest variance of the data, while the eigenvalues represent the magnitude of this variance in the corresponding directions.\n",
        "\n",
        "Like an arrow (direction=eingvector, length of arrow=eignvalue)."
      ]
    },
    {
      "cell_type": "code",
      "source": [
        "YouTubeVideo('ue3yoeZvt8E',width=640, height=480)"
      ],
      "metadata": {
        "id": "VgLIygRqnD7U"
      },
      "execution_count": null,
      "outputs": []
    },
    {
      "cell_type": "code",
      "execution_count": null,
      "metadata": {
        "id": "KF8NWYmMHSU3"
      },
      "outputs": [],
      "source": [
        "values, vectors = np.linalg.eig(cov_matrix)"
      ]
    },
    {
      "cell_type": "markdown",
      "metadata": {
        "id": "xvwSdK1JHSU3"
      },
      "source": [
        "The directions !"
      ]
    },
    {
      "cell_type": "code",
      "execution_count": null,
      "metadata": {
        "id": "7Hxd6-IxHSU3"
      },
      "outputs": [],
      "source": [
        "vectors"
      ]
    },
    {
      "cell_type": "markdown",
      "metadata": {
        "id": "ZVr1Sq81HSU3"
      },
      "source": [
        "The lengths ! (or the explained variance)"
      ]
    },
    {
      "cell_type": "code",
      "execution_count": null,
      "metadata": {
        "id": "Wf0g_VABHSU3"
      },
      "outputs": [],
      "source": [
        "values"
      ]
    },
    {
      "cell_type": "markdown",
      "metadata": {
        "id": "16_frAj0HSU4"
      },
      "source": [
        "Notice that we can explain most of the variance with only 2 principal components !"
      ]
    },
    {
      "cell_type": "markdown",
      "metadata": {
        "id": "8in9u4KeHSU4"
      },
      "source": [
        "#### Plot reduced dimension versus the original one"
      ]
    },
    {
      "cell_type": "markdown",
      "metadata": {
        "id": "gugAAYiFHSU4"
      },
      "source": [
        "Get the projections"
      ]
    },
    {
      "cell_type": "code",
      "execution_count": null,
      "metadata": {
        "id": "MY38_O-XHSU4"
      },
      "outputs": [],
      "source": [
        "projected_1 = X_scaled.dot(vectors.T[0])\n",
        "projected_2 = X_scaled.dot(vectors.T[1])"
      ]
    },
    {
      "cell_type": "code",
      "execution_count": null,
      "metadata": {
        "id": "zGj6_sEjHSU4"
      },
      "outputs": [],
      "source": [
        "plt.scatter(projected_1, projected_2, s=50, label=\"projected (PCA)\")\n",
        "plt.scatter(X[:, 0], X[:, 1], s=50, label=\"original\")\n",
        "plt.legend()\n",
        "plt.show()"
      ]
    },
    {
      "cell_type": "markdown",
      "metadata": {
        "id": "v5gAZ2P8HSU4"
      },
      "source": [
        " <span style=\"color:blue\">Discuss about the differences between original and projected space</span>\n"
      ]
    },
    {
      "cell_type": "code",
      "execution_count": null,
      "metadata": {
        "id": "Lm7fdghYHSU4"
      },
      "outputs": [],
      "source": []
    },
    {
      "cell_type": "markdown",
      "metadata": {
        "id": "_GptsvSRHSU4"
      },
      "source": [
        "#### Let's use a library implementation and compare it"
      ]
    },
    {
      "cell_type": "code",
      "execution_count": null,
      "metadata": {
        "id": "z3vamVm_HSU4"
      },
      "outputs": [],
      "source": [
        "from sklearn.decomposition import PCA\n",
        "pca = PCA(n_components=2, whiten=False)\n",
        "pca_X = pca.fit_transform(X)"
      ]
    },
    {
      "cell_type": "code",
      "execution_count": null,
      "metadata": {
        "id": "Fjs5i8H2HSU5"
      },
      "outputs": [],
      "source": [
        "print(pca.components_)"
      ]
    },
    {
      "cell_type": "code",
      "execution_count": null,
      "metadata": {
        "id": "UgVp2WdrHSU5"
      },
      "outputs": [],
      "source": [
        "print(pca.explained_variance_)"
      ]
    },
    {
      "cell_type": "markdown",
      "source": [
        "cumulative explained variance"
      ],
      "metadata": {
        "id": "-8JBUUu8xMn0"
      }
    },
    {
      "cell_type": "code",
      "source": [
        "np.cumsum(pca.explained_variance_/np.sum(pca.explained_variance_))"
      ],
      "metadata": {
        "id": "4EySqFFJwbj6"
      },
      "execution_count": null,
      "outputs": []
    },
    {
      "cell_type": "code",
      "execution_count": null,
      "metadata": {
        "id": "7mLzXoe8HSU5"
      },
      "outputs": [],
      "source": [
        "# Empirical mean i.e: X.mean(axis=0)\n",
        "pca.mean_"
      ]
    },
    {
      "cell_type": "code",
      "source": [
        "def draw_vector(v0, v1, ax=None):\n",
        "    ax = ax or plt.gca()\n",
        "    arrowprops = dict(arrowstyle=\"<-\", linewidth=2, shrinkA=0, shrinkB=0)\n",
        "    ax.annotate(\"\", v0, v1, arrowprops=arrowprops)\n",
        "\n",
        "plt.scatter(pca_X[:, 0], pca_X[:, 1], color=\"blue\")\n",
        "\n",
        "xs = pca.components_[0]\n",
        "ys = pca.components_[1]\n",
        "\n",
        "for i, varnames in enumerate(['X0', 'X1']):\n",
        "    draw_vector([0,0],[xs[i],ys[i]])\n",
        "    plt.text(xs[i], ys[i], varnames)\n",
        "\n",
        "plt.xlabel('PC1')\n",
        "plt.ylabel('PC2')\n",
        "plt.title(\"Bi-plot\")\n",
        "plt.show()"
      ],
      "metadata": {
        "id": "J2IXTriEqmn9"
      },
      "execution_count": null,
      "outputs": []
    },
    {
      "cell_type": "markdown",
      "metadata": {
        "id": "X7WDEDUoHSU5"
      },
      "source": [
        "#### Draw a eginvectors and eignvalues"
      ]
    },
    {
      "cell_type": "code",
      "execution_count": null,
      "metadata": {
        "id": "USufd4TwHSU5"
      },
      "outputs": [],
      "source": [
        "\n",
        "\n",
        "# plot data\n",
        "plt.scatter(X[:, 0], X[:, 1], alpha=0.2)\n",
        "for length, vector in zip(pca.explained_variance_, pca.components_):\n",
        "    v = vector * 3 * np.sqrt(length)\n",
        "    draw_vector(pca.mean_, pca.mean_ + v) # starting to the mean\n",
        "plt.axis(\"equal\")\n",
        "plt.show()"
      ]
    },
    {
      "cell_type": "code",
      "execution_count": null,
      "metadata": {
        "id": "K-KlwdpBHSU5"
      },
      "outputs": [],
      "source": []
    },
    {
      "cell_type": "code",
      "execution_count": null,
      "metadata": {
        "id": "hZPcxDmWHSU5"
      },
      "outputs": [],
      "source": []
    },
    {
      "cell_type": "markdown",
      "metadata": {
        "id": "jxU0DSf1HSU5"
      },
      "source": [
        " <span style=\"color:blue\">Exercice: From this vector, infere the data structre </span>"
      ]
    },
    {
      "cell_type": "code",
      "execution_count": null,
      "metadata": {
        "id": "F9e0-eTTHSU5"
      },
      "outputs": [],
      "source": [
        "from IPython.display import Image\n",
        "Image(filename=\"img/pca_moon.png\")"
      ]
    },
    {
      "cell_type": "code",
      "execution_count": null,
      "metadata": {
        "id": "PCJ3Zyu-HSU5"
      },
      "outputs": [],
      "source": []
    },
    {
      "cell_type": "code",
      "execution_count": null,
      "metadata": {
        "id": "xm9t38PMHSU-"
      },
      "outputs": [],
      "source": []
    },
    {
      "cell_type": "markdown",
      "source": [
        "PCA visually explained"
      ],
      "metadata": {
        "id": "_gJ28-Q6asls"
      }
    },
    {
      "cell_type": "code",
      "source": [
        "YouTubeVideo('FgakZw6K1QQ',width=640, height=480)"
      ],
      "metadata": {
        "id": "vceKZy8NavsU"
      },
      "execution_count": null,
      "outputs": []
    },
    {
      "cell_type": "markdown",
      "metadata": {
        "id": "OlAjAVM3HSU-"
      },
      "source": [
        "## Practice with financial dataset. Propensity to purchase\n",
        "\n",
        "https://www.kaggle.com/benpowis/customer-propensity-to-purchase-data"
      ]
    },
    {
      "cell_type": "code",
      "execution_count": null,
      "metadata": {
        "id": "gtsWzO25HSU-"
      },
      "outputs": [],
      "source": [
        "from IPython.display import Image\n",
        "Image(filename=\"img/purchase_kaggle.png\")"
      ]
    },
    {
      "cell_type": "code",
      "execution_count": null,
      "metadata": {
        "id": "Mz2Kt-K1HSU-"
      },
      "outputs": [],
      "source": [
        "df_purchase = pd.read_csv(\n",
        "    \"data/training_sample.csv\", delimiter=\",\", quotechar='\"'\n",
        ")\n",
        "\n",
        "from sklearn.model_selection import train_test_split\n",
        "\n",
        "df_purchase_train, df_purchase_test = train_test_split(df_purchase, test_size=0.2)\n"
      ]
    },
    {
      "cell_type": "code",
      "execution_count": null,
      "metadata": {
        "id": "kWWtZ5eKHSU_"
      },
      "outputs": [],
      "source": [
        "df_purchase_train.head(3)"
      ]
    },
    {
      "cell_type": "code",
      "execution_count": null,
      "metadata": {
        "id": "goHTNbMEHSU_"
      },
      "outputs": [],
      "source": [
        "df_purchase_train.groupby('ordered')[[\"ordered\"]].count()"
      ]
    },
    {
      "cell_type": "code",
      "execution_count": null,
      "metadata": {
        "id": "PmEg1-iMHSU_"
      },
      "outputs": [],
      "source": [
        "df_purchase_test.head(3)"
      ]
    },
    {
      "cell_type": "code",
      "execution_count": null,
      "metadata": {
        "id": "BNsivM9dHSU_"
      },
      "outputs": [],
      "source": [
        "df_purchase_test.groupby('ordered')[[\"ordered\"]].count()"
      ]
    }
  ],
  "metadata": {
    "kernelspec": {
      "display_name": "Python 3",
      "language": "python",
      "name": "python3"
    },
    "language_info": {
      "codemirror_mode": {
        "name": "ipython",
        "version": 3
      },
      "file_extension": ".py",
      "mimetype": "text/x-python",
      "name": "python",
      "nbconvert_exporter": "python",
      "pygments_lexer": "ipython3",
      "version": "3.7.6"
    },
    "colab": {
      "provenance": []
    }
  },
  "nbformat": 4,
  "nbformat_minor": 0
}