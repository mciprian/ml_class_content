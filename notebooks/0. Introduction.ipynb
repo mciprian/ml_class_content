{
  "cells": [
    {
      "cell_type": "markdown",
      "metadata": {
        "id": "zbFkpLSzczbs"
      },
      "source": [
        "## Setting resources"
      ]
    },
    {
      "cell_type": "code",
      "execution_count": null,
      "metadata": {
        "id": "L8Ed46ZHczbt"
      },
      "outputs": [],
      "source": [
        "!git clone https://github.com/mciprian/ml_class_content.git\n",
        "!mv ml_class_content/notebooks/img img\n",
        "!mv ml_class_content/notebooks/data data\n",
        "!unzip data/creditcard.zip -d data/\n",
        "!rm data/creditcard.zip\n",
        "!rm -fr ml_class_content/\n",
        "!pip install ydata-profiling"
      ]
    },
    {
      "cell_type": "markdown",
      "metadata": {
        "id": "8iGInlzeczbu"
      },
      "source": [
        "## Introduction"
      ]
    },
    {
      "cell_type": "markdown",
      "metadata": {
        "id": "bxDnDM_Mczbu"
      },
      "source": [
        "**Machine learning (ML)** is the study of computer algorithms that improve *automatically through experience* and by the use of *data*. It is seen as a part of artificial intelligence. (Wikipedia)"
      ]
    },
    {
      "cell_type": "code",
      "execution_count": null,
      "metadata": {
        "id": "oRCTyrViczbu"
      },
      "outputs": [],
      "source": [
        "from IPython.display import Image\n",
        "Image(filename=\"img/alina-grubnyak-ZiQkhI7417A-unsplash.jpg\")"
      ]
    },
    {
      "cell_type": "markdown",
      "metadata": {
        "id": "PPbWhb7Bczbv"
      },
      "source": [
        "### Key concepts to discuss about it !\n",
        "\n",
        " * **improve**. What human beings need to improve ?\n",
        " * **automatically**. What human beings need to automatically integrate knowledge ?\n",
        " * **experience**. How can human beings get experience ?\n",
        ""
      ]
    },
    {
      "cell_type": "code",
      "execution_count": null,
      "metadata": {
        "id": "U0Q9rLNfczbv"
      },
      "outputs": [],
      "source": [
        "Image(filename=\"img/ee27c4be-use-cases-of-ai-and-machine-learning-in-finance.png\")"
      ]
    },
    {
      "cell_type": "markdown",
      "metadata": {
        "id": "9dz62JiVczbv"
      },
      "source": [
        "Machine learning is about data, learning, experience, transfering, engineering and ... **inference** !\n",
        "\n",
        "\n",
        "What is the difference between prediction and judgment ?\n",
        "\n",
        "Machine learning basics: https://www.youtube.com/watch?v=ukzFI9rgwfU\""
      ]
    },
    {
      "cell_type": "code",
      "execution_count": null,
      "metadata": {
        "id": "7Qzdn3TWczbv"
      },
      "outputs": [],
      "source": [
        "Image(filename=\"img/simply_learn.jpg\")"
      ]
    },
    {
      "cell_type": "markdown",
      "metadata": {
        "id": "jXf3ohc8czbv"
      },
      "source": [
        "Working group\n",
        "* Select one ML use case in the financial sector\n",
        "* Describe the data and ML method to solve the use case\n",
        "* Think about implicactions from the bussines (operations, revenue, digital transformation, ...) and legal perspetive (customer's impact, privacy, ...)"
      ]
    },
    {
      "cell_type": "markdown",
      "metadata": {
        "id": "gvxFC4veczbv"
      },
      "source": [
        "All contents in this class notebooks, are not computational optimal; due to all code proposed is for shake of clarity and for a better understanding."
      ]
    },
    {
      "cell_type": "code",
      "execution_count": null,
      "metadata": {
        "id": "3fyjkVBfczbv"
      },
      "outputs": [],
      "source": []
    },
    {
      "cell_type": "code",
      "execution_count": null,
      "metadata": {
        "id": "tegK_bd2czbv"
      },
      "outputs": [],
      "source": []
    },
    {
      "cell_type": "code",
      "execution_count": null,
      "metadata": {
        "id": "xjjeVChBczbv"
      },
      "outputs": [],
      "source": []
    },
    {
      "cell_type": "markdown",
      "metadata": {
        "id": "z4iQPlDAczbw"
      },
      "source": [
        "## Basic methodology in Data Science"
      ]
    },
    {
      "cell_type": "markdown",
      "metadata": {
        "id": "g-nYq-RMczbw"
      },
      "source": [
        "### Reading data"
      ]
    },
    {
      "cell_type": "code",
      "execution_count": null,
      "metadata": {
        "id": "5ZrBfiH3czbw"
      },
      "outputs": [],
      "source": [
        "import pandas as pd\n",
        "\n",
        "df_credit = pd.read_csv(\"data/creditcard.csv\", delimiter=\",\", quotechar='\"')\n",
        "\n",
        "df_credit.head()\n"
      ]
    },
    {
      "cell_type": "code",
      "execution_count": null,
      "metadata": {
        "id": "PrbaJ-sJczbw"
      },
      "outputs": [],
      "source": [
        "df_credit.describe()"
      ]
    },
    {
      "cell_type": "code",
      "execution_count": null,
      "metadata": {
        "id": "ywbQPEK4czbw"
      },
      "outputs": [],
      "source": [
        "import matplotlib.pyplot as plt\n",
        "\n",
        "df_credit[['Amount']].plot.box(vert = False, grid = True)\n"
      ]
    },
    {
      "cell_type": "code",
      "execution_count": null,
      "metadata": {
        "id": "XHKNZ3enczbw"
      },
      "outputs": [],
      "source": [
        "corr = df_credit[['Amount','V1','V2','V3','V4','V5','V6','V7','V8','V9','V10']].corr()\n",
        "corr.style.format(precision=2).background_gradient(cmap='coolwarm')"
      ]
    },
    {
      "cell_type": "markdown",
      "source": [
        "## Assisted EDA\n"
      ],
      "metadata": {
        "id": "1_zV8ZD_n-X1"
      }
    },
    {
      "cell_type": "code",
      "execution_count": null,
      "metadata": {
        "id": "RxXmAVeVczbw"
      },
      "outputs": [],
      "source": [
        "from ydata_profiling import ProfileReport"
      ]
    },
    {
      "cell_type": "code",
      "source": [
        "profile = ProfileReport(df_credit[['Amount','V1','V2','V3','V4','V5','V6','V7','V8','V9','V10']])"
      ],
      "metadata": {
        "id": "oxEFrSxyldY6"
      },
      "execution_count": null,
      "outputs": []
    },
    {
      "cell_type": "code",
      "source": [
        "profile.to_notebook_iframe()"
      ],
      "metadata": {
        "id": "MDmYI9gilpY1"
      },
      "execution_count": null,
      "outputs": []
    }
  ],
  "metadata": {
    "celltoolbar": "Slideshow",
    "kernelspec": {
      "display_name": "Python 3 (ipykernel)",
      "language": "python",
      "name": "python3"
    },
    "language_info": {
      "codemirror_mode": {
        "name": "ipython",
        "version": 3
      },
      "file_extension": ".py",
      "mimetype": "text/x-python",
      "name": "python",
      "nbconvert_exporter": "python",
      "pygments_lexer": "ipython3",
      "version": "3.9.13"
    },
    "varInspector": {
      "cols": {
        "lenName": 16,
        "lenType": 16,
        "lenVar": 40
      },
      "kernels_config": {
        "python": {
          "delete_cmd_postfix": "",
          "delete_cmd_prefix": "del ",
          "library": "var_list.py",
          "varRefreshCmd": "print(var_dic_list())"
        },
        "r": {
          "delete_cmd_postfix": ") ",
          "delete_cmd_prefix": "rm(",
          "library": "var_list.r",
          "varRefreshCmd": "cat(var_dic_list()) "
        }
      },
      "types_to_exclude": [
        "module",
        "function",
        "builtin_function_or_method",
        "instance",
        "_Feature"
      ],
      "window_display": false
    },
    "colab": {
      "provenance": []
    }
  },
  "nbformat": 4,
  "nbformat_minor": 0
}