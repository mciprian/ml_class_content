{
  "cells": [
    {
      "cell_type": "code",
      "source": [
        "!rm -fr img\n",
        "!rm -fr data\n",
        "!git clone https://github.com/mciprian/ml_class_content.git\n",
        "!mv ml_class_content/notebooks/img img\n",
        "!mv ml_class_content/notebooks/data data\n",
        "!rm data/creditcard.zip\n",
        "!rm -fr ml_class_content/"
      ],
      "metadata": {
        "id": "23eVioXT7Lm2"
      },
      "execution_count": null,
      "outputs": []
    },
    {
      "cell_type": "markdown",
      "source": [
        "# Monte Carlo Simulation\n",
        "\n",
        "From Wikipedia:\n",
        "\n",
        "\"Monte Carlo methods, or Monte Carlo experiments, are a broad class of computational algorithms that rely on repeated random sampling to obtain numerical results. The underlying concept is to use randomness to solve problems that might be deterministic in principle. The name comes from the Monte Carlo Casino in Monaco, where the primary developer of the method, physicist Stanislaw Ulam, was inspired by his uncle's gambling habits.\"\n",
        "\n",
        "Let's estimate $π$ using Monte carlo approach:\n",
        "\n"
      ],
      "metadata": {
        "id": "VcCmf926AYBJ"
      }
    },
    {
      "cell_type": "markdown",
      "source": [
        "<img src=\"https://upload.wikimedia.org/wikipedia/commons/d/d4/Pi_monte_carlo_all.gif\" alt=\"drawing\" width=\"400\"/>"
      ],
      "metadata": {
        "id": "2initBBOJz8w"
      }
    },
    {
      "cell_type": "code",
      "source": [
        "import numpy as np\n",
        "\n",
        "def is_inside_circle(x,y):\n",
        "  return np.sqrt(x**2 + y**2) < 1\n",
        "\n",
        "n_simulations = 100\n",
        "points_in_circle = 0\n",
        "\n",
        "x = np.random.uniform(0, 1, n_simulations)\n",
        "y = np.random.uniform(0, 1, n_simulations)\n",
        "\n",
        "# Complete the code\n",
        "# Use the pi_estimate variable to store\n",
        "\n",
        "\n",
        "\n",
        "pi_estimate"
      ],
      "metadata": {
        "id": "2zPCLlvwCSqP"
      },
      "execution_count": null,
      "outputs": []
    },
    {
      "cell_type": "markdown",
      "source": [
        "# Reinforcement Learning\n",
        "\n",
        "<img src=\"https://miro.medium.com/v2/resize:fit:1400/format:webp/1*7cuAqjQ97x1H_sBIeAVVZg.png\" alt=\"drawing\" width=\"600\"/>\n",
        "\n",
        "From \"[Reinforcement Learning 101](https://towardsdatascience.com/reinforcement-learning-101-e24b50e1d292)\".\n",
        "\n"
      ],
      "metadata": {
        "id": "3Ea0wkPpkqvv"
      }
    },
    {
      "cell_type": "markdown",
      "metadata": {
        "id": "FMWvPG5N6ycZ"
      },
      "source": [
        "# AB Testing and Multiarm bandits\n",
        "\n",
        "AB testing is a primary tool in science to test hypothesis from exploring and experiment with variants. It depends of the The Explore-Exploit trade off and the automatic level of application, one of these methodologies must be used.\n",
        "\n",
        "In AB Testing, trial period are fixed, however in MAB every version compites in \"real time\" to win. Thus less cost is produced in industrial applications."
      ]
    },
    {
      "cell_type": "markdown",
      "metadata": {
        "id": "SMLU73s66yca"
      },
      "source": [
        "(Images from <a href=\"https://persona.ly/glossary/performance-metrics/creative-testing-multi-armed-bandit-vs-a-b-testing/\">here</a> and <a href=\"https://www.optimizely.com/optimization-glossary/ab-testing/\"> here</a>)"
      ]
    },
    {
      "cell_type": "code",
      "execution_count": null,
      "metadata": {
        "id": "gxHbVkCX6yca"
      },
      "outputs": [],
      "source": [
        "import matplotlib.pyplot as plt\n",
        "from matplotlib.pyplot import figure\n",
        "from scipy.stats import beta\n",
        "from IPython.display import YouTubeVideo"
      ]
    },
    {
      "cell_type": "markdown",
      "metadata": {
        "id": "Z7dbKr2W6ycb"
      },
      "source": [
        "Next image, represents a experiment configuration:"
      ]
    },
    {
      "cell_type": "code",
      "execution_count": null,
      "metadata": {
        "id": "1iMMjqCa6ycb"
      },
      "outputs": [],
      "source": [
        "from IPython.display import Image\n",
        "Image(filename=\"img/abtest.png\")"
      ]
    },
    {
      "cell_type": "markdown",
      "metadata": {
        "id": "rbPorwJZ6ycb"
      },
      "source": [
        "How many time do you need to be sure of the test ?"
      ]
    },
    {
      "cell_type": "code",
      "execution_count": null,
      "metadata": {
        "id": "UP9r32Uy6ycb"
      },
      "outputs": [],
      "source": [
        "Image(filename=\"img/abtest_cont.png\")"
      ]
    },
    {
      "cell_type": "markdown",
      "metadata": {
        "id": "g_ONq3LH6ycb"
      },
      "source": [
        "### Let's study a financial example\n",
        "\n",
        "<a haref=\"https://www.bbvaaifactory.com/odile/\"> Odile hurracan</a> (<a href=\"https://github.com/bbvadata/bbvadata_papers/raw/master/20160925-d4gx-bbva-ungp.pdf\">Paper</a>)"
      ]
    },
    {
      "cell_type": "code",
      "execution_count": null,
      "metadata": {
        "id": "4jgYKO6I6ycb"
      },
      "outputs": [],
      "source": [
        "Image(filename=\"img/odile.png\")"
      ]
    },
    {
      "cell_type": "markdown",
      "metadata": {
        "id": "ZBVpsd3H6ycc"
      },
      "source": [
        "### Multiarm bandit\n",
        "\n",
        "Think about that you have five disccounts (prices) that you must apply on your customers.\n",
        "\n",
        "* Which price is better to **continuously** maximize revenue ?\n",
        "* Which cost every experiment running in time ?"
      ]
    },
    {
      "cell_type": "code",
      "execution_count": null,
      "metadata": {
        "id": "5RZTowcL6ycc"
      },
      "outputs": [],
      "source": [
        "Image(filename=\"img/mab.png\")"
      ]
    },
    {
      "cell_type": "code",
      "source": [
        "YouTubeVideo('nkyDGGQ5h60',width=640, height=480)"
      ],
      "metadata": {
        "id": "jlLR3211MXXw"
      },
      "execution_count": null,
      "outputs": []
    },
    {
      "cell_type": "markdown",
      "metadata": {
        "id": "NuJUEGIO6ycc"
      },
      "source": [
        "The density function of a random variable $X$ that follows a Beta distribution (with params  \\alpha, \\beta) is the next one:\n",
        "\n",
        "\\begin{align}\n",
        "f_X(x | \\; \\alpha, \\beta ) = \\frac{ x^{(\\alpha - 1)}(1-x)^{ (\\beta - 1) } }{B(\\alpha, \\beta) }\n",
        "\\end{align}\n",
        "\n",
        "Note:\n",
        "\n",
        "* With $\\alpha=1, \\beta=1$ we have a Uniform distribution"
      ]
    },
    {
      "cell_type": "code",
      "source": [
        "YouTubeVideo('juF3r12nM5A',width=640, height=480)"
      ],
      "metadata": {
        "id": "qZpLSCnMNAJo"
      },
      "execution_count": null,
      "outputs": []
    },
    {
      "cell_type": "code",
      "execution_count": null,
      "metadata": {
        "id": "MXFnZvSI6ycc"
      },
      "outputs": [],
      "source": [
        "# Define the number of arms (or options)\n",
        "n_arms = 10\n",
        "\n",
        "# Define one beta and alpha paramter for every arm\n",
        "betas = np.ones(n_arms)\n",
        "alphas = np.ones(n_arms)\n",
        "\n",
        "# Set trials and succes\n",
        "trials = np.zeros(n_arms, dtype=np.int16)\n",
        "success = np.zeros(n_arms, dtype=np.int16)\n",
        "\n",
        "best_arms = []\n",
        "for round in range(150):\n",
        "    # Draw a sample from beta distributions (for every arm)\n",
        "    theta = np.random.beta(alphas + success, betas + trials - success)\n",
        "    # Get the max value (select the best arm)\n",
        "    best_arm = np.argmax(theta)\n",
        "    # print(\"Best arm %d in round %d\" % (best_arm, round))\n",
        "    # Update results\n",
        "    trials[best_arm] += 1\n",
        "\n",
        "    # If feedback is positive, success +1\n",
        "    feedback = None\n",
        "    if best_arm == 5:\n",
        "        feedback = np.random.rand() < 0.5\n",
        "    else:\n",
        "        feedback = np.random.rand() < 0.3\n",
        "    # If positive, success +1 in the given arm\n",
        "    if feedback:\n",
        "        success[best_arm] += 1\n",
        "\n",
        "plt.bar([i for i in range(n_arms)], success)\n",
        "plt.title(\"Number of success for arm\")\n",
        "plt.show()\n",
        "\n",
        "x = np.linspace(0.001, 0.999, 200)\n",
        "for arm in range(n_arms):\n",
        "    y = beta(alphas[arm] + success[arm], betas[arm] + trials[arm] - success[arm]).pdf(x)\n",
        "    plt.plot(x, y, label=\"arm {}\".format(arm))\n",
        "plt.legend(loc=\"upper right\")\n",
        "plt.title(\"Beta distribution\")\n",
        "plt.show()\n"
      ]
    },
    {
      "cell_type": "markdown",
      "metadata": {
        "id": "-EwwYAbH6ycc"
      },
      "source": [
        "  <span style=\"color:blue\">Which are the best arms ?</span>"
      ]
    },
    {
      "cell_type": "markdown",
      "metadata": {
        "id": "Ig4zF4Zc6ycc"
      },
      "source": [
        "  <span style=\"color:blue\">Execute the experiment cell and plot $\\beta$ distributions. Discuss the results that you will find in every execution.</span>\n",
        "\n",
        "  <span style=\"color:blue\">How many tests (number of trial) do you need to be confident ?</span>\n",
        "\n",
        "  <span style=\"color:blue\">If there is a best arm, how cost all arm explorations?</span>"
      ]
    },
    {
      "cell_type": "markdown",
      "metadata": {
        "id": "h97zPYAI6ycc"
      },
      "source": []
    },
    {
      "cell_type": "markdown",
      "metadata": {
        "id": "0Dj1xFH36ycc"
      },
      "source": [
        "  <span style=\"color:blue\">Exercice: Propose a 500 trials experiment with a swith of arms success on iteration 250. Code and analize the results</span>"
      ]
    }
  ],
  "metadata": {
    "kernelspec": {
      "display_name": "Python 3",
      "language": "python",
      "name": "python3"
    },
    "language_info": {
      "codemirror_mode": {
        "name": "ipython",
        "version": 3
      },
      "file_extension": ".py",
      "mimetype": "text/x-python",
      "name": "python",
      "nbconvert_exporter": "python",
      "pygments_lexer": "ipython3",
      "version": "3.8.8"
    },
    "colab": {
      "provenance": []
    }
  },
  "nbformat": 4,
  "nbformat_minor": 0
}