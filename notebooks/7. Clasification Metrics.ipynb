{
  "nbformat": 4,
  "nbformat_minor": 0,
  "metadata": {
    "colab": {
      "provenance": []
    },
    "kernelspec": {
      "name": "python3",
      "display_name": "Python 3"
    },
    "language_info": {
      "name": "python"
    }
  },
  "cells": [
    {
      "cell_type": "markdown",
      "source": [
        "## Setting up"
      ],
      "metadata": {
        "id": "EaGjZ5FhRJST"
      }
    },
    {
      "cell_type": "code",
      "execution_count": null,
      "metadata": {
        "id": "cpPdVwB2Qx9n"
      },
      "outputs": [],
      "source": [
        "!git clone https://github.com/mciprian/ml_class_content.git\n",
        "!mv ml_class_content/notebooks/img img\n",
        "!mv ml_class_content/notebooks/data data\n",
        "!rm data/creditcard.zip\n",
        "!rm -fr ml_class_content/\n",
        "!pip install ydata-profiling"
      ]
    },
    {
      "cell_type": "markdown",
      "source": [
        "## Previously on ..."
      ],
      "metadata": {
        "id": "IV2BxuteRPdd"
      }
    },
    {
      "cell_type": "code",
      "source": [
        "from IPython.display import Image\n",
        "from IPython.display import YouTubeVideo\n",
        "Image(filename=\"img/purchase_kaggle.png\")"
      ],
      "metadata": {
        "id": "qMhS0QyTRu_M"
      },
      "execution_count": null,
      "outputs": []
    },
    {
      "cell_type": "code",
      "source": [
        "import pandas as pd\n",
        "import numpy as np\n",
        "from ydata_profiling import ProfileReport\n",
        "from sklearn.model_selection import train_test_split"
      ],
      "metadata": {
        "id": "h96drc6MSYnn"
      },
      "execution_count": null,
      "outputs": []
    },
    {
      "cell_type": "markdown",
      "source": [
        "## Solving last class exercise"
      ],
      "metadata": {
        "id": "LTxXyLW-S0My"
      }
    },
    {
      "cell_type": "code",
      "source": [
        "df_purchase = pd.read_csv(\n",
        "    \"data/training_sample.csv\", delimiter=\",\", quotechar='\"'\n",
        ")\n",
        "\n",
        "df_purchase_train, df_purchase_test = train_test_split(df_purchase, test_size=0.2)"
      ],
      "metadata": {
        "id": "7xs3QoNrSRJR"
      },
      "execution_count": null,
      "outputs": []
    },
    {
      "cell_type": "markdown",
      "source": [
        "Don't forget EDA"
      ],
      "metadata": {
        "id": "jpxgIkeqVUC_"
      }
    },
    {
      "cell_type": "code",
      "source": [
        "profile = ProfileReport(df_purchase_train)"
      ],
      "metadata": {
        "id": "q910yVxAVa8I"
      },
      "execution_count": null,
      "outputs": []
    },
    {
      "cell_type": "code",
      "source": [
        "profile.to_notebook_iframe()"
      ],
      "metadata": {
        "id": "SwnfB5ITYsF-"
      },
      "execution_count": null,
      "outputs": []
    },
    {
      "cell_type": "markdown",
      "source": [
        "After EDA we concluded to remove UserID (unique variable)"
      ],
      "metadata": {
        "id": "VQiGvu8TbvK7"
      }
    },
    {
      "cell_type": "code",
      "source": [
        "train_target = df_purchase_train.ordered\n",
        "df_purchase_train = df_purchase_train.drop(['UserID','ordered'],axis=1)"
      ],
      "metadata": {
        "id": "fsvj3xNJav-h"
      },
      "execution_count": null,
      "outputs": []
    },
    {
      "cell_type": "markdown",
      "source": [
        "Principal Components Analysis"
      ],
      "metadata": {
        "id": "8Y01OQbXT3GN"
      }
    },
    {
      "cell_type": "code",
      "source": [
        "from sklearn.decomposition import PCA\n",
        "from sklearn.pipeline import Pipeline\n",
        "from sklearn.ensemble import RandomForestClassifier\n",
        "\n",
        "import matplotlib.pyplot as plt\n",
        "from matplotlib.pyplot import figure"
      ],
      "metadata": {
        "id": "AsDOz8OiT6mk"
      },
      "execution_count": null,
      "outputs": []
    },
    {
      "cell_type": "code",
      "source": [
        "pca = PCA(n_components=df_purchase_train.shape[1])\n",
        "purchase_train_pca =  pca.fit_transform(df_purchase_train)"
      ],
      "metadata": {
        "id": "4bZ4Ghftlx70"
      },
      "execution_count": null,
      "outputs": []
    },
    {
      "cell_type": "code",
      "source": [
        "def draw_vector(v0, v1, ax=None):\n",
        "    ax = ax or plt.gca()\n",
        "    arrowprops = dict(arrowstyle=\"<-\", linewidth=2, shrinkA=0, shrinkB=0)\n",
        "    ax.annotate(\"\", v0, v1, arrowprops=arrowprops)\n",
        "\n",
        "plt.scatter(purchase_train_pca[:, 0], purchase_train_pca[:, 1], color=\"blue\",alpha=0.01, s=4)\n",
        "\n",
        "xs = pca.components_[0]\n",
        "ys = pca.components_[1]\n",
        "\n",
        "for i, varnames in enumerate(df_purchase_train.columns):\n",
        "    draw_vector([0,0],[xs[i],ys[i]])\n",
        "    plt.text(xs[i], ys[i], varnames)\n",
        "\n",
        "plt.xlabel('PC1')\n",
        "plt.ylabel('PC2')\n",
        "plt.title(\"Bi-plot\")\n",
        "plt.show()"
      ],
      "metadata": {
        "id": "gekzo2Yqrjfw"
      },
      "execution_count": null,
      "outputs": []
    },
    {
      "cell_type": "code",
      "source": [
        "np.cumsum(pca.explained_variance_/np.sum(pca.explained_variance_))"
      ],
      "metadata": {
        "id": "8jHdKWOYmQbY"
      },
      "execution_count": null,
      "outputs": []
    },
    {
      "cell_type": "markdown",
      "source": [
        "Let's choose k=12, >95% explained variance, seeting up the pipeline"
      ],
      "metadata": {
        "id": "26ETIAscrX7-"
      }
    },
    {
      "cell_type": "code",
      "source": [
        "pipeline = Pipeline([('pca', PCA(n_components=12)), ('rf', RandomForestClassifier(n_estimators=50))])"
      ],
      "metadata": {
        "id": "1Oe_LeNAVKgh"
      },
      "execution_count": null,
      "outputs": []
    },
    {
      "cell_type": "markdown",
      "source": [
        "Training the pipeline"
      ],
      "metadata": {
        "id": "kJ-C08k9w1q3"
      }
    },
    {
      "cell_type": "code",
      "source": [
        "pipeline_model = pipeline.fit(df_purchase_train, train_target)"
      ],
      "metadata": {
        "id": "lAXkLr88xrv0"
      },
      "execution_count": null,
      "outputs": []
    },
    {
      "cell_type": "code",
      "source": [
        "pipeline_model"
      ],
      "metadata": {
        "id": "8Rd0iEPo1u4J"
      },
      "execution_count": null,
      "outputs": []
    },
    {
      "cell_type": "markdown",
      "source": [
        "Using the model on test data"
      ],
      "metadata": {
        "id": "CGVKrBBGyJCm"
      }
    },
    {
      "cell_type": "code",
      "source": [
        "test_target = df_purchase_test.ordered\n",
        "df_purchase_test = df_purchase_test.drop(['UserID','ordered'],axis=1)"
      ],
      "metadata": {
        "id": "9LSKZi2lyNI4"
      },
      "execution_count": null,
      "outputs": []
    },
    {
      "cell_type": "code",
      "source": [
        "test_results = pipeline_model.predict(df_purchase_test)"
      ],
      "metadata": {
        "id": "EuvAvF26zAkB"
      },
      "execution_count": null,
      "outputs": []
    },
    {
      "cell_type": "code",
      "source": [
        "test_results"
      ],
      "metadata": {
        "id": "WCsXODq61Qj0"
      },
      "execution_count": null,
      "outputs": []
    },
    {
      "cell_type": "code",
      "source": [
        "test_target"
      ],
      "metadata": {
        "id": "E6kf9UEf1RU8"
      },
      "execution_count": null,
      "outputs": []
    },
    {
      "cell_type": "markdown",
      "source": [
        "## Time to measure"
      ],
      "metadata": {
        "id": "nj1DWtgO2G6x"
      }
    },
    {
      "cell_type": "markdown",
      "source": [
        "Calculate Accuracy and discuss the result"
      ],
      "metadata": {
        "id": "0dVK5CPC3BKe"
      }
    },
    {
      "cell_type": "code",
      "source": [],
      "metadata": {
        "id": "gWWPMZwK3D-e"
      },
      "execution_count": null,
      "outputs": []
    },
    {
      "cell_type": "code",
      "source": [],
      "metadata": {
        "id": "bjSq_sbzAW5F"
      },
      "execution_count": null,
      "outputs": []
    },
    {
      "cell_type": "markdown",
      "source": [
        "Do you remember confusion matrix?"
      ],
      "metadata": {
        "id": "nmQqYZNJ2hDk"
      }
    },
    {
      "cell_type": "code",
      "source": [
        "from sklearn.metrics import ConfusionMatrixDisplay\n",
        "import matplotlib.pyplot as plt"
      ],
      "metadata": {
        "id": "MiV2LbuR4A4k"
      },
      "execution_count": null,
      "outputs": []
    },
    {
      "cell_type": "code",
      "source": [
        "test_results.reshape(-1,1)"
      ],
      "metadata": {
        "id": "xG_vSyUp54Uc"
      },
      "execution_count": null,
      "outputs": []
    },
    {
      "cell_type": "code",
      "source": [
        "ConfusionMatrixDisplay.from_estimator(\n",
        "        pipeline_model,\n",
        "        df_purchase_test,\n",
        "        test_target,\n",
        "        cmap=plt.cm.Blues,\n",
        "        normalize=None,\n",
        "    )"
      ],
      "metadata": {
        "id": "vEUmWZkk4yOg"
      },
      "execution_count": null,
      "outputs": []
    },
    {
      "cell_type": "markdown",
      "source": [
        "Calculate Precision and Recall (Sensitiviy)"
      ],
      "metadata": {
        "id": "jkgksaz89C0v"
      }
    },
    {
      "cell_type": "code",
      "source": [],
      "metadata": {
        "id": "hnRS49EN9MM8"
      },
      "execution_count": null,
      "outputs": []
    },
    {
      "cell_type": "code",
      "source": [],
      "metadata": {
        "id": "dkeXw2ru9YKi"
      },
      "execution_count": null,
      "outputs": []
    },
    {
      "cell_type": "markdown",
      "source": [
        "## Precision, Recall and F1-Score explained"
      ],
      "metadata": {
        "id": "feOw7nauAbrO"
      }
    },
    {
      "cell_type": "code",
      "source": [
        "YouTubeVideo('8d3JbbSj-I8',width=640, height=480)"
      ],
      "metadata": {
        "id": "LOsaYptH_9zl"
      },
      "execution_count": null,
      "outputs": []
    },
    {
      "cell_type": "markdown",
      "source": [
        "## The F1-Score"
      ],
      "metadata": {
        "id": "4y5-18kC9_Yk"
      }
    },
    {
      "cell_type": "code",
      "source": [
        "from sklearn.metrics import f1_score"
      ],
      "metadata": {
        "id": "iPWCY2ux-EDR"
      },
      "execution_count": null,
      "outputs": []
    },
    {
      "cell_type": "code",
      "source": [
        "f1_score(test_target, test_results)"
      ],
      "metadata": {
        "id": "rouWoWwg_ZXT"
      },
      "execution_count": null,
      "outputs": []
    },
    {
      "cell_type": "markdown",
      "source": [
        "## ROC Curve and Area under the curve (AUC)\n",
        "\n",
        "ROC = Receiver Operating Characteristic"
      ],
      "metadata": {
        "id": "tx3aufxQBHuB"
      }
    },
    {
      "cell_type": "code",
      "source": [
        "YouTubeVideo('4jRBRDbJemM',width=640, height=480)"
      ],
      "metadata": {
        "id": "7Lpa_ZlWDONN"
      },
      "execution_count": null,
      "outputs": []
    },
    {
      "cell_type": "code",
      "source": [
        "from sklearn.metrics import RocCurveDisplay, roc_auc_score"
      ],
      "metadata": {
        "id": "oLC9x_N0DcPg"
      },
      "execution_count": null,
      "outputs": []
    },
    {
      "cell_type": "code",
      "source": [
        "RocCurveDisplay.from_predictions(y_pred=test_results,y_true=test_target)"
      ],
      "metadata": {
        "id": "--frlwXjDh-3"
      },
      "execution_count": null,
      "outputs": []
    },
    {
      "cell_type": "code",
      "source": [
        "roc_auc_score(test_target,test_results)"
      ],
      "metadata": {
        "id": "xgODIHJPEyL4"
      },
      "execution_count": null,
      "outputs": []
    },
    {
      "cell_type": "markdown",
      "source": [
        "Some people uses also de GINI coefficient\n",
        "\n",
        "$GINI = 2*AUC - 1$"
      ],
      "metadata": {
        "id": "2q6oxRsoITd3"
      }
    },
    {
      "cell_type": "code",
      "source": [
        "2*roc_auc_score(test_target,test_results) - 1"
      ],
      "metadata": {
        "id": "VD_1ooPjIuq9"
      },
      "execution_count": null,
      "outputs": []
    },
    {
      "cell_type": "markdown",
      "source": [
        "## Validation: The thrid dataset\n",
        "\n",
        "Ideally a third data set is used to measure the final version of the model. Once used the train/test/validation data sets must be regenerated\n",
        "\n",
        "Discussion: What are the benefits of using 3 data sets?"
      ],
      "metadata": {
        "id": "k_Gy41H2F6aB"
      }
    },
    {
      "cell_type": "code",
      "source": [],
      "metadata": {
        "id": "UslDpIi4H5xG"
      },
      "execution_count": null,
      "outputs": []
    },
    {
      "cell_type": "code",
      "source": [],
      "metadata": {
        "id": "5eeO7NuJH7tM"
      },
      "execution_count": null,
      "outputs": []
    },
    {
      "cell_type": "markdown",
      "source": [
        "Calculate Accuracy, F1-Score, AUC and GINI of the pipeline on validation dataset"
      ],
      "metadata": {
        "id": "flzHUBgwILgD"
      }
    },
    {
      "cell_type": "code",
      "source": [
        "df_purchase_validation = pd.read_csv(\n",
        "    \"data/testing_sample.csv\", delimiter=\",\", quotechar='\"'\n",
        "    )"
      ],
      "metadata": {
        "id": "S5fDGtPjJJRL"
      },
      "execution_count": null,
      "outputs": []
    },
    {
      "cell_type": "code",
      "source": [
        "df_purchase_validation.head()"
      ],
      "metadata": {
        "id": "OPz1S5T6JcQB"
      },
      "execution_count": null,
      "outputs": []
    },
    {
      "cell_type": "code",
      "source": [],
      "metadata": {
        "id": "AuLY9cnpJvLe"
      },
      "execution_count": null,
      "outputs": []
    },
    {
      "cell_type": "code",
      "source": [],
      "metadata": {
        "id": "vnb21i9-Jvr-"
      },
      "execution_count": null,
      "outputs": []
    },
    {
      "cell_type": "markdown",
      "source": [
        "## Improve the model\n",
        "\n",
        "Could you propose improvements to the analytical pipeline, report the metrics on validation dataset"
      ],
      "metadata": {
        "id": "oO3p3UvZKjtM"
      }
    },
    {
      "cell_type": "code",
      "source": [],
      "metadata": {
        "id": "Z8TVdQybK5An"
      },
      "execution_count": null,
      "outputs": []
    },
    {
      "cell_type": "code",
      "source": [],
      "metadata": {
        "id": "uWX1KWedK51V"
      },
      "execution_count": null,
      "outputs": []
    },
    {
      "cell_type": "markdown",
      "source": [
        "## The AutoML way: Autogluon"
      ],
      "metadata": {
        "id": "mO6Gsl8vNbhk"
      }
    },
    {
      "cell_type": "code",
      "source": [
        "!pip install torch==2.0.1+cpu torchvision==0.15.2+cpu --index-url https://download.pytorch.org/whl/cpu\n",
        "!pip install autogluon"
      ],
      "metadata": {
        "id": "d9VrBDyXLBjV"
      },
      "execution_count": null,
      "outputs": []
    },
    {
      "cell_type": "code",
      "source": [
        "import pandas as pd\n",
        "import numpy as np\n",
        "from sklearn.model_selection import train_test_split"
      ],
      "metadata": {
        "id": "_p0onh-HNMOq"
      },
      "execution_count": null,
      "outputs": []
    },
    {
      "cell_type": "code",
      "source": [
        "df_purchase = pd.read_csv(\n",
        "    \"data/training_sample.csv\", delimiter=\",\", quotechar='\"'\n",
        ")\n",
        "\n",
        "df_purchase_train, df_purchase_test = train_test_split(df_purchase, test_size=0.2)"
      ],
      "metadata": {
        "id": "sT5beF2nNuNY"
      },
      "execution_count": null,
      "outputs": []
    },
    {
      "cell_type": "code",
      "source": [
        "from autogluon.tabular import TabularDataset, TabularPredictor"
      ],
      "metadata": {
        "id": "fSobu28JNwIp"
      },
      "execution_count": null,
      "outputs": []
    },
    {
      "cell_type": "code",
      "source": [
        "train_data = TabularDataset(df_purchase)"
      ],
      "metadata": {
        "id": "vy82NsaEN2hf"
      },
      "execution_count": null,
      "outputs": []
    },
    {
      "cell_type": "code",
      "source": [
        "label = 'ordered'"
      ],
      "metadata": {
        "id": "hI0Qvr19ORQC"
      },
      "execution_count": null,
      "outputs": []
    },
    {
      "cell_type": "code",
      "source": [
        "predictor = TabularPredictor(label=label,eval_metric='f1').fit(train_data)"
      ],
      "metadata": {
        "id": "6DqGvyADOJe1"
      },
      "execution_count": null,
      "outputs": []
    },
    {
      "cell_type": "code",
      "source": [
        "#predictor.evaluate(TabularDataset(df_purchase_test), silent=True)"
      ],
      "metadata": {
        "id": "mGeheBl9RP8g"
      },
      "execution_count": null,
      "outputs": []
    },
    {
      "cell_type": "code",
      "source": [
        "predictor.leaderboard(TabularDataset(df_purchase_test))"
      ],
      "metadata": {
        "id": "f7FtOxbRR43Z"
      },
      "execution_count": null,
      "outputs": []
    }
  ]
}